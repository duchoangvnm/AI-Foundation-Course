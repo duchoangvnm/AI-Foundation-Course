{
  "nbformat": 4,
  "nbformat_minor": 0,
  "metadata": {
    "kernelspec": {
      "display_name": "Python 3",
      "language": "python",
      "name": "python3"
    },
    "language_info": {
      "codemirror_mode": {
        "name": "ipython",
        "version": 3
      },
      "file_extension": ".py",
      "mimetype": "text/x-python",
      "name": "python",
      "nbconvert_exporter": "python",
      "pygments_lexer": "ipython3",
      "version": "3.7.3"
    },
    "colab": {
      "name": "Python_basic.ipynb",
      "provenance": [],
      "collapsed_sections": [
        "xqhdn2QxQsbf",
        "KjU837ipRTmV",
        "qwX35sprZ37A",
        "pGag-MDoW-fD",
        "u3hzQ8JtW-gx",
        "24V-YBIIW-g5",
        "CFzRCuryW-ij",
        "2he_ZenDW-ik"
      ],
      "toc_visible": true
    }
  },
  "cells": [
    {
      "cell_type": "markdown",
      "metadata": {
        "id": "urfafd9mW-d3"
      },
      "source": [
        "BẠN CÓ THỂ XEM TÀI LIỆU BẰNG:\n",
        "\n",
        "\n",
        "1.   Github  &nbsp; <a href=\"https://github.com/quangvan99/tutorial_AI_ZUMP_ZERO/blob/master/LEVEL1/PYTHON.ipynb\" role=\"button\"><img class=\"notebook-badge-image\" src=\"https://img.shields.io/static/v1?label=&amp;message=View%20On%20GitHub&amp;color=586069&amp;logo=github&amp;labelColor=2f363d\"></a>&nbsp;\n",
        "2.   Colab &nbsp; <a href=\"https://colab.research.google.com/drive/1JTQ4cSO2PcBKNFVfQ71T8XQfGct7XcmQ?usp=sharing\"><img class=\"notebook-badge-image\" src=\"https://colab.research.google.com/assets/colab-badge.svg\" alt=\"Open In Colab\"></a>"
      ]
    },
    {
      "cell_type": "markdown",
      "metadata": {
        "id": "2LV6g3R2W-d7"
      },
      "source": [
        "## **INTRODUCTION**\n",
        "Không cần giới thiệu về python nữa. Nó hiện tại là ngôn ngữ xử lý cực mạnh trong cả Data Analytics, Machine Learning, Computing Science v.v..\n",
        "\n",
        "Ở đây những thứ cơ bản về 1 ngôn ngữ thì tôi không đề cập sâu, vì thế tôi sẽ tập trung demo những thứ khác hay ho hơn"
      ]
    },
    {
      "cell_type": "markdown",
      "metadata": {
        "id": "NiuzvATrW-d9"
      },
      "source": [
        "# **PYTHON CƠ BẢN**\n",
        "> Write by Hoang Duc\n",
        "\n"
      ]
    },
    {
      "cell_type": "markdown",
      "metadata": {
        "id": "egkp-tSoW-d_"
      },
      "source": [
        "### **NỘI DUNG:** \n",
        "\n",
        "1. Variable and Built-in Functions\n",
        "2. Function Construction\n",
        "3. Condition\n",
        "4. For Loop and While Loop\n",
        "5. Common Error\n",
        "5. Nhập xuất cơ bản\n",
        "6. Toán tử\n",
        "7. Rẽ nhánh if\n",
        "8. Vòng lặp\n",
        "9. List\n",
        "10. String\n",
        "\n",
        "> Xuyên suốt tutorial này chúng tôi sử dụng **Jupyter Notebook**\n"
      ]
    },
    {
      "cell_type": "markdown",
      "metadata": {
        "id": "BzANrrA3PCIp"
      },
      "source": [
        "### **1.Variable and Built-in Functions**"
      ]
    },
    {
      "cell_type": "markdown",
      "metadata": {
        "id": "xqhdn2QxQsbf"
      },
      "source": [
        "####**a.Variable**"
      ]
    },
    {
      "cell_type": "markdown",
      "metadata": {
        "id": "dIgYqRZNQ1fu"
      },
      "source": [
        "![](https://i.imgur.com/k5pkXOi.jpg)"
      ]
    },
    {
      "cell_type": "code",
      "metadata": {
        "id": "RgDkVXcKRb5N",
        "outputId": "ec2a4955-90bc-4d68-c013-8b89dfc724da",
        "colab": {
          "base_uri": "https://localhost:8080/"
        }
      },
      "source": [
        "#Tạo biến number_of_days có giá trị là 10\n",
        "number_of_days = 10\n",
        "print(number_of_days)\n",
        "print('Kiểu dữ liệu của biên number_of_days là ',type(number_of_days))\n",
        "#Tạo biến số distance có giá trị là 20.5\n",
        "distance = 20.5\n",
        "print(distance)\n",
        "print('Kiểu dữ liệu của biên distance là',type(distance))\n",
        "#Tạo biến chuỗi greetting có giá trị là \"Hello AI-VIET-NAM\"\n",
        "greetting = \"Hello AI-VIET-NAM\"\n",
        "print(greetting)\n",
        "print(\"Kiểu dữ liệu của biến greetting\",type(greetting))\n",
        "#Tạo biến boolean is_student có giá trị là True\n",
        "is_student = True\n",
        "print(is_student)\n",
        "print('Kiểu dữ liệu của biến is_student',type(is_student))"
      ],
      "execution_count": null,
      "outputs": [
        {
          "output_type": "stream",
          "text": [
            "10\n",
            "Kiểu dữ liệu của biên number_of_days là  <class 'int'>\n",
            "20.5\n",
            "Kiểu dữ liệu của biên distance là <class 'float'>\n",
            "Hello AI-VIET-NAM\n",
            "Kiểu dữ liệu của biến greetting <class 'str'>\n",
            "True\n",
            "Kiểu dữ liệu của biến is_student <class 'bool'>\n"
          ],
          "name": "stdout"
        }
      ]
    },
    {
      "cell_type": "markdown",
      "metadata": {
        "id": "Q3SSPERcROve"
      },
      "source": [
        "![](https://i.imgur.com/nwHEJkA.jpg)"
      ]
    },
    {
      "cell_type": "markdown",
      "metadata": {
        "id": "KjU837ipRTmV"
      },
      "source": [
        "####**b.Built-in Functions**"
      ]
    },
    {
      "cell_type": "markdown",
      "metadata": {
        "id": "AdaL9b38VLaE"
      },
      "source": [
        "![](https://i.imgur.com/2XU7MUG.jpg)"
      ]
    },
    {
      "cell_type": "markdown",
      "metadata": {
        "id": "IeIEGPM9Wc8i"
      },
      "source": [
        "![](https://i.imgur.com/fS71NuA.jpg)"
      ]
    },
    {
      "cell_type": "code",
      "metadata": {
        "id": "QyHpP0fsVkkp",
        "outputId": "04e40979-c3d4-434a-ee73-a1fdc58e1f55",
        "colab": {
          "base_uri": "https://localhost:8080/"
        }
      },
      "source": [
        "#Yêu cầu user nhập thông tin từ bàn phím\n",
        "input_data = input('Hãy nhập tên của bạn :')\n",
        "print(input_data)\n",
        "#Lấy kiểu dữ liệu của input_data\n",
        "data_type_input_data = type(input_data)\n",
        "print(data_type_input_data)"
      ],
      "execution_count": null,
      "outputs": [
        {
          "output_type": "stream",
          "text": [
            "Hãy nhập tên của bạn :AIVIETNAM\n",
            "AIVIETNAM\n",
            "<class 'str'>\n"
          ],
          "name": "stdout"
        }
      ]
    },
    {
      "cell_type": "markdown",
      "metadata": {
        "id": "6m5AdAVkXuki"
      },
      "source": [
        "![](https://i.imgur.com/lJzZJpT.jpg)"
      ]
    },
    {
      "cell_type": "code",
      "metadata": {
        "id": "j1MBwjH1YCHh",
        "outputId": "3f7bb37c-4f3d-41a3-e311-200cd9950807",
        "colab": {
          "base_uri": "https://localhost:8080/"
        }
      },
      "source": [
        "#Yêu cầu user nhập thông tin từ bàn phím\n",
        "input_data = input(\"Hãy nhập tuổi của bạn \")\n",
        "print('Kiểu dữ liệu input_data khi chưa ếp:',type(input_data))\n",
        "#Ép kiểu dữ liệu từ string về int\n",
        "input_data_int = int(input_data)\n",
        "# Lấy kiểu dữ liệu của input_data\n",
        "data_type = type(input_data_int)\n",
        "print('Kiểu dữ liệu khi bị ép từ string sang int :',data_type)"
      ],
      "execution_count": null,
      "outputs": [
        {
          "output_type": "stream",
          "text": [
            "Hãy nhập tuổi của bạn 32\n",
            "Kiểu dữ liệu input_data khi chưa ếp: <class 'str'>\n",
            "Kiểu dữ liệu khi bị ép từ string sang int : <class 'int'>\n"
          ],
          "name": "stdout"
        }
      ]
    },
    {
      "cell_type": "code",
      "metadata": {
        "id": "hlv7PmEcZQpR",
        "outputId": "717be1dd-93f6-403b-e962-c3300535e3a0",
        "colab": {
          "base_uri": "https://localhost:8080/"
        }
      },
      "source": [
        "#Yêu cầu user nhập thông tin từ bàn phím\n",
        "input_data = input(\"Hãy nhập tuổi của bạn \")\n",
        "print('Kiểu dữ liệu input_data khi chưa ếp:',type(input_data))\n",
        "#Ép kiểu dữ liệu từ string về float\n",
        "input_data_int = float(input_data)\n",
        "# Lấy kiểu dữ liệu của input_data\n",
        "data_type = type(input_data_int)\n",
        "print('Kiểu dữ liệu khi bị ép từ string sang int :',data_type)"
      ],
      "execution_count": null,
      "outputs": [
        {
          "output_type": "stream",
          "text": [
            "Hãy nhập tuổi của bạn 32\n",
            "Kiểu dữ liệu input_data khi chưa ếp: <class 'str'>\n",
            "Kiểu dữ liệu khi bị ép từ string sang int : <class 'float'>\n"
          ],
          "name": "stdout"
        }
      ]
    },
    {
      "cell_type": "markdown",
      "metadata": {
        "id": "qwX35sprZ37A"
      },
      "source": [
        "####**c.Basic Operators**"
      ]
    },
    {
      "cell_type": "markdown",
      "metadata": {
        "id": "03qtV9s-Z9-P"
      },
      "source": [
        "![](https://i.imgur.com/9bfOuyk.jpg)"
      ]
    },
    {
      "cell_type": "markdown",
      "metadata": {
        "id": "XiqiJfYWaEIf"
      },
      "source": [
        "![](https://i.imgur.com/llJDp5H.jpg)"
      ]
    },
    {
      "cell_type": "markdown",
      "metadata": {
        "id": "UOizESGIaRcW"
      },
      "source": [
        "![](https://i.imgur.com/5ZD41sc.jpg)"
      ]
    },
    {
      "cell_type": "markdown",
      "metadata": {
        "id": "-AfRWWm-awMO"
      },
      "source": [
        "### **2.Functions**"
      ]
    },
    {
      "cell_type": "markdown",
      "metadata": {
        "id": "r9i2Fi_sbZyl"
      },
      "source": [
        "![](https://i.imgur.com/7DtmRNN.jpg)"
      ]
    },
    {
      "cell_type": "markdown",
      "metadata": {
        "id": "it13TUkQbno-"
      },
      "source": [
        "![](https://i.imgur.com/rZFBSJe.jpg)"
      ]
    },
    {
      "cell_type": "markdown",
      "metadata": {
        "id": "T529RKqDbqY-"
      },
      "source": [
        "![](https://i.imgur.com/pWayRdF.jpg)"
      ]
    },
    {
      "cell_type": "code",
      "metadata": {
        "id": "FyaEQu9ZcfvK",
        "outputId": "6bb3f4e5-b5b4-4603-a857-30f664fe3687",
        "colab": {
          "base_uri": "https://localhost:8080/"
        }
      },
      "source": [
        "def compute_rectangle_area(height=0,width = 0):\n",
        "  '''\n",
        "    This function aims to compute area for a a rectangle.\n",
        "    height --- the height of the rectangle \n",
        "    width  --- the width of the rectangle\n",
        "    This function returns the area of the rectangle \n",
        "  '''\n",
        "  area = height*width\n",
        "  return area\n",
        "area1 = compute_rectangle_area(5,0)\n",
        "print('area l:',area1)\n",
        "\n",
        "area2 = compute_rectangle_area(height=5,width=6)\n",
        "print('area 2:',area2)\n",
        "\n",
        "area3 = compute_rectangle_area(width=5,height=6)\n",
        "print('area 3:',area3)\n",
        "\n",
        "area4 = compute_rectangle_area(width=6,height=5)\n",
        "print('area 4:',area4)\n",
        "\n",
        "area5 = compute_rectangle_area()\n",
        "print('area 5:',area5)\n"
      ],
      "execution_count": null,
      "outputs": [
        {
          "output_type": "stream",
          "text": [
            "area l: 0\n",
            "area 2: 30\n",
            "area 3: 30\n",
            "area 4: 30\n",
            "area 5: 0\n"
          ],
          "name": "stdout"
        }
      ]
    },
    {
      "cell_type": "markdown",
      "metadata": {
        "id": "c1QacjQdhGGt"
      },
      "source": [
        "### **3.Condition**"
      ]
    },
    {
      "cell_type": "markdown",
      "metadata": {
        "id": "K0qHhOJ2hQzD"
      },
      "source": [
        "![](https://i.imgur.com/uWIZTsy.jpg)"
      ]
    },
    {
      "cell_type": "markdown",
      "metadata": {
        "id": "ysn_5YM2RFhP"
      },
      "source": [
        "![](https://i.imgur.com/mDcIT1v.jpg)"
      ]
    },
    {
      "cell_type": "markdown",
      "metadata": {
        "id": "q8TMqI-eRM7j"
      },
      "source": [
        "![](https://i.imgur.com/pcyvM7C.jpg)"
      ]
    },
    {
      "cell_type": "code",
      "metadata": {
        "id": "PbgLZjbmRonO",
        "outputId": "cf9089f6-a264-46b2-e877-a49f52b8f6f0",
        "colab": {
          "base_uri": "https://localhost:8080/"
        }
      },
      "source": [
        "def ReLU(x):\n",
        "  '''\n",
        "    This function aims to compute ReLU for a value x.\n",
        "    x -- an input value\n",
        "    This function return the ReLU of x \n",
        "\n",
        "  '''\n",
        "  result = 0\n",
        "  if x>0 :\n",
        "    result = x\n",
        "  return result\n",
        "value1 = ReLU(x=5)\n",
        "value2 = ReLU(x=-2)\n",
        "print(value1)\n",
        "print(value2)"
      ],
      "execution_count": null,
      "outputs": [
        {
          "output_type": "stream",
          "text": [
            "5\n",
            "0\n"
          ],
          "name": "stdout"
        }
      ]
    },
    {
      "cell_type": "markdown",
      "metadata": {
        "id": "5cjpx7FMRPYh"
      },
      "source": [
        "![](https://i.imgur.com/2TnNvUa.jpg)"
      ]
    },
    {
      "cell_type": "markdown",
      "metadata": {
        "id": "5VnzyzyBRSx4"
      },
      "source": [
        "![](https://i.imgur.com/TAEUrcB.jpg)"
      ]
    },
    {
      "cell_type": "markdown",
      "metadata": {
        "id": "367nCqLORWcB"
      },
      "source": [
        "![](https://i.imgur.com/HeByi10.jpg)"
      ]
    },
    {
      "cell_type": "markdown",
      "metadata": {
        "id": "lx3JTrKSRZfI"
      },
      "source": [
        "![](https://i.imgur.com/ksAA3xb.jpg)"
      ]
    },
    {
      "cell_type": "markdown",
      "metadata": {
        "id": "wUx3SscPRcYS"
      },
      "source": [
        "### **3.For Loop and While Loop**"
      ]
    },
    {
      "cell_type": "markdown",
      "metadata": {
        "id": "hFNDUExiYhXf"
      },
      "source": [
        "![](https://i.imgur.com/s6esAXi.jpg)"
      ]
    },
    {
      "cell_type": "markdown",
      "metadata": {
        "id": "rOXR8mIaVCdL"
      },
      "source": [
        "![](https://i.imgur.com/wPeHSUB.jpg)"
      ]
    },
    {
      "cell_type": "markdown",
      "metadata": {
        "id": "tULbBM3aYsQA"
      },
      "source": [
        "![](https://i.imgur.com/dE4Qk6c.jpg)"
      ]
    },
    {
      "cell_type": "markdown",
      "metadata": {
        "id": "tcEFYk7yYuh1"
      },
      "source": [
        "![](https://i.imgur.com/yHEXPYT.jpg)"
      ]
    },
    {
      "cell_type": "markdown",
      "metadata": {
        "id": "Fx8q-YqhYy6Z"
      },
      "source": [
        "![](https://i.imgur.com/4xR7Mv3.jpg)"
      ]
    },
    {
      "cell_type": "markdown",
      "metadata": {
        "id": "MB64Rw9EY3EV"
      },
      "source": [
        "![](https://i.imgur.com/CIRzDpn.jpg)"
      ]
    },
    {
      "cell_type": "markdown",
      "metadata": {
        "id": "Sae4iU2WY7FR"
      },
      "source": [
        "![](https://i.imgur.com/QLPX1eC.jpg)"
      ]
    },
    {
      "cell_type": "markdown",
      "metadata": {
        "id": "loJ4KVshY_02"
      },
      "source": [
        "![](https://i.imgur.com/zudU7Wb.jpg)"
      ]
    },
    {
      "cell_type": "markdown",
      "metadata": {
        "id": "Q0l7AyYdZBy_"
      },
      "source": [
        "![](https://i.imgur.com/K2h6Jqb.jpg)"
      ]
    },
    {
      "cell_type": "markdown",
      "metadata": {
        "id": "gGeO3oVPZCse"
      },
      "source": [
        "![](https://i.imgur.com/GwYVZwH.jpg)"
      ]
    },
    {
      "cell_type": "markdown",
      "metadata": {
        "id": "815zmRkWZCWm"
      },
      "source": [
        "![](https://i.imgur.com/K6BLVRm.jpg)"
      ]
    },
    {
      "cell_type": "markdown",
      "metadata": {
        "id": "kPU5NcAcY_Pp"
      },
      "source": [
        "![](https://i.imgur.com/qctHlqL.jpg)"
      ]
    },
    {
      "cell_type": "markdown",
      "metadata": {
        "id": "bO9uWmt2X5y5"
      },
      "source": [
        "![](https://i.imgur.com/LpKiex7.jpg)"
      ]
    },
    {
      "cell_type": "markdown",
      "metadata": {
        "id": "pX3zfjYNZcEP"
      },
      "source": [
        "![](https://i.imgur.com/UzgVZvq.jpg)"
      ]
    },
    {
      "cell_type": "markdown",
      "metadata": {
        "id": "ZXpLci26ZhaY"
      },
      "source": [
        "![](https://i.imgur.com/ZguDVbQ.jpg)"
      ]
    },
    {
      "cell_type": "markdown",
      "metadata": {
        "id": "NbYFylWenk9S"
      },
      "source": [
        "![](https://i.imgur.com/bk85bK5.jpg)"
      ]
    },
    {
      "cell_type": "markdown",
      "metadata": {
        "id": "F6MJ_nM9noZ6"
      },
      "source": [
        "![](https://i.imgur.com/IuaZA7J.jpg)"
      ]
    },
    {
      "cell_type": "markdown",
      "metadata": {
        "id": "g0kzQwdJnsiB"
      },
      "source": [
        "![](https://i.imgur.com/fkTSJKM.jpg)"
      ]
    },
    {
      "cell_type": "markdown",
      "metadata": {
        "id": "xBtLE3R_nwIJ"
      },
      "source": [
        "![](https://i.imgur.com/TDC7NDe.jpg)"
      ]
    },
    {
      "cell_type": "markdown",
      "metadata": {
        "id": "YaaIstKknzrJ"
      },
      "source": [
        ""
      ]
    },
    {
      "cell_type": "markdown",
      "metadata": {
        "id": "vNepu6wgW-eB"
      },
      "source": [
        "### **1.Nhập xuất cơ bản**"
      ]
    },
    {
      "cell_type": "markdown",
      "metadata": {
        "id": "EylNsFQ7RKdJ"
      },
      "source": [
        ""
      ]
    },
    {
      "cell_type": "markdown",
      "metadata": {
        "id": "AjCGAZqwW-eC"
      },
      "source": [
        "\n",
        "#### **In ra màn hình**\n",
        "\n",
        "```python\n",
        "print(seft, *args, sep=' ', end = '\\n', file=None)\n",
        "```"
      ]
    },
    {
      "cell_type": "code",
      "metadata": {
        "id": "lkZIYZ8YW-eE",
        "outputId": "52993b7d-d147-4993-edc0-cb7c59313387",
        "colab": {
          "base_uri": "https://localhost:8080/"
        }
      },
      "source": [
        "# In dữ liệu cách nhau bởi dấu ','\n",
        "print(1,2,3,4,5,6, sep = ',')"
      ],
      "execution_count": null,
      "outputs": [
        {
          "output_type": "stream",
          "text": [
            "1,2,3,4,5,6\n"
          ],
          "name": "stdout"
        }
      ]
    },
    {
      "cell_type": "markdown",
      "metadata": {
        "id": "kllpr0erW-eN"
      },
      "source": [
        "\n",
        "#### **Nhập từ bàn phím**\n",
        "\n",
        "```python\n",
        "input(message)\n",
        "```\n",
        "\n"
      ]
    },
    {
      "cell_type": "code",
      "metadata": {
        "id": "Um-SM5krW-eO",
        "outputId": "29164b1b-57d2-49bd-9188-1039296960ed",
        "colab": {
          "base_uri": "https://localhost:8080/"
        }
      },
      "source": [
        "# Nhập số int a xuất ra màn hình tổng a+2\n",
        "a = int(input(\"nhập:=\"))\n",
        "print(a+2)"
      ],
      "execution_count": null,
      "outputs": [
        {
          "output_type": "stream",
          "text": [
            "nhập:=7\n",
            "9\n"
          ],
          "name": "stdout"
        }
      ]
    },
    {
      "cell_type": "markdown",
      "metadata": {
        "id": "eSf3OW56W-eW"
      },
      "source": [
        "### **2.Toán tử**"
      ]
    },
    {
      "cell_type": "markdown",
      "metadata": {
        "id": "HDhJvaGWW-eX"
      },
      "source": [
        "\n",
        "Toán tử trong python được liệt kê ngắn gọn ở hình dưới đây: \n",
        "\n",
        "![](https://i.imgur.com/T1Je9Se.png)"
      ]
    },
    {
      "cell_type": "markdown",
      "metadata": {
        "id": "j-PqEQtIW-eZ"
      },
      "source": [
        "* VD1: Nhập 2 số nguyên a, b và in ra tổng của chúng"
      ]
    },
    {
      "cell_type": "code",
      "metadata": {
        "scrolled": false,
        "id": "WajKAw4jW-ea",
        "outputId": "f1760372-2db0-4960-ddbe-33accbbb8ca2"
      },
      "source": [
        "â = int(input(\"nhập a = \"))\n",
        "b = int(input(\"nhập b = \"))\n",
        "print(a+b)"
      ],
      "execution_count": null,
      "outputs": [
        {
          "output_type": "stream",
          "text": [
            "nhập a = 4\n",
            "nhập b = 5\n",
            "9\n"
          ],
          "name": "stdout"
        }
      ]
    },
    {
      "cell_type": "markdown",
      "metadata": {
        "id": "69pBXIpeW-eh"
      },
      "source": [
        "* VD2: in ra kết quả 2 > 3"
      ]
    },
    {
      "cell_type": "code",
      "metadata": {
        "id": "WHmnZa9PW-ej",
        "outputId": "78bba400-dfa7-4dfd-d03e-e78ad53658f6"
      },
      "source": [
        "print(2>3)"
      ],
      "execution_count": null,
      "outputs": [
        {
          "output_type": "stream",
          "text": [
            "False\n"
          ],
          "name": "stdout"
        }
      ]
    },
    {
      "cell_type": "markdown",
      "metadata": {
        "id": "qVpArelBW-eq"
      },
      "source": [
        "### **3.Rẽ nhánh if**"
      ]
    },
    {
      "cell_type": "markdown",
      "metadata": {
        "id": "FSMxZWebW-er"
      },
      "source": [
        "```python\n",
        "if condition:\n",
        "    # Nếu condition đúng thì khối lệnh này được thực thi\n",
        "elif condition2:\n",
        "    # Nếu condition2 đúng thì khối lệnh này được thực thi\n",
        "else:\n",
        "    # còn lại\n",
        "```\n"
      ]
    },
    {
      "cell_type": "markdown",
      "metadata": {
        "id": "J72gRfeJW-et"
      },
      "source": [
        "* VD1: Nhập tuổi. Nếu 11 <= tuổi <= 19 thì in ra \"Bạn đang tuổi teen\" ngược lại in ra \"Hazzzz\""
      ]
    },
    {
      "cell_type": "code",
      "metadata": {
        "id": "-Hp5b_VsW-eu",
        "outputId": "6f5739b4-6493-4e00-f017-66afaa586617"
      },
      "source": [
        "tuoi = int(input(\"nhập tuoir = \"))\n",
        "if tuoi > 10 and tuoi < 20:\n",
        "    print(\"Bạn đang tuổi teen!\")\n",
        "else:\n",
        "    print(\"Hazzzzzz\")"
      ],
      "execution_count": null,
      "outputs": [
        {
          "output_type": "stream",
          "text": [
            "nhập tuoir = 12\n",
            "Bạn đang tuổi teen!\n"
          ],
          "name": "stdout"
        }
      ]
    },
    {
      "cell_type": "markdown",
      "metadata": {
        "id": "9Por3bp3W-e2"
      },
      "source": [
        "* VD2: Nhập a,b,c,d in ra số lớn nhất"
      ]
    },
    {
      "cell_type": "code",
      "metadata": {
        "scrolled": true,
        "id": "qE8sMaXHW-e3",
        "outputId": "7873f229-e518-4e7d-ec00-412e812feb0c"
      },
      "source": [
        "a = int(input(\"Nhập a = \"))\n",
        "b = int(input(\"Nhập b = \"))\n",
        "c = int(input(\"Nhập c = \"))\n",
        "d = int(input(\"Nhập d = \"))\n",
        "\n",
        "max = a\n",
        "if (b > max):\n",
        "    max = b\n",
        "if (c > max):\n",
        "    max = c\n",
        "if (d > max):\n",
        "    max = d\n",
        "\n",
        "print(\"max = \", max)"
      ],
      "execution_count": null,
      "outputs": [
        {
          "output_type": "stream",
          "text": [
            "Nhập a = 1\n",
            "Nhập b = 2\n",
            "Nhập c = 3\n",
            "Nhập d = 4\n",
            "max =  4\n"
          ],
          "name": "stdout"
        }
      ]
    },
    {
      "cell_type": "markdown",
      "metadata": {
        "id": "CDTdlgbhW-e-"
      },
      "source": [
        "### **4.Vòng lặp**"
      ]
    },
    {
      "cell_type": "markdown",
      "metadata": {
        "id": "cuflkSwpW-e_"
      },
      "source": [
        "Trong python, thường người ta sẽ dùng hàm sẵn có để xử lý. Ở những trường hợp số lượng data ít ta có thể dùng vòng lặp."
      ]
    },
    {
      "cell_type": "markdown",
      "metadata": {
        "id": "Zxt1ydLPW-fB"
      },
      "source": [
        "#### **for loop**"
      ]
    },
    {
      "cell_type": "markdown",
      "metadata": {
        "id": "tr0SwfilW-fC"
      },
      "source": [
        "\n",
        "\n",
        "```python\n",
        "for element in iterable:\n",
        "    #khối lệnh\n",
        "```\n",
        "Trong đó iterable:\n",
        "  *   String\n",
        "  *   Tuple\n",
        "  *   List\n",
        "  *   Dictionary\n",
        "  *   range()\n",
        "\n",
        "\n"
      ]
    },
    {
      "cell_type": "markdown",
      "metadata": {
        "id": "pGag-MDoW-fD"
      },
      "source": [
        "#### **while loop**"
      ]
    },
    {
      "cell_type": "markdown",
      "metadata": {
        "id": "bVP45AwAW-fE"
      },
      "source": [
        "```python\n",
        "while condition:\n",
        "    #khối lệnh\n",
        "```"
      ]
    },
    {
      "cell_type": "markdown",
      "metadata": {
        "id": "DMPhJqd4W-fG"
      },
      "source": [
        "### **5.List**"
      ]
    },
    {
      "cell_type": "markdown",
      "metadata": {
        "id": "6GmhDn99W-fH"
      },
      "source": [
        "\n",
        "\n",
        "> List trong Python là một kiểu dữ liệu cho phép lưu trữ nhiều kiểu dữ liệu khác\n",
        "\n",
        "\n"
      ]
    },
    {
      "cell_type": "markdown",
      "metadata": {
        "id": "nT7dKKgvW-fI"
      },
      "source": [
        "\n",
        "#### **Khởi tạo**\n",
        "> sử dụng cặp dấu []\n",
        "\n",
        "```python\n",
        "# Tạo list lưu trữ các số nguyên\n",
        "ls1 = [2, 9, 12]\n",
        "# Tạo list lưu trữ các xâu ký tự\n",
        "ls2 = [\"Quang\", \"Tiem\", \"Dung\"]\n",
        "# Tạo list lưu trữ các kiểu dữ liệu khác nhau\n",
        "ls3 = [7, 3.5, \"ZumpZero\"]\n",
        "```"
      ]
    },
    {
      "cell_type": "markdown",
      "metadata": {
        "id": "ifYfTmPcW-fJ"
      },
      "source": [
        "#### **Truy xuất phần tử**\n",
        "\n"
      ]
    },
    {
      "cell_type": "markdown",
      "metadata": {
        "id": "NTa6h33xW-fK"
      },
      "source": [
        "> ##### sử dụng cặp dấu []"
      ]
    },
    {
      "cell_type": "code",
      "metadata": {
        "id": "MYUVq_HnW-fM",
        "outputId": "e91c86ae-330a-4668-a045-b62f6d1d584d"
      },
      "source": [
        "# Tạo list lưu trữ các xâu ký tự\n",
        "ls = [\"Quang\", \"Tiem\", \"Dung\"]\n",
        "# Truy cập 'Tiem'\n",
        "print(ls[1])"
      ],
      "execution_count": null,
      "outputs": [
        {
          "output_type": "stream",
          "text": [
            "Tiem\n"
          ],
          "name": "stdout"
        }
      ]
    },
    {
      "cell_type": "markdown",
      "metadata": {
        "id": "kgUkqrFiW-fS"
      },
      "source": [
        ""
      ]
    },
    {
      "cell_type": "markdown",
      "metadata": {
        "id": "qX1XTROTW-fU"
      },
      "source": [
        "#### **Hàm và phương thức**"
      ]
    },
    {
      "cell_type": "markdown",
      "metadata": {
        "id": "DKpqHnXyW-fV"
      },
      "source": [
        "> ##### **len()**: độ dài"
      ]
    },
    {
      "cell_type": "code",
      "metadata": {
        "id": "rO-TefEGW-fW",
        "outputId": "cb44806a-2822-45db-e4bf-5603c4bd8ed4"
      },
      "source": [
        "ls = [1,2,3]\n",
        "print(len(ls))"
      ],
      "execution_count": null,
      "outputs": [
        {
          "output_type": "stream",
          "text": [
            "3\n"
          ],
          "name": "stdout"
        }
      ]
    },
    {
      "cell_type": "markdown",
      "metadata": {
        "id": "v2aldDOnW-fe"
      },
      "source": [
        "> ##### **max(), min()**\n"
      ]
    },
    {
      "cell_type": "code",
      "metadata": {
        "scrolled": true,
        "id": "nBhtQM2hW-ff",
        "outputId": "5efb7b87-1ae3-4e5d-bb0a-664e20b290f5"
      },
      "source": [
        "ls = [1, 2, 3]\n",
        "print('max =', max(ls))\n",
        "print('min =', min(ls))"
      ],
      "execution_count": null,
      "outputs": [
        {
          "output_type": "error",
          "ename": "TypeError",
          "evalue": "'int' object is not callable",
          "traceback": [
            "\u001b[1;31m---------------------------------------------------------------------------\u001b[0m",
            "\u001b[1;31mTypeError\u001b[0m                                 Traceback (most recent call last)",
            "\u001b[1;32m<ipython-input-16-accd4199573e>\u001b[0m in \u001b[0;36m<module>\u001b[1;34m\u001b[0m\n\u001b[0;32m      1\u001b[0m \u001b[0mls\u001b[0m \u001b[1;33m=\u001b[0m \u001b[1;33m[\u001b[0m\u001b[1;36m1\u001b[0m\u001b[1;33m,\u001b[0m \u001b[1;36m2\u001b[0m\u001b[1;33m,\u001b[0m \u001b[1;36m3\u001b[0m\u001b[1;33m]\u001b[0m\u001b[1;33m\u001b[0m\u001b[1;33m\u001b[0m\u001b[0m\n\u001b[1;32m----> 2\u001b[1;33m \u001b[0mprint\u001b[0m\u001b[1;33m(\u001b[0m\u001b[1;34m'max ='\u001b[0m\u001b[1;33m,\u001b[0m \u001b[0mmax\u001b[0m\u001b[1;33m(\u001b[0m\u001b[0mls\u001b[0m\u001b[1;33m)\u001b[0m\u001b[1;33m)\u001b[0m\u001b[1;33m\u001b[0m\u001b[1;33m\u001b[0m\u001b[0m\n\u001b[0m\u001b[0;32m      3\u001b[0m \u001b[0mprint\u001b[0m\u001b[1;33m(\u001b[0m\u001b[1;34m'min ='\u001b[0m\u001b[1;33m,\u001b[0m \u001b[0mmin\u001b[0m\u001b[1;33m(\u001b[0m\u001b[0mls\u001b[0m\u001b[1;33m)\u001b[0m\u001b[1;33m)\u001b[0m\u001b[1;33m\u001b[0m\u001b[1;33m\u001b[0m\u001b[0m\n",
            "\u001b[1;31mTypeError\u001b[0m: 'int' object is not callable"
          ]
        }
      ]
    },
    {
      "cell_type": "markdown",
      "metadata": {
        "id": "xHyEm3OZW-fl"
      },
      "source": [
        "> ##### **.append()**: Thêm 1 element"
      ]
    },
    {
      "cell_type": "code",
      "metadata": {
        "id": "IFQe87mCW-fm",
        "outputId": "4ff5f0e3-68ab-4e99-fbf3-0d1cfaa8b780"
      },
      "source": [
        "ls = []\n",
        "ls.append(1)\n",
        "ls.append(2)\n",
        "ls.append(3)\n",
        "print(ls)"
      ],
      "execution_count": null,
      "outputs": [
        {
          "output_type": "stream",
          "text": [
            "[1, 2, 3]\n"
          ],
          "name": "stdout"
        }
      ]
    },
    {
      "cell_type": "markdown",
      "metadata": {
        "id": "oCFVLxfKW-ft"
      },
      "source": [
        "> ##### **.insert()**: thêm 1 element vào vị trí"
      ]
    },
    {
      "cell_type": "code",
      "metadata": {
        "id": "Bhep26yYW-fu",
        "outputId": "ca2d7062-7d2a-4f1c-c556-27a76c0c1984"
      },
      "source": [
        "ls = ['q', 'u', 'a', 'g']\n",
        "# Chèn 'n' vào vị trí thứ n trong list\n",
        "ls.insert(3, 'n')\n",
        "print(ls)"
      ],
      "execution_count": null,
      "outputs": [
        {
          "output_type": "stream",
          "text": [
            "['q', 'u', 'a', 'n', 'g']\n"
          ],
          "name": "stdout"
        }
      ]
    },
    {
      "cell_type": "markdown",
      "metadata": {
        "id": "fuML9R3cW-f0"
      },
      "source": [
        "> ##### **.pop()**: xóa một element tại vị trí"
      ]
    },
    {
      "cell_type": "code",
      "metadata": {
        "id": "7asAtNvDW-f1",
        "outputId": "6d0a2f5c-b35d-4c65-cfae-9bb299efe28e"
      },
      "source": [
        "ls = ['q', 'u', 'a', 'n', 'o', 'g']\n",
        "# Xóa phần tử thứ 4 khỏi list\n",
        "ls.pop(4)\n",
        "print(ls)"
      ],
      "execution_count": null,
      "outputs": [
        {
          "output_type": "stream",
          "text": [
            "['q', 'u', 'a', 'n', 'g']\n"
          ],
          "name": "stdout"
        }
      ]
    },
    {
      "cell_type": "markdown",
      "metadata": {
        "id": "3FQn9pirW-f8"
      },
      "source": [
        "> ##### **.remove()**: xoá 1 element"
      ]
    },
    {
      "cell_type": "code",
      "metadata": {
        "id": "QFez8ShtW-f9",
        "outputId": "08b382f1-d013-4945-e9c3-26f0b829bf22"
      },
      "source": [
        "ls = ['q', 'u', 'a', 'n', 'o', 'g']\n",
        "ls.remove('o')\n",
        "print(ls)"
      ],
      "execution_count": null,
      "outputs": [
        {
          "output_type": "stream",
          "text": [
            "['q', 'u', 'a', 'n', 'g']\n"
          ],
          "name": "stdout"
        }
      ]
    },
    {
      "cell_type": "markdown",
      "metadata": {
        "id": "sdphF1KaW-gD"
      },
      "source": [
        "> ##### **.count()**: đếm phần tử cho trước"
      ]
    },
    {
      "cell_type": "code",
      "metadata": {
        "id": "kHNocn7wW-gE",
        "outputId": "a946782c-d93b-4b9c-b920-99a3d72a36e9"
      },
      "source": [
        "ls = [0,3,9,5,0,7,7,1,9,9]\n",
        "print(ls.count(9))"
      ],
      "execution_count": null,
      "outputs": [
        {
          "output_type": "stream",
          "text": [
            "3\n"
          ],
          "name": "stdout"
        }
      ]
    },
    {
      "cell_type": "markdown",
      "metadata": {
        "id": "ETUaPMfYW-gK"
      },
      "source": [
        "> ##### **.reverse()**: đảo list"
      ]
    },
    {
      "cell_type": "code",
      "metadata": {
        "id": "AX4cievrW-gL",
        "outputId": "c0a6e65c-7ae6-4210-8a30-dff264098416"
      },
      "source": [
        "ls = ['q', 'u', 'a', 'n', 'g']\n",
        "ls.reverse()\n",
        "print(ls)"
      ],
      "execution_count": null,
      "outputs": [
        {
          "output_type": "stream",
          "text": [
            "['g', 'n', 'a', 'u', 'q']\n"
          ],
          "name": "stdout"
        }
      ]
    },
    {
      "cell_type": "markdown",
      "metadata": {
        "id": "tTc5N2DlW-gR"
      },
      "source": [
        "> ##### **.sort()**: sắp xếp list"
      ]
    },
    {
      "cell_type": "code",
      "metadata": {
        "id": "BYF6G5u-W-gS",
        "outputId": "b7a07069-06b4-4604-e5da-f6dd004a65e0"
      },
      "source": [
        "ls = [0,3,9,5,0,7,7,1,9,9]\n",
        "# Sort tăng dần\n",
        "ls.sort()\n",
        "print(ls)\n",
        "# Sort giảm dần\n",
        "ls.sort(reverse=True)\n",
        "print(ls)"
      ],
      "execution_count": null,
      "outputs": [
        {
          "output_type": "stream",
          "text": [
            "[0, 0, 1, 3, 5, 7, 7, 9, 9, 9]\n",
            "[9, 9, 9, 7, 7, 5, 3, 1, 0, 0]\n"
          ],
          "name": "stdout"
        }
      ]
    },
    {
      "cell_type": "markdown",
      "metadata": {
        "id": "1Wq2RLGGW-gY"
      },
      "source": [
        "> ##### **.copy()**: copy list"
      ]
    },
    {
      "cell_type": "code",
      "metadata": {
        "id": "pvcjCI47W-gZ",
        "outputId": "07eab90e-bd99-4700-9243-6c4eb481f16e"
      },
      "source": [
        "ls = [0,3,9,5,0,7,7,1,9,9]\n",
        "ls_copy = ls.copy()\n",
        "print(ls_copy)"
      ],
      "execution_count": null,
      "outputs": [
        {
          "output_type": "stream",
          "text": [
            "[0, 3, 9, 5, 0, 7, 7, 1, 9, 9]\n"
          ],
          "name": "stdout"
        }
      ]
    },
    {
      "cell_type": "markdown",
      "metadata": {
        "id": "dS7Bu2egW-gf"
      },
      "source": [
        "> ##### **.clear()**: xoá toàn bộ\n"
      ]
    },
    {
      "cell_type": "code",
      "metadata": {
        "id": "0jF11zy5W-gg",
        "outputId": "f4c76a38-2288-4540-bb31-beaaae656020"
      },
      "source": [
        "ls = [1, 2, 3]\n",
        "ls.clear()\n",
        "print(ls)"
      ],
      "execution_count": null,
      "outputs": [
        {
          "output_type": "stream",
          "text": [
            "[]\n"
          ],
          "name": "stdout"
        }
      ]
    },
    {
      "cell_type": "markdown",
      "metadata": {
        "id": "YJirTsM9W-gm"
      },
      "source": [
        "##### operators: +, *, so sánh"
      ]
    },
    {
      "cell_type": "code",
      "metadata": {
        "id": "cPlA-xBCW-gn",
        "outputId": "c17200e5-b604-4d48-9381-f452c9f17e7e"
      },
      "source": [
        "ls1 = [1,2,3]\n",
        "ls2 = [4,5,6]\n",
        "\n",
        "# Nối và lặp list sử dụng +, * 2 list\n",
        "print(ls1 + ls2)\n",
        "print(ls1*5)\n",
        "\n",
        "# Các phép so sánh\n",
        "print(ls1 > ls2)\n",
        "print(ls1 < ls2)\n",
        "print(ls1 == ls2)"
      ],
      "execution_count": null,
      "outputs": [
        {
          "output_type": "stream",
          "text": [
            "[1, 2, 3, 4, 5, 6]\n",
            "[1, 2, 3, 1, 2, 3, 1, 2, 3, 1, 2, 3, 1, 2, 3]\n",
            "False\n",
            "True\n",
            "False\n"
          ],
          "name": "stdout"
        }
      ]
    },
    {
      "cell_type": "markdown",
      "metadata": {
        "id": "57aFRfXTW-gu"
      },
      "source": [
        "> ##### list slicing\n",
        "\n",
        "trình bày ở phần nâng cao"
      ]
    },
    {
      "cell_type": "markdown",
      "metadata": {
        "id": "W_d3nx9tW-gv"
      },
      "source": [
        "### 6.String"
      ]
    },
    {
      "cell_type": "markdown",
      "metadata": {
        "id": "ZuofpzVzW-gw"
      },
      "source": [
        "\n",
        "\n",
        "> Là một tập hợp các kí tự Unicode. Không giống các ngôn ngữ khác, trong python mỗi ký tự là mỗi xâu có độ dài 1\n",
        "\n",
        "Vì hàm và phương thức của string trong python khá nhiều nên tôi tổng quan thành sơ đồ sau:\n",
        "\n",
        "![](https://i.imgur.com/Iqc2SKl.png)\n",
        "\n"
      ]
    },
    {
      "cell_type": "markdown",
      "metadata": {
        "id": "u3hzQ8JtW-gx"
      },
      "source": [
        "> #### **Khởi tạo**\n",
        "    sử dụng ' ', \" \" 1 chuỗi 1 dòng\n",
        "    sử dụng ''' ''', \"\"\" \"\"\" 1 chuỗi nhiều dòng\n"
      ]
    },
    {
      "cell_type": "code",
      "metadata": {
        "id": "Alk7dT2hW-gy",
        "outputId": "9bee2abd-4253-4ec0-c8ea-71880a6a44d2"
      },
      "source": [
        "s1 = \"Đường thương đau, đầy ải nhân gian\"\n",
        "s2 = \"\"\"\n",
        "À sao mà à\n",
        "à thế à\n",
        "\"\"\"\n",
        "print(s1)\n",
        "print(s2)"
      ],
      "execution_count": null,
      "outputs": [
        {
          "output_type": "stream",
          "text": [
            "Đường thương đau, đầy ải nhân gian\n",
            "\n",
            "À sao mà à\n",
            "à thế à\n",
            "\n"
          ],
          "name": "stdout"
        }
      ]
    },
    {
      "cell_type": "markdown",
      "metadata": {
        "id": "TKW8YcHkW-g4"
      },
      "source": [
        "> #### **Truy xuất phần tử**\n"
      ]
    },
    {
      "cell_type": "markdown",
      "metadata": {
        "id": "24V-YBIIW-g5"
      },
      "source": [
        "> ##### sử dụng cặp dấu []"
      ]
    },
    {
      "cell_type": "code",
      "metadata": {
        "id": "Av3aSaeiW-g7",
        "outputId": "19ff3e5b-90f1-47f3-d2a2-79a2341ba6bf",
        "colab": {
          "base_uri": "https://localhost:8080/"
        }
      },
      "source": [
        "s = \"Đường thương đau, đầy ải nhân gian\"\n",
        "print(s[2])\n"
      ],
      "execution_count": null,
      "outputs": [
        {
          "output_type": "stream",
          "text": [
            "ờ\n"
          ],
          "name": "stdout"
        }
      ]
    },
    {
      "cell_type": "markdown",
      "metadata": {
        "id": "Bb3-_qwEW-hB"
      },
      "source": [
        ""
      ]
    },
    {
      "cell_type": "markdown",
      "metadata": {
        "id": "hO_xpEkfW-hC"
      },
      "source": [
        "#### **Hàm và phương thức**\n",
        "\n",
        "\n",
        "\n"
      ]
    },
    {
      "cell_type": "markdown",
      "metadata": {
        "id": "OV7PRf8GW-hD"
      },
      "source": [
        "> ##### len(): độ dài\n"
      ]
    },
    {
      "cell_type": "code",
      "metadata": {
        "id": "0Yb_gGWvW-hE",
        "outputId": "8ccbbe47-8637-4b33-bbe8-328fe82f1dcd"
      },
      "source": [
        "s = \"abc\"\n",
        "print(len(s))"
      ],
      "execution_count": null,
      "outputs": [
        {
          "output_type": "stream",
          "text": [
            "3\n"
          ],
          "name": "stdout"
        }
      ]
    },
    {
      "cell_type": "markdown",
      "metadata": {
        "id": "I_cXKDGTW-hP"
      },
      "source": [
        "> ##### .lower(): chuyển 1 chuỗi về dạng in thường"
      ]
    },
    {
      "cell_type": "code",
      "metadata": {
        "id": "VH_GuUjFW-hQ",
        "outputId": "57a2e752-7e52-47a4-fa20-7bcdfb909bc0"
      },
      "source": [
        "s = \"hoangduc\"\n",
        "print(s.upper())"
      ],
      "execution_count": null,
      "outputs": [
        {
          "output_type": "stream",
          "text": [
            "HOANGDUC\n"
          ],
          "name": "stdout"
        }
      ]
    },
    {
      "cell_type": "code",
      "metadata": {
        "id": "PMkuP0XEW-hW",
        "outputId": "24907b20-fd2a-4073-d651-bad5aea89b84"
      },
      "source": [
        "s = \"2020\"\n",
        "print(s.isupper())\n",
        "print(\"AAA\".isupper())"
      ],
      "execution_count": null,
      "outputs": [
        {
          "output_type": "stream",
          "text": [
            "False\n",
            "True\n"
          ],
          "name": "stdout"
        }
      ]
    },
    {
      "cell_type": "markdown",
      "metadata": {
        "id": "iSkt3dMQW-hb"
      },
      "source": [
        "> ##### .isdigit(): kiểm tra có gồm tất cả kí tự số\n"
      ]
    },
    {
      "cell_type": "code",
      "metadata": {
        "id": "piwh8AfXW-hc",
        "outputId": "7cd8afa3-45a9-4a78-f460-a65b36353b26"
      },
      "source": [
        "s = \"2020\"\n",
        "print(s.isdigit())\n",
        "print(\"aaaaaaaaaaa\".isdigit())"
      ],
      "execution_count": null,
      "outputs": [
        {
          "output_type": "stream",
          "text": [
            "True\n",
            "False\n"
          ],
          "name": "stdout"
        }
      ]
    },
    {
      "cell_type": "markdown",
      "metadata": {
        "id": "BENeXQmPW-hi"
      },
      "source": [
        "> ##### .isalpha(): kiểm tra gồm tất cả chữ cái\n"
      ]
    },
    {
      "cell_type": "code",
      "metadata": {
        "id": "crv42PBRW-hk",
        "outputId": "a6dfb709-5dfc-4fa5-dca4-a11266c311aa"
      },
      "source": [
        "s = \"2020\"\n",
        "print(s.isalpha())\n",
        "print(\"aaaaaaaaaaa\".isalpha())"
      ],
      "execution_count": null,
      "outputs": [
        {
          "output_type": "stream",
          "text": [
            "False\n",
            "True\n"
          ],
          "name": "stdout"
        }
      ]
    },
    {
      "cell_type": "markdown",
      "metadata": {
        "id": "e2HDEX-MW-hr"
      },
      "source": [
        "> ##### .split(): cắt chuỗi\n",
        "\n"
      ]
    },
    {
      "cell_type": "code",
      "metadata": {
        "id": "VAcc3xDHW-hs",
        "outputId": "16722b6a-745d-4c2d-d6a0-a01a6ffebaf4"
      },
      "source": [
        "s = \"Anh em ta 123!\"\n",
        "print(s.split(\" \"))"
      ],
      "execution_count": null,
      "outputs": [
        {
          "output_type": "stream",
          "text": [
            "['Anh', 'em', 'ta', '123!']\n"
          ],
          "name": "stdout"
        }
      ]
    },
    {
      "cell_type": "markdown",
      "metadata": {
        "id": "HuKfiLjlW-hy"
      },
      "source": [
        "> ##### .join(): nối chuỗi"
      ]
    },
    {
      "cell_type": "code",
      "metadata": {
        "id": "HCkj4tQqW-hz",
        "outputId": "f05a0c71-7d59-4d63-a6b1-c169ce3a8ef6"
      },
      "source": [
        "ls = [\"Welcome\", \"to\", \"quangqb99\"]\n",
        "print(\" \".join(ls))\n",
        "\n",
        "# Cắt thành list sau khi bỏ khoảng trắng và join list string lại\n",
        "message = \"   Welcome   to quangqb99!   \"\n",
        "print(\" \".join(message.split()))"
      ],
      "execution_count": null,
      "outputs": [
        {
          "output_type": "stream",
          "text": [
            "Welcome to quangqb99\n",
            "Welcome to quangqb99!\n"
          ],
          "name": "stdout"
        }
      ]
    },
    {
      "cell_type": "markdown",
      "metadata": {
        "id": "7AYhF3FcW-h4"
      },
      "source": [
        "> ##### .replace(): thay thế\n"
      ]
    },
    {
      "cell_type": "code",
      "metadata": {
        "id": "Bx4GiyOeW-h5",
        "outputId": "b99bdc50-8b7c-4ca9-ac34-94eb58742ea3",
        "colab": {
          "base_uri": "https://localhost:8080/"
        }
      },
      "source": [
        "s = \"Anh em ta 123!\"\n",
        "print(s.replace(\" \", \"\"))"
      ],
      "execution_count": null,
      "outputs": [
        {
          "output_type": "stream",
          "text": [
            "Anhemta123!\n"
          ],
          "name": "stdout"
        }
      ]
    },
    {
      "cell_type": "markdown",
      "metadata": {
        "id": "PbukgQ6bW-h-"
      },
      "source": [
        "> ##### eval():tính biểu thức từ chuỗi\n",
        "\n",
        "Bạn nào học về ký pháp balan rồi chắc cảm thấy có hàm này tự nhiên trẻ ra được mấy chục tuổi vậy@@\n"
      ]
    },
    {
      "cell_type": "code",
      "metadata": {
        "id": "4H2jm7FXW-h_",
        "outputId": "8d9242c3-f285-451f-a684-5667a3c75670",
        "colab": {
          "base_uri": "https://localhost:8080/"
        }
      },
      "source": [
        "s = \"(1+2+3)*2\"\n",
        "print(eval(s))"
      ],
      "execution_count": null,
      "outputs": [
        {
          "output_type": "stream",
          "text": [
            "12\n"
          ],
          "name": "stdout"
        }
      ]
    },
    {
      "cell_type": "markdown",
      "metadata": {
        "id": "HbNuO5wGW-iG"
      },
      "source": [
        "> ##### string slicing\n",
        "\n",
        "trình bày ở phần nâng cao"
      ]
    },
    {
      "cell_type": "markdown",
      "metadata": {
        "id": "eP5Tq8uXW-iH"
      },
      "source": [
        "# **PYTHON NÂNG CAO**\n",
        "> Write by Hoang Duc"
      ]
    },
    {
      "cell_type": "markdown",
      "metadata": {
        "id": "QE-erMMZW-iI"
      },
      "source": [
        "### **NỘI DUNG:** \n",
        "\n",
        "1. Mutable and Immutable\n",
        "2. Slicing\n",
        "3. Data Types nâng cao\n",
        "4. Lambda Expressions\n",
        "5. Generator Expressions\n",
        "6. List Comprehension\n",
        "7. Dictionary Comprehension"
      ]
    },
    {
      "cell_type": "markdown",
      "metadata": {
        "id": "S4v-9mioW-iJ"
      },
      "source": [
        "### **Mutable and Immutable** \n",
        "\n",
        "Đây là kiến thức quan trọng cần các bạn hiểu kỹ trước khi học về slicing, tuple, set và dictionary.\n",
        "\n",
        "Đầu tiên mọi thứ trong python đều là object từ hàm, biến, mảng v.v.., đó là một phần lý do vì sao ngôn ngữ này mềm dẻo như vậy."
      ]
    },
    {
      "cell_type": "markdown",
      "metadata": {
        "id": "Sz-EcaQ8W-iK"
      },
      "source": [
        "\n",
        "##### **1.Immutable**\n"
      ]
    },
    {
      "cell_type": "markdown",
      "metadata": {
        "id": "ytkspefrW-iN"
      },
      "source": [
        "\n",
        "***Khẩu quyết Immutable: \"Muốn thay đổi thì đi chỗ khác\"***\n",
        "\n",
        "Nghe thì hơi hắt hủi nhưng phải chấp nhận 😄 </br>\n",
        "Đúng vậy! Tôi đang nói đến \"**Immutable**\", nghĩa là bạn đang cố thay đổi cái mà không thể thay đổi. </br>\n",
        "Nhưng giờ nhất quyết thay đổi thì phải làm sao? </br>\n",
        "==> Thì phải đi qua chỗ khác\n",
        "</br>\n",
        "</br>\n",
        "Ban đầu a_number = 5\n",
        "![](https://i.imgur.com/izq38aU.png)\n",
        "\n",
        "</br>\n",
        "\n",
        "Giờ nó đổi ý muốn lưu a_number = 6\n",
        "![](https://i.imgur.com/P5eMGAL.png)\n",
        "\n",
        "\n",
        "\n",
        "    vậy a_number nó bỏ vợ(5) chạy theo bồ(6), để lại vợ(5) bơ vơ 🙂\n",
        "\n",
        "> *integer, float, string, boolean, tuple là **Immutable**.*\n"
      ]
    },
    {
      "cell_type": "markdown",
      "metadata": {
        "id": "EnLhu9JtW-iP"
      },
      "source": [
        "##### **2.Mutable**"
      ]
    },
    {
      "cell_type": "markdown",
      "metadata": {
        "id": "KIJ_EEewW-iS"
      },
      "source": [
        ">  *List, Dictionary, Set, Class là **Mutable**.*\n",
        "\n",
        "***Khẩu quyết Mutable: \"Động đến tao thì okie sao cũng được, còn động đến con cháu tao thì coi chừng\"***\n",
        "</br>\n",
        "\n",
        "Đến đây ta lại thắc mắc, và thử đặt câu hỏi \"*các phần tử trong list đều là integer, string thì sao? Vậy List là **Immutable** à - không lẽ tui nói sai*\"\n",
        "</br>\n",
        "Hmmm... 🐧\n",
        "\n",
        "Đây là câu hỏi 10đ. Và câu trả lời là hình ảnh dưới đây:\n",
        "![](https://i.imgur.com/PiuWyFv.jpg)\n",
        "\n",
        "a_list là một đối tượng trỏ đến *list object*(**Mutable**), và trong *list object* lại trỏ đến từng đối tượng là các **Mutable** và cuối cùng trỏ đến int instance(**Immutable**).\n",
        "\n",
        "List là **Mutable** chính nói đến đối tượng áp cuối trỏ đến int instance. Các bạn lưu ý để tránh nhầm lẫn!\n"
      ]
    },
    {
      "cell_type": "markdown",
      "metadata": {
        "id": "AOoFNjccW-iT"
      },
      "source": [
        "### **Slicing** "
      ]
    },
    {
      "cell_type": "markdown",
      "metadata": {
        "id": "NSh5Oga_W-iU"
      },
      "source": [
        "> ##### **list slicing**\n",
        "\n",
        "Đây là công cụ đầy quyền lực, nó không chỉ có công dụng để truy cập phần tử mà còn có thể:\n",
        "\n",
        "1.   Truy cập theo kiểu forward\n",
        "2.   Truy cập theo kiểu Reverse\n",
        "3.   Assign hùm bà lằng\n",
        "4.   Insert tuỳ ý\n",
        "5.   Remove tùm lum\n",
        "6.   Clone list\n",
        "\n",
        "Tôi sẽ demo kỹ code cho các bạn xem:\n",
        "\n",
        "    Dạng: my_list[start=0:stop=-1:steps=1]\n",
        "\n",
        "      +---+---+---+---+---+---+\n",
        "      | P | y | t | h | o | n |\n",
        "      +---+---+---+---+---+---+\n",
        "        0   1   2   3   4   5 \n",
        "       -6  -5  -4  -3  -2  -1\n",
        "\n",
        "    index begin: 0, -length\n",
        "    index end: -1, length - 1\n",
        "\n",
        "\n",
        "\n",
        "\n"
      ]
    },
    {
      "cell_type": "code",
      "metadata": {
        "id": "MkUKp_QCW-iV",
        "outputId": "a44234da-d656-4f35-dc09-173a22cbc154",
        "colab": {
          "base_uri": "https://localhost:8080/"
        }
      },
      "source": [
        "mylist = ['p','y','t','h','o','n']\n",
        "n = len(mylist)\n",
        " \n",
        "print(\"------   1. all forward  ------\")\n",
        "print(mylist)\n",
        "print(mylist[:]) \n",
        "print(mylist[0:n])\n",
        "print(mylist[-n:])\n",
        "print(mylist[-n:n])\n",
        "\n",
        "print(\"\\n------   2. Reverse  ---------\")\n",
        "print(mylist[::-1]) # Recommend\n",
        "print(mylist[-1:-(n + 1):-1])\n",
        "print(mylist[-1::-1])\n",
        "print(mylist[n-1:-(n + 1):-1])\n",
        "\n",
        "print(\"\\n------   3. Assign hùm bà lằng  ---------\")\n",
        "mylist[1:3] = [1,2,3]\n",
        "print(mylist)\n",
        "\n",
        "# Reset\n",
        "mylist = ['p','y','t','h','o','n']\n",
        "\n",
        "print(\"\\n------   4. Insert tuỳ ý  ---------\")\n",
        "# chèn [1,2,3] vào vị trí 1\n",
        "mylist[1:1] = [1,2,3]\n",
        "print(mylist)\n",
        "\n",
        "# Reset\n",
        "mylist = ['p','y','t','h','o','n']\n",
        "\n",
        "print(\"\\n------   5. Remove tùm lum  ---------\")\n",
        "# Xoá từ 1 -> 2\n",
        "mylist[1:3] = []\n",
        "print(mylist)\n",
        "\n",
        "# Reset\n",
        "mylist = ['p','y','t','h','o','n']\n",
        "\n",
        "print(\"\\n------   6. Clone list  ---------\")\n",
        "listcopy_1 = mylist[0:3]\n",
        "listcopy_2 = mylist[:] # copy toàn bộ\n",
        "listcopy_1[0] = [1,2,3]\n",
        "listcopy_2[0] = []\n",
        "print(mylist)\n"
      ],
      "execution_count": null,
      "outputs": [
        {
          "output_type": "stream",
          "text": [
            "------   1. all forward  ------\n",
            "['p', 'y', 't', 'h', 'o', 'n']\n",
            "['p', 'y', 't', 'h', 'o', 'n']\n",
            "['p', 'y', 't', 'h', 'o', 'n']\n",
            "['p', 'y', 't', 'h', 'o', 'n']\n",
            "['p', 'y', 't', 'h', 'o', 'n']\n",
            "\n",
            "------   2. Reverse  ---------\n",
            "['n', 'o', 'h', 't', 'y', 'p']\n",
            "['n', 'o', 'h', 't', 'y', 'p']\n",
            "['n', 'o', 'h', 't', 'y', 'p']\n",
            "['n', 'o', 'h', 't', 'y', 'p']\n",
            "\n",
            "------   3. Assign hùm bà lằng  ---------\n",
            "['p', 1, 2, 3, 'h', 'o', 'n']\n",
            "\n",
            "------   4. Insert tuỳ ý  ---------\n",
            "['p', 1, 2, 3, 'y', 't', 'h', 'o', 'n']\n",
            "\n",
            "------   5. Remove tùm lum  ---------\n",
            "['p', 'h', 'o', 'n']\n",
            "\n",
            "------   6. Clone list  ---------\n",
            "['p', 'y', 't', 'h', 'o', 'n']\n"
          ],
          "name": "stdout"
        }
      ]
    },
    {
      "cell_type": "markdown",
      "metadata": {
        "id": "GyleS2K8W-ia"
      },
      "source": [
        "Nắm được slicing trong list làm ta trở nên tự tin trong việc xử lý.\n",
        "Tuy nhiên sau khi đọc kỹ code ở trên thì nhiều bạn thắc mắc:\n",
        "> *Tại sao listcopy_1 và listcopy_2 thay đổi hùm bà lằng nhưng mylist của ta vẫn bình yên vô sự?*\n",
        "\n",
        "Đây là câu hỏi 10 điểm - nice 💯\n",
        "\n",
        "Khi thực thi ***new_List = old_List*** thì new_List và old_List đang tham chiếu đến vùng nhớ. Và nếu các vùng nhớ đó là các immutable thì ta đã **sao chép thực sự**. Còn nếu vùng nhớ đó là 1 mutable thì ta phải chấp nhận sự thực là ta **chưa sao chép thực sự**. Ở đây list chứa các string hoặc int thì nó đang **sao chép thực sự**\n",
        "\n",
        "> Bạn đọc thêm immutable và mutable ở phần ***python nâng cao***\n"
      ]
    },
    {
      "cell_type": "code",
      "metadata": {
        "id": "fPqUgKjqW-ib",
        "outputId": "dfc35c24-7596-416a-8578-328898d94875"
      },
      "source": [
        "mylist = [1, [1,2,3], 4]\n",
        "\n",
        "ok = mylist[1]\n",
        "ok1 = mylist[1]\n",
        "ok2 = mylist[0]\n",
        "ok = [7,8,9]\n",
        "ok1[1] = 34\n",
        "ok2 = 100\n",
        "print(mylist)\n",
        "print(ok)\n",
        "print(ok1)\n",
        "print(ok2)"
      ],
      "execution_count": null,
      "outputs": [
        {
          "output_type": "stream",
          "text": [
            "[1, [1, 34, 3], 4]\n",
            "[7, 8, 9]\n",
            "[1, 34, 3]\n",
            "100\n"
          ],
          "name": "stdout"
        }
      ]
    },
    {
      "cell_type": "markdown",
      "metadata": {
        "id": "VljggmtvW-if"
      },
      "source": [
        "> ##### **Numpy slicing**\n",
        "\n",
        "Các bạn đừng tưởng bở trong numpy sử dụng slicing giống như trong list.\n",
        "Hãy đón xem tập tiếp theo ở phần numpy nhé..."
      ]
    },
    {
      "cell_type": "markdown",
      "metadata": {
        "id": "c4yhepkZW-ig"
      },
      "source": [
        "### Các kiểu dữ liệu nâng cao"
      ]
    },
    {
      "cell_type": "markdown",
      "metadata": {
        "id": "GgncBMcWW-ii"
      },
      "source": [
        "Tổng quan về kiểu dữ liệu trong python\n",
        "\n",
        "![](https://i.imgur.com/UVw74RV.png)\n",
        "\n",
        "\n",
        "    list []\n",
        "    tuple ()\n",
        "    set, dictionary {}"
      ]
    },
    {
      "cell_type": "markdown",
      "metadata": {
        "id": "CFzRCuryW-ij"
      },
      "source": [
        "#### **Tuple** "
      ]
    },
    {
      "cell_type": "markdown",
      "metadata": {
        "id": "7NATUuWfW-ij"
      },
      "source": [
        "***Khẩu quyết tuple: \"tuple là constant list\"***\n",
        "\n",
        "Dừng ở đây chắc có người chặn đường quá, haha 😂 \n",
        "<br/>\n",
        "<br/>\n",
        "Các bạn lưu ý ở tuple các vấn đề sau:\n",
        "\n",
        "1.   bỏ (), python vẫn hiểu đây là một tuples \n",
        "\n",
        "```python\n",
        "tuple = \"Mãi bên nhau bạn nhớ\", \"ok bạn ơi\", 2 , 4\n",
        "```\n",
        "\n",
        "2.   Trường hợp tuples chỉ có 1 phần tử thì bên sau phần tử đó phải có dấu phẩy ',' . Nếu không nó sẽ hiểu đây là một kiểu int.\n",
        "\n",
        "\n",
        "```python\n",
        "tuple = (2, ) # type tuples\n",
        "tuple = (2) # type int\n",
        "```\n",
        "\n",
        "\n",
        "\n",
        "\n",
        "\n",
        "\n"
      ]
    },
    {
      "cell_type": "markdown",
      "metadata": {
        "id": "2he_ZenDW-ik"
      },
      "source": [
        "#### **Set** "
      ]
    },
    {
      "cell_type": "markdown",
      "metadata": {
        "id": "GQxPZKtUW-il"
      },
      "source": [
        "#### **Dictionary** "
      ]
    },
    {
      "cell_type": "markdown",
      "metadata": {
        "id": "VpFw_gaIW-im"
      },
      "source": [
        "### **Lambda Expressions**"
      ]
    },
    {
      "cell_type": "markdown",
      "metadata": {
        "id": "bwJ_Sf-VW-in"
      },
      "source": [
        "> Nó là một hàm bình thường nhưng **ko cần tên hàm**, **ko cần từ khoá return** để trả về giá trị. \n",
        "\n",
        "Họ chế ra cái này mình nghĩ vì ngày xưa ông cha ta code bằng giấy cho đỡ tốn mực@@\n",
        "\n",
        "(**lambda** các tham số **:** giá trị cần return) (đầu vào các tham số)\n",
        "\n",
        "\n",
        "\n"
      ]
    },
    {
      "cell_type": "code",
      "metadata": {
        "id": "LKVYm2VAW-io",
        "outputId": "732cf7b4-644d-4359-b5fb-1b428dc9c8ce",
        "colab": {
          "base_uri": "https://localhost:8080/"
        }
      },
      "source": [
        "print((lambda x : x % 2 == 0) (2))"
      ],
      "execution_count": null,
      "outputs": [
        {
          "output_type": "stream",
          "text": [
            "True\n"
          ],
          "name": "stdout"
        }
      ]
    },
    {
      "cell_type": "markdown",
      "metadata": {
        "id": "yIXSPf-jW-is"
      },
      "source": [
        "### **Generator Expressions** \n",
        "\n",
        "### **List Comprehension**\n",
        "\n",
        "### **Dictionary Comprehension**"
      ]
    },
    {
      "cell_type": "code",
      "metadata": {
        "id": "IvwX4n60W-it"
      },
      "source": [
        ""
      ],
      "execution_count": null,
      "outputs": []
    }
  ]
}