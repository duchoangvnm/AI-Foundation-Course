{
 "cells": [
  {
   "cell_type": "markdown",
   "metadata": {},
   "source": [
    "BẠN CÓ THỂ XEM TÀI LIỆU BẰNG:\n",
    "\n",
    "\n",
    "1.   Github  &nbsp; <a href=\"https://github.com/quangvan99/tutorial_AI_ZUMP_ZERO/blob/master/LEVEL1/PYTHON.ipynb\" role=\"button\"><img class=\"notebook-badge-image\" src=\"https://img.shields.io/static/v1?label=&amp;message=View%20On%20GitHub&amp;color=586069&amp;logo=github&amp;labelColor=2f363d\"></a>&nbsp;\n",
    "2.   Colab &nbsp; <a href=\"https://colab.research.google.com/drive/1JTQ4cSO2PcBKNFVfQ71T8XQfGct7XcmQ?usp=sharing\"><img class=\"notebook-badge-image\" src=\"https://colab.research.google.com/assets/colab-badge.svg\" alt=\"Open In Colab\"></a>"
   ]
  },
  {
   "cell_type": "markdown",
   "metadata": {},
   "source": [
    "## **INTRODUCTION**\n",
    "Không cần giới thiệu về python nữa. Nó hiện tại là ngôn ngữ xử lý cực mạnh trong cả Data Analytics, Machine Learning, Computing Science v.v..\n",
    "\n",
    "Ở đây những thứ cơ bản về 1 ngôn ngữ thì tôi không đề cập sâu, vì thế tôi sẽ tập trung demo những thứ khác hay ho hơn"
   ]
  },
  {
   "cell_type": "markdown",
   "metadata": {},
   "source": [
    "# **PYTHON CƠ BẢN**\n",
    "> Write by Hoang Duc\n",
    "\n"
   ]
  },
  {
   "cell_type": "markdown",
   "metadata": {},
   "source": [
    "### **NỘI DUNG:** \n",
    "\n",
    "1. Nhập xuất cơ bản\n",
    "2. Toán tử\n",
    "3. Rẽ nhánh if\n",
    "4. Vòng lặp\n",
    "5. List\n",
    "6. String\n",
    "\n",
    "> Xuyên suốt tutorial này chúng tôi sử dụng **Jupyter Notebook**\n"
   ]
  },
  {
   "cell_type": "markdown",
   "metadata": {},
   "source": [
    "### **1.Nhập xuất cơ bản**"
   ]
  },
  {
   "cell_type": "markdown",
   "metadata": {},
   "source": [
    "\n",
    "#### **In ra màn hình**\n",
    "\n",
    "```python\n",
    "print(seft, *args, sep=' ', end = '\\n', file=None)\n",
    "```"
   ]
  },
  {
   "cell_type": "code",
   "execution_count": 3,
   "metadata": {},
   "outputs": [
    {
     "name": "stdout",
     "output_type": "stream",
     "text": [
      "1,2,3,4,5,6\n"
     ]
    }
   ],
   "source": [
    "# In dữ liệu cách nhau bởi dấu ','\n",
    "print(1,2,3,4,5,6, sep = ',')"
   ]
  },
  {
   "cell_type": "markdown",
   "metadata": {},
   "source": [
    "\n",
    "#### **Nhập từ bàn phím**\n",
    "\n",
    "```python\n",
    "input(message)\n",
    "```\n",
    "\n"
   ]
  },
  {
   "cell_type": "code",
   "execution_count": 2,
   "metadata": {},
   "outputs": [
    {
     "name": "stdout",
     "output_type": "stream",
     "text": [
      "nhập:=4\n",
      "6\n"
     ]
    }
   ],
   "source": [
    "# Nhập số int a xuất ra màn hình tổng a+2\n",
    "a = int(input(\"nhập:=\"))\n",
    "print(a+2)"
   ]
  },
  {
   "cell_type": "markdown",
   "metadata": {},
   "source": [
    "### **2.Toán tử**"
   ]
  },
  {
   "cell_type": "markdown",
   "metadata": {},
   "source": [
    "\n",
    "Toán tử trong python được liệt kê ngắn gọn ở hình dưới đây: \n",
    "\n",
    "![](https://i.imgur.com/T1Je9Se.png)"
   ]
  },
  {
   "cell_type": "markdown",
   "metadata": {},
   "source": [
    "* VD1: Nhập 2 số nguyên a, b và in ra tổng của chúng"
   ]
  },
  {
   "cell_type": "code",
   "execution_count": 4,
   "metadata": {
    "scrolled": false
   },
   "outputs": [
    {
     "name": "stdout",
     "output_type": "stream",
     "text": [
      "nhập a = 4\n",
      "nhập b = 5\n",
      "9\n"
     ]
    }
   ],
   "source": [
    "â = int(input(\"nhập a = \"))\n",
    "b = int(input(\"nhập b = \"))\n",
    "print(a+b)"
   ]
  },
  {
   "cell_type": "markdown",
   "metadata": {},
   "source": [
    "* VD2: in ra kết quả 2 > 3"
   ]
  },
  {
   "cell_type": "code",
   "execution_count": 5,
   "metadata": {},
   "outputs": [
    {
     "name": "stdout",
     "output_type": "stream",
     "text": [
      "False\n"
     ]
    }
   ],
   "source": [
    "print(2>3)"
   ]
  },
  {
   "cell_type": "markdown",
   "metadata": {},
   "source": [
    "### **3.Rẽ nhánh if**"
   ]
  },
  {
   "cell_type": "markdown",
   "metadata": {},
   "source": [
    "```python\n",
    "if condition:\n",
    "    # Nếu condition đúng thì khối lệnh này được thực thi\n",
    "elif condition2:\n",
    "    # Nếu condition2 đúng thì khối lệnh này được thực thi\n",
    "else:\n",
    "    # còn lại\n",
    "```\n"
   ]
  },
  {
   "cell_type": "markdown",
   "metadata": {},
   "source": [
    "* VD1: Nhập tuổi. Nếu 11 <= tuổi <= 19 thì in ra \"Bạn đang tuổi teen\" ngược lại in ra \"Hazzzz\""
   ]
  },
  {
   "cell_type": "code",
   "execution_count": 7,
   "metadata": {},
   "outputs": [
    {
     "name": "stdout",
     "output_type": "stream",
     "text": [
      "nhập tuoir = 12\n",
      "Bạn đang tuổi teen!\n"
     ]
    }
   ],
   "source": [
    "tuoi = int(input(\"nhập tuoir = \"))\n",
    "if tuoi > 10 and tuoi < 20:\n",
    "    print(\"Bạn đang tuổi teen!\")\n",
    "else:\n",
    "    print(\"Hazzzzzz\")"
   ]
  },
  {
   "cell_type": "markdown",
   "metadata": {},
   "source": [
    "* VD2: Nhập a,b,c,d in ra số lớn nhất"
   ]
  },
  {
   "cell_type": "code",
   "execution_count": 8,
   "metadata": {
    "scrolled": true
   },
   "outputs": [
    {
     "name": "stdout",
     "output_type": "stream",
     "text": [
      "Nhập a = 1\n",
      "Nhập b = 2\n",
      "Nhập c = 3\n",
      "Nhập d = 4\n",
      "max =  4\n"
     ]
    }
   ],
   "source": [
    "a = int(input(\"Nhập a = \"))\n",
    "b = int(input(\"Nhập b = \"))\n",
    "c = int(input(\"Nhập c = \"))\n",
    "d = int(input(\"Nhập d = \"))\n",
    "\n",
    "max = a\n",
    "if (b > max):\n",
    "    max = b\n",
    "if (c > max):\n",
    "    max = c\n",
    "if (d > max):\n",
    "    max = d\n",
    "\n",
    "print(\"max = \", max)"
   ]
  },
  {
   "cell_type": "markdown",
   "metadata": {},
   "source": [
    "### **4.Vòng lặp**"
   ]
  },
  {
   "cell_type": "markdown",
   "metadata": {},
   "source": [
    "Trong python, thường người ta sẽ dùng hàm sẵn có để xử lý. Ở những trường hợp số lượng data ít ta có thể dùng vòng lặp."
   ]
  },
  {
   "cell_type": "markdown",
   "metadata": {},
   "source": [
    "#### **for loop**"
   ]
  },
  {
   "cell_type": "markdown",
   "metadata": {},
   "source": [
    "\n",
    "\n",
    "```python\n",
    "for element in iterable:\n",
    "    #khối lệnh\n",
    "```\n",
    "Trong đó iterable:\n",
    "  *   String\n",
    "  *   Tuple\n",
    "  *   List\n",
    "  *   Dictionary\n",
    "  *   range()\n",
    "\n",
    "\n"
   ]
  },
  {
   "cell_type": "markdown",
   "metadata": {},
   "source": [
    "#### **while loop**"
   ]
  },
  {
   "cell_type": "markdown",
   "metadata": {},
   "source": [
    "```python\n",
    "while condition:\n",
    "    #khối lệnh\n",
    "```"
   ]
  },
  {
   "cell_type": "markdown",
   "metadata": {},
   "source": [
    "### **5.List**"
   ]
  },
  {
   "cell_type": "markdown",
   "metadata": {},
   "source": [
    "\n",
    "\n",
    "> List trong Python là một kiểu dữ liệu cho phép lưu trữ nhiều kiểu dữ liệu khác\n",
    "\n",
    "\n"
   ]
  },
  {
   "cell_type": "markdown",
   "metadata": {},
   "source": [
    "\n",
    "#### **Khởi tạo**\n",
    "> sử dụng cặp dấu []\n",
    "\n",
    "```python\n",
    "# Tạo list lưu trữ các số nguyên\n",
    "ls1 = [2, 9, 12]\n",
    "# Tạo list lưu trữ các xâu ký tự\n",
    "ls2 = [\"Quang\", \"Tiem\", \"Dung\"]\n",
    "# Tạo list lưu trữ các kiểu dữ liệu khác nhau\n",
    "ls3 = [7, 3.5, \"ZumpZero\"]\n",
    "```"
   ]
  },
  {
   "cell_type": "markdown",
   "metadata": {},
   "source": [
    "#### **Truy xuất phần tử**\n",
    "\n"
   ]
  },
  {
   "cell_type": "markdown",
   "metadata": {},
   "source": [
    "> ##### sử dụng cặp dấu []"
   ]
  },
  {
   "cell_type": "code",
   "execution_count": 9,
   "metadata": {},
   "outputs": [
    {
     "name": "stdout",
     "output_type": "stream",
     "text": [
      "Tiem\n"
     ]
    }
   ],
   "source": [
    "# Tạo list lưu trữ các xâu ký tự\n",
    "ls = [\"Quang\", \"Tiem\", \"Dung\"]\n",
    "# Truy cập 'Tiem'\n",
    "print(ls[1])"
   ]
  },
  {
   "cell_type": "markdown",
   "metadata": {},
   "source": [
    "> ##### Truy cập nâng cao sử dụng slicing\n",
    "\n",
    "(kỹ thuật slicing tôi xin được trình bày phần nâng cao)"
   ]
  },
  {
   "cell_type": "markdown",
   "metadata": {},
   "source": [
    "#### **Hàm và phương thức**"
   ]
  },
  {
   "cell_type": "markdown",
   "metadata": {},
   "source": [
    "> ##### **len()**: độ dài"
   ]
  },
  {
   "cell_type": "code",
   "execution_count": 17,
   "metadata": {},
   "outputs": [
    {
     "name": "stdout",
     "output_type": "stream",
     "text": [
      "3\n"
     ]
    }
   ],
   "source": [
    "ls = [1,2,3]\n",
    "print(len(ls))"
   ]
  },
  {
   "cell_type": "markdown",
   "metadata": {},
   "source": [
    "> ##### **max(), min()**\n"
   ]
  },
  {
   "cell_type": "code",
   "execution_count": 16,
   "metadata": {
    "scrolled": true
   },
   "outputs": [
    {
     "ename": "TypeError",
     "evalue": "'int' object is not callable",
     "output_type": "error",
     "traceback": [
      "\u001b[1;31m---------------------------------------------------------------------------\u001b[0m",
      "\u001b[1;31mTypeError\u001b[0m                                 Traceback (most recent call last)",
      "\u001b[1;32m<ipython-input-16-accd4199573e>\u001b[0m in \u001b[0;36m<module>\u001b[1;34m\u001b[0m\n\u001b[0;32m      1\u001b[0m \u001b[0mls\u001b[0m \u001b[1;33m=\u001b[0m \u001b[1;33m[\u001b[0m\u001b[1;36m1\u001b[0m\u001b[1;33m,\u001b[0m \u001b[1;36m2\u001b[0m\u001b[1;33m,\u001b[0m \u001b[1;36m3\u001b[0m\u001b[1;33m]\u001b[0m\u001b[1;33m\u001b[0m\u001b[1;33m\u001b[0m\u001b[0m\n\u001b[1;32m----> 2\u001b[1;33m \u001b[0mprint\u001b[0m\u001b[1;33m(\u001b[0m\u001b[1;34m'max ='\u001b[0m\u001b[1;33m,\u001b[0m \u001b[0mmax\u001b[0m\u001b[1;33m(\u001b[0m\u001b[0mls\u001b[0m\u001b[1;33m)\u001b[0m\u001b[1;33m)\u001b[0m\u001b[1;33m\u001b[0m\u001b[1;33m\u001b[0m\u001b[0m\n\u001b[0m\u001b[0;32m      3\u001b[0m \u001b[0mprint\u001b[0m\u001b[1;33m(\u001b[0m\u001b[1;34m'min ='\u001b[0m\u001b[1;33m,\u001b[0m \u001b[0mmin\u001b[0m\u001b[1;33m(\u001b[0m\u001b[0mls\u001b[0m\u001b[1;33m)\u001b[0m\u001b[1;33m)\u001b[0m\u001b[1;33m\u001b[0m\u001b[1;33m\u001b[0m\u001b[0m\n",
      "\u001b[1;31mTypeError\u001b[0m: 'int' object is not callable"
     ]
    }
   ],
   "source": [
    "ls = [1, 2, 3]\n",
    "print('max =', max(ls))\n",
    "print('min =', min(ls))"
   ]
  },
  {
   "cell_type": "markdown",
   "metadata": {},
   "source": [
    "> ##### **.append()**: Thêm 1 element"
   ]
  },
  {
   "cell_type": "code",
   "execution_count": 18,
   "metadata": {},
   "outputs": [
    {
     "name": "stdout",
     "output_type": "stream",
     "text": [
      "[1, 2, 3]\n"
     ]
    }
   ],
   "source": [
    "ls = []\n",
    "ls.append(1)\n",
    "ls.append(2)\n",
    "ls.append(3)\n",
    "print(ls)"
   ]
  },
  {
   "cell_type": "markdown",
   "metadata": {},
   "source": [
    "> ##### **.insert()**: thêm 1 element vào vị trí"
   ]
  },
  {
   "cell_type": "code",
   "execution_count": 19,
   "metadata": {},
   "outputs": [
    {
     "name": "stdout",
     "output_type": "stream",
     "text": [
      "['q', 'u', 'a', 'n', 'g']\n"
     ]
    }
   ],
   "source": [
    "ls = ['q', 'u', 'a', 'g']\n",
    "# Chèn 'n' vào vị trí thứ n trong list\n",
    "ls.insert(3, 'n')\n",
    "print(ls)"
   ]
  },
  {
   "cell_type": "markdown",
   "metadata": {},
   "source": [
    "> ##### **.pop()**: xóa một element tại vị trí"
   ]
  },
  {
   "cell_type": "code",
   "execution_count": 20,
   "metadata": {},
   "outputs": [
    {
     "name": "stdout",
     "output_type": "stream",
     "text": [
      "['q', 'u', 'a', 'n', 'g']\n"
     ]
    }
   ],
   "source": [
    "ls = ['q', 'u', 'a', 'n', 'o', 'g']\n",
    "# Xóa phần tử thứ 4 khỏi list\n",
    "ls.pop(4)\n",
    "print(ls)"
   ]
  },
  {
   "cell_type": "markdown",
   "metadata": {},
   "source": [
    "> ##### **.remove()**: xoá 1 element"
   ]
  },
  {
   "cell_type": "code",
   "execution_count": 21,
   "metadata": {},
   "outputs": [
    {
     "name": "stdout",
     "output_type": "stream",
     "text": [
      "['q', 'u', 'a', 'n', 'g']\n"
     ]
    }
   ],
   "source": [
    "ls = ['q', 'u', 'a', 'n', 'o', 'g']\n",
    "ls.remove('o')\n",
    "print(ls)"
   ]
  },
  {
   "cell_type": "markdown",
   "metadata": {},
   "source": [
    "> ##### **.count()**: đếm phần tử cho trước"
   ]
  },
  {
   "cell_type": "code",
   "execution_count": 22,
   "metadata": {},
   "outputs": [
    {
     "name": "stdout",
     "output_type": "stream",
     "text": [
      "3\n"
     ]
    }
   ],
   "source": [
    "ls = [0,3,9,5,0,7,7,1,9,9]\n",
    "print(ls.count(9))"
   ]
  },
  {
   "cell_type": "markdown",
   "metadata": {},
   "source": [
    "> ##### **.reverse()**: đảo list"
   ]
  },
  {
   "cell_type": "code",
   "execution_count": 23,
   "metadata": {},
   "outputs": [
    {
     "name": "stdout",
     "output_type": "stream",
     "text": [
      "['g', 'n', 'a', 'u', 'q']\n"
     ]
    }
   ],
   "source": [
    "ls = ['q', 'u', 'a', 'n', 'g']\n",
    "ls.reverse()\n",
    "print(ls)"
   ]
  },
  {
   "cell_type": "markdown",
   "metadata": {},
   "source": [
    "> ##### **.sort()**: sắp xếp list"
   ]
  },
  {
   "cell_type": "code",
   "execution_count": 24,
   "metadata": {},
   "outputs": [
    {
     "name": "stdout",
     "output_type": "stream",
     "text": [
      "[0, 0, 1, 3, 5, 7, 7, 9, 9, 9]\n",
      "[9, 9, 9, 7, 7, 5, 3, 1, 0, 0]\n"
     ]
    }
   ],
   "source": [
    "ls = [0,3,9,5,0,7,7,1,9,9]\n",
    "# Sort tăng dần\n",
    "ls.sort()\n",
    "print(ls)\n",
    "# Sort giảm dần\n",
    "ls.sort(reverse=True)\n",
    "print(ls)"
   ]
  },
  {
   "cell_type": "markdown",
   "metadata": {},
   "source": [
    "> ##### **.copy()**: copy list"
   ]
  },
  {
   "cell_type": "code",
   "execution_count": 25,
   "metadata": {},
   "outputs": [
    {
     "name": "stdout",
     "output_type": "stream",
     "text": [
      "[0, 3, 9, 5, 0, 7, 7, 1, 9, 9]\n"
     ]
    }
   ],
   "source": [
    "ls = [0,3,9,5,0,7,7,1,9,9]\n",
    "ls_copy = ls.copy()\n",
    "print(ls_copy)"
   ]
  },
  {
   "cell_type": "markdown",
   "metadata": {},
   "source": [
    "> ##### **.clear()**: xoá toàn bộ\n"
   ]
  },
  {
   "cell_type": "code",
   "execution_count": 26,
   "metadata": {},
   "outputs": [
    {
     "name": "stdout",
     "output_type": "stream",
     "text": [
      "[]\n"
     ]
    }
   ],
   "source": [
    "ls = [1, 2, 3]\n",
    "ls.clear()\n",
    "print(ls)"
   ]
  },
  {
   "cell_type": "markdown",
   "metadata": {},
   "source": [
    "##### operators: +, *, so sánh"
   ]
  },
  {
   "cell_type": "code",
   "execution_count": 27,
   "metadata": {},
   "outputs": [
    {
     "name": "stdout",
     "output_type": "stream",
     "text": [
      "[1, 2, 3, 4, 5, 6]\n",
      "[1, 2, 3, 1, 2, 3, 1, 2, 3, 1, 2, 3, 1, 2, 3]\n",
      "False\n",
      "True\n",
      "False\n"
     ]
    }
   ],
   "source": [
    "ls1 = [1,2,3]\n",
    "ls2 = [4,5,6]\n",
    "\n",
    "# Nối và lặp list sử dụng +, * 2 list\n",
    "print(ls1 + ls2)\n",
    "print(ls1*5)\n",
    "\n",
    "# Các phép so sánh\n",
    "print(ls1 > ls2)\n",
    "print(ls1 < ls2)\n",
    "print(ls1 == ls2)"
   ]
  },
  {
   "cell_type": "markdown",
   "metadata": {},
   "source": [
    "> ##### list slicing\n",
    "\n",
    "trình bày ở phần nâng cao"
   ]
  },
  {
   "cell_type": "markdown",
   "metadata": {},
   "source": [
    "### 6.String"
   ]
  },
  {
   "cell_type": "markdown",
   "metadata": {},
   "source": [
    "\n",
    "\n",
    "> Là một tập hợp các kí tự Unicode. Không giống các ngôn ngữ khác, trong python mỗi ký tự là mỗi xâu có độ dài 1\n",
    "\n",
    "Vì hàm và phương thức của string trong python khá nhiều nên tôi tổng quan thành sơ đồ sau:\n",
    "\n",
    "![](https://i.imgur.com/Iqc2SKl.png)\n",
    "\n"
   ]
  },
  {
   "cell_type": "markdown",
   "metadata": {},
   "source": [
    "> #### **Khởi tạo**\n",
    "    sử dụng ' ', \" \" 1 chuỗi 1 dòng\n",
    "    sử dụng ''' ''', \"\"\" \"\"\" 1 chuỗi nhiều dòng\n"
   ]
  },
  {
   "cell_type": "code",
   "execution_count": 29,
   "metadata": {},
   "outputs": [
    {
     "name": "stdout",
     "output_type": "stream",
     "text": [
      "Đường thương đau, đầy ải nhân gian\n",
      "\n",
      "À sao mà à\n",
      "à thế à\n",
      "\n"
     ]
    }
   ],
   "source": [
    "s1 = \"Đường thương đau, đầy ải nhân gian\"\n",
    "s2 = \"\"\"\n",
    "À sao mà à\n",
    "à thế à\n",
    "\"\"\"\n",
    "print(s1)\n",
    "print(s2)"
   ]
  },
  {
   "cell_type": "markdown",
   "metadata": {},
   "source": [
    "> #### **Truy xuất phần tử**\n"
   ]
  },
  {
   "cell_type": "markdown",
   "metadata": {},
   "source": [
    "> ##### sử dụng cặp dấu []"
   ]
  },
  {
   "cell_type": "code",
   "execution_count": 30,
   "metadata": {},
   "outputs": [
    {
     "name": "stdout",
     "output_type": "stream",
     "text": [
      "ờ\n"
     ]
    }
   ],
   "source": [
    "s = \"Đường thương đau, đầy ải nhân gian\"\n",
    "print(s[2])\n"
   ]
  },
  {
   "cell_type": "markdown",
   "metadata": {},
   "source": [
    "> ##### Truy cập nâng cao sử dụng slicing\n",
    "\n",
    "(kỹ thuật slicing tôi xin được trình bày phần nâng cao)"
   ]
  },
  {
   "cell_type": "markdown",
   "metadata": {},
   "source": [
    "#### **Hàm và phương thức**\n",
    "\n",
    "\n",
    "\n"
   ]
  },
  {
   "cell_type": "markdown",
   "metadata": {},
   "source": [
    "> ##### len(): độ dài\n"
   ]
  },
  {
   "cell_type": "code",
   "execution_count": 32,
   "metadata": {},
   "outputs": [
    {
     "name": "stdout",
     "output_type": "stream",
     "text": [
      "3\n"
     ]
    }
   ],
   "source": [
    "s = \"abc\"\n",
    "print(len(s))"
   ]
  },
  {
   "cell_type": "markdown",
   "metadata": {},
   "source": [
    "> ##### .lower(): chuyển 1 chuỗi về dạng in thường"
   ]
  },
  {
   "cell_type": "code",
   "execution_count": 34,
   "metadata": {},
   "outputs": [
    {
     "name": "stdout",
     "output_type": "stream",
     "text": [
      "HOANGDUC\n"
     ]
    }
   ],
   "source": [
    "s = \"hoangduc\"\n",
    "print(s.upper())"
   ]
  },
  {
   "cell_type": "code",
   "execution_count": 35,
   "metadata": {},
   "outputs": [
    {
     "name": "stdout",
     "output_type": "stream",
     "text": [
      "False\n",
      "True\n"
     ]
    }
   ],
   "source": [
    "s = \"2020\"\n",
    "print(s.isupper())\n",
    "print(\"AAA\".isupper())"
   ]
  },
  {
   "cell_type": "markdown",
   "metadata": {},
   "source": [
    "> ##### .isdigit(): kiểm tra có gồm tất cả kí tự số\n"
   ]
  },
  {
   "cell_type": "code",
   "execution_count": 36,
   "metadata": {},
   "outputs": [
    {
     "name": "stdout",
     "output_type": "stream",
     "text": [
      "True\n",
      "False\n"
     ]
    }
   ],
   "source": [
    "s = \"2020\"\n",
    "print(s.isdigit())\n",
    "print(\"aaaaaaaaaaa\".isdigit())"
   ]
  },
  {
   "cell_type": "markdown",
   "metadata": {},
   "source": [
    "> ##### .isalpha(): kiểm tra gồm tất cả chữ cái\n"
   ]
  },
  {
   "cell_type": "code",
   "execution_count": 37,
   "metadata": {},
   "outputs": [
    {
     "name": "stdout",
     "output_type": "stream",
     "text": [
      "False\n",
      "True\n"
     ]
    }
   ],
   "source": [
    "s = \"2020\"\n",
    "print(s.isalpha())\n",
    "print(\"aaaaaaaaaaa\".isalpha())"
   ]
  },
  {
   "cell_type": "markdown",
   "metadata": {},
   "source": [
    "> ##### .split(): cắt chuỗi\n",
    "\n"
   ]
  },
  {
   "cell_type": "code",
   "execution_count": 38,
   "metadata": {},
   "outputs": [
    {
     "name": "stdout",
     "output_type": "stream",
     "text": [
      "['Anh', 'em', 'ta', '123!']\n"
     ]
    }
   ],
   "source": [
    "s = \"Anh em ta 123!\"\n",
    "print(s.split(\" \"))"
   ]
  },
  {
   "cell_type": "markdown",
   "metadata": {},
   "source": [
    "> ##### .join(): nối chuỗi"
   ]
  },
  {
   "cell_type": "code",
   "execution_count": 40,
   "metadata": {},
   "outputs": [
    {
     "name": "stdout",
     "output_type": "stream",
     "text": [
      "Welcome to quangqb99\n",
      "Welcome to quangqb99!\n"
     ]
    }
   ],
   "source": [
    "ls = [\"Welcome\", \"to\", \"quangqb99\"]\n",
    "print(\" \".join(ls))\n",
    "\n",
    "# Cắt thành list sau khi bỏ khoảng trắng và join list string lại\n",
    "message = \"   Welcome   to quangqb99!   \"\n",
    "print(\" \".join(message.split()))"
   ]
  },
  {
   "cell_type": "markdown",
   "metadata": {},
   "source": [
    "> ##### .replace(): thay thế\n"
   ]
  },
  {
   "cell_type": "code",
   "execution_count": 41,
   "metadata": {},
   "outputs": [
    {
     "name": "stdout",
     "output_type": "stream",
     "text": [
      "Anhemta123!\n"
     ]
    }
   ],
   "source": [
    "s = \"Anh em ta 123!\"\n",
    "print(s.replace(\" \", \"\"))"
   ]
  },
  {
   "cell_type": "markdown",
   "metadata": {},
   "source": [
    "> ##### eval():tính biểu thức từ chuỗi\n",
    "\n",
    "Bạn nào học về ký pháp balan rồi chắc cảm thấy có hàm này tự nhiên trẻ ra được mấy chục tuổi vậy@@\n"
   ]
  },
  {
   "cell_type": "code",
   "execution_count": 44,
   "metadata": {},
   "outputs": [
    {
     "name": "stdout",
     "output_type": "stream",
     "text": [
      "12\n"
     ]
    }
   ],
   "source": [
    "s = \"(1+2+3)*2\"\n",
    "print(eval(s))"
   ]
  },
  {
   "cell_type": "markdown",
   "metadata": {},
   "source": [
    "> ##### string slicing\n",
    "\n",
    "trình bày ở phần nâng cao"
   ]
  },
  {
   "cell_type": "markdown",
   "metadata": {},
   "source": [
    "# **PYTHON NÂNG CAO**\n",
    "> Write by Hoang Duc"
   ]
  },
  {
   "cell_type": "markdown",
   "metadata": {},
   "source": [
    "### **NỘI DUNG:** \n",
    "\n",
    "1. Mutable and Immutable\n",
    "2. Slicing\n",
    "3. Data Types nâng cao\n",
    "4. Lambda Expressions\n",
    "5. Generator Expressions\n",
    "6. List Comprehension\n",
    "7. Dictionary Comprehension"
   ]
  },
  {
   "cell_type": "markdown",
   "metadata": {},
   "source": [
    "### **Mutable and Immutable** \n",
    "\n",
    "Đây là kiến thức quan trọng cần các bạn hiểu kỹ trước khi học về slicing, tuple, set và dictionary.\n",
    "\n",
    "Đầu tiên mọi thứ trong python đều là object từ hàm, biến, mảng v.v.., đó là một phần lý do vì sao ngôn ngữ này mềm dẻo như vậy."
   ]
  },
  {
   "cell_type": "markdown",
   "metadata": {},
   "source": [
    "\n",
    "##### **1.Immutable**\n"
   ]
  },
  {
   "cell_type": "markdown",
   "metadata": {},
   "source": [
    "\n",
    "***Khẩu quyết Immutable: \"Muốn thay đổi thì đi chỗ khác\"***\n",
    "\n",
    "Nghe thì hơi hắt hủi nhưng phải chấp nhận 😄 </br>\n",
    "Đúng vậy! Tôi đang nói đến \"**Immutable**\", nghĩa là bạn đang cố thay đổi cái mà không thể thay đổi. </br>\n",
    "Nhưng giờ nhất quyết thay đổi thì phải làm sao? </br>\n",
    "==> Thì phải đi qua chỗ khác\n",
    "</br>\n",
    "</br>\n",
    "Ban đầu a_number = 5\n",
    "![](https://i.imgur.com/izq38aU.png)\n",
    "\n",
    "</br>\n",
    "\n",
    "Giờ nó đổi ý muốn lưu a_number = 6\n",
    "![](https://i.imgur.com/P5eMGAL.png)\n",
    "\n",
    "\n",
    "\n",
    "    vậy a_number nó bỏ vợ(5) chạy theo bồ(6), để lại vợ(5) bơ vơ 🙂\n",
    "\n",
    "> *integer, float, string, boolean, tuple là **Immutable**.*\n"
   ]
  },
  {
   "cell_type": "markdown",
   "metadata": {},
   "source": [
    "##### **2.Mutable**"
   ]
  },
  {
   "cell_type": "markdown",
   "metadata": {},
   "source": [
    ">  *List, Dictionary, Set, Class là **Mutable**.*\n",
    "\n",
    "***Khẩu quyết Mutable: \"Động đến tao thì okie sao cũng được, còn động đến con cháu tao thì coi chừng\"***\n",
    "</br>\n",
    "\n",
    "Đến đây ta lại thắc mắc, và thử đặt câu hỏi \"*các phần tử trong list đều là integer, string thì sao? Vậy List là **Immutable** à - không lẽ tui nói sai*\"\n",
    "</br>\n",
    "Hmmm... 🐧\n",
    "\n",
    "Đây là câu hỏi 10đ. Và câu trả lời là hình ảnh dưới đây:\n",
    "![](https://i.imgur.com/PiuWyFv.jpg)\n",
    "\n",
    "a_list là một đối tượng trỏ đến *list object*(**Mutable**), và trong *list object* lại trỏ đến từng đối tượng là các **Mutable** và cuối cùng trỏ đến int instance(**Immutable**).\n",
    "\n",
    "List là **Mutable** chính nói đến đối tượng áp cuối trỏ đến int instance. Các bạn lưu ý để tránh nhầm lẫn!\n"
   ]
  },
  {
   "cell_type": "markdown",
   "metadata": {},
   "source": [
    "### **Slicing** "
   ]
  },
  {
   "cell_type": "markdown",
   "metadata": {},
   "source": [
    "> ##### **list slicing**\n",
    "\n",
    "Đây là công cụ đầy quyền lực, nó không chỉ có công dụng để truy cập phần tử mà còn có thể:\n",
    "\n",
    "1.   Truy cập theo kiểu forward\n",
    "2.   Truy cập theo kiểu Reverse\n",
    "3.   Assign hùm bà lằng\n",
    "4.   Insert tuỳ ý\n",
    "5.   Remove tùm lum\n",
    "6.   Clone list\n",
    "\n",
    "Tôi sẽ demo kỹ code cho các bạn xem:\n",
    "\n",
    "    Dạng: my_list[start=0:stop=-1:steps=1]\n",
    "\n",
    "      +---+---+---+---+---+---+\n",
    "      | P | y | t | h | o | n |\n",
    "      +---+---+---+---+---+---+\n",
    "        0   1   2   3   4   5 \n",
    "       -6  -5  -4  -3  -2  -1\n",
    "\n",
    "    index begin: 0, -length\n",
    "    index end: -1, length - 1\n",
    "\n",
    "\n",
    "\n",
    "\n"
   ]
  },
  {
   "cell_type": "code",
   "execution_count": 47,
   "metadata": {},
   "outputs": [
    {
     "name": "stdout",
     "output_type": "stream",
     "text": [
      "------   1. all forward  ------\n",
      "['p', 'y', 't', 'h', 'o', 'n']\n",
      "['p', 'y', 't', 'h', 'o', 'n']\n",
      "['p', 'y', 't', 'h', 'o', 'n']\n",
      "['p', 'y', 't', 'h', 'o', 'n']\n",
      "['p', 'y', 't', 'h', 'o', 'n']\n",
      "\n",
      "------   2. Reverse  ---------\n",
      "['n', 'o', 'h', 't', 'y', 'p']\n",
      "['n', 'o', 'h', 't', 'y', 'p']\n",
      "['n', 'o', 'h', 't', 'y', 'p']\n",
      "['n', 'o', 'h', 't', 'y', 'p']\n",
      "\n",
      "------   3. Assign hùm bà lằng  ---------\n",
      "['p', 1, 2, 3, 'h', 'o', 'n']\n",
      "\n",
      "------   4. Insert tuỳ ý  ---------\n",
      "['p', 1, 2, 3, 'y', 't', 'h', 'o', 'n']\n",
      "\n",
      "------   5. Remove tùm lum  ---------\n",
      "['p', 'h', 'o', 'n']\n",
      "\n",
      "------   6. Clone list  ---------\n",
      "['p', 'y', 't', 'h', 'o', 'n']\n"
     ]
    }
   ],
   "source": [
    "mylist = ['p','y','t','h','o','n']\n",
    "n = len(mylist)\n",
    " \n",
    "print(\"------   1. all forward  ------\")\n",
    "print(mylist)\n",
    "print(mylist[:]) \n",
    "print(mylist[0:n])\n",
    "print(mylist[-n:])\n",
    "print(mylist[-n:n])\n",
    "\n",
    "print(\"\\n------   2. Reverse  ---------\")\n",
    "print(mylist[::-1]) # Recommend\n",
    "print(mylist[-1:-(n + 1):-1])\n",
    "print(mylist[-1::-1])\n",
    "print(mylist[n-1:-(n + 1):-1])\n",
    "\n",
    "print(\"\\n------   3. Assign hùm bà lằng  ---------\")\n",
    "mylist[1:3] = [1,2,3]\n",
    "print(mylist)\n",
    "\n",
    "# Reset\n",
    "mylist = ['p','y','t','h','o','n']\n",
    "\n",
    "print(\"\\n------   4. Insert tuỳ ý  ---------\")\n",
    "# chèn [1,2,3] vào vị trí 1\n",
    "mylist[1:1] = [1,2,3]\n",
    "print(mylist)\n",
    "\n",
    "# Reset\n",
    "mylist = ['p','y','t','h','o','n']\n",
    "\n",
    "print(\"\\n------   5. Remove tùm lum  ---------\")\n",
    "# Xoá từ 1 -> 2\n",
    "mylist[1:3] = []\n",
    "print(mylist)\n",
    "\n",
    "# Reset\n",
    "mylist = ['p','y','t','h','o','n']\n",
    "\n",
    "print(\"\\n------   6. Clone list  ---------\")\n",
    "listcopy_1 = mylist[0:3]\n",
    "listcopy_2 = mylist[:] # copy toàn bộ\n",
    "listcopy_1[0] = [1,2,3]\n",
    "listcopy_2[0] = []\n",
    "print(mylist)\n"
   ]
  },
  {
   "cell_type": "markdown",
   "metadata": {},
   "source": [
    "Nắm được slicing trong list làm ta trở nên tự tin trong việc xử lý.\n",
    "Tuy nhiên sau khi đọc kỹ code ở trên thì nhiều bạn thắc mắc:\n",
    "> *Tại sao listcopy_1 và listcopy_2 thay đổi hùm bà lằng nhưng mylist của ta vẫn bình yên vô sự?*\n",
    "\n",
    "Đây là câu hỏi 10 điểm - nice 💯\n",
    "\n",
    "Khi thực thi ***new_List = old_List*** thì new_List và old_List đang tham chiếu đến vùng nhớ. Và nếu các vùng nhớ đó là các immutable thì ta đã **sao chép thực sự**. Còn nếu vùng nhớ đó là 1 mutable thì ta phải chấp nhận sự thực là ta **chưa sao chép thực sự**. Ở đây list chứa các string hoặc int thì nó đang **sao chép thực sự**\n",
    "\n",
    "> Bạn đọc thêm immutable và mutable ở phần ***python nâng cao***\n"
   ]
  },
  {
   "cell_type": "code",
   "execution_count": 48,
   "metadata": {},
   "outputs": [
    {
     "name": "stdout",
     "output_type": "stream",
     "text": [
      "[1, [1, 34, 3], 4]\n",
      "[7, 8, 9]\n",
      "[1, 34, 3]\n",
      "100\n"
     ]
    }
   ],
   "source": [
    "mylist = [1, [1,2,3], 4]\n",
    "\n",
    "ok = mylist[1]\n",
    "ok1 = mylist[1]\n",
    "ok2 = mylist[0]\n",
    "ok = [7,8,9]\n",
    "ok1[1] = 34\n",
    "ok2 = 100\n",
    "print(mylist)\n",
    "print(ok)\n",
    "print(ok1)\n",
    "print(ok2)"
   ]
  },
  {
   "cell_type": "markdown",
   "metadata": {},
   "source": [
    "> ##### **Numpy slicing**\n",
    "\n",
    "Các bạn đừng tưởng bở trong numpy sử dụng slicing giống như trong list.\n",
    "Hãy đón xem tập tiếp theo ở phần numpy nhé..."
   ]
  },
  {
   "cell_type": "markdown",
   "metadata": {},
   "source": [
    "### Các kiểu dữ liệu nâng cao"
   ]
  },
  {
   "cell_type": "markdown",
   "metadata": {},
   "source": [
    "Tổng quan về kiểu dữ liệu trong python\n",
    "\n",
    "![](https://i.imgur.com/UVw74RV.png)\n",
    "\n",
    "\n",
    "    list []\n",
    "    tuple ()\n",
    "    set, dictionary {}"
   ]
  },
  {
   "cell_type": "markdown",
   "metadata": {},
   "source": [
    "#### **Tuple** "
   ]
  },
  {
   "cell_type": "markdown",
   "metadata": {},
   "source": [
    "***Khẩu quyết tuple: \"tuple là constant list\"***\n",
    "\n",
    "Dừng ở đây chắc có người chặn đường quá, haha 😂 \n",
    "<br/>\n",
    "<br/>\n",
    "Các bạn lưu ý ở tuple các vấn đề sau:\n",
    "\n",
    "1.   bỏ (), python vẫn hiểu đây là một tuples \n",
    "\n",
    "```python\n",
    "tuple = \"Mãi bên nhau bạn nhớ\", \"ok bạn ơi\", 2 , 4\n",
    "```\n",
    "\n",
    "2.   Trường hợp tuples chỉ có 1 phần tử thì bên sau phần tử đó phải có dấu phẩy ',' . Nếu không nó sẽ hiểu đây là một kiểu int.\n",
    "\n",
    "\n",
    "```python\n",
    "tuple = (2, ) # type tuples\n",
    "tuple = (2) # type int\n",
    "```\n",
    "\n",
    "\n",
    "\n",
    "\n",
    "\n",
    "\n"
   ]
  },
  {
   "cell_type": "markdown",
   "metadata": {},
   "source": [
    "#### **Set** "
   ]
  },
  {
   "cell_type": "markdown",
   "metadata": {},
   "source": [
    "#### **Dictionary** "
   ]
  },
  {
   "cell_type": "markdown",
   "metadata": {},
   "source": [
    "### **Lambda Expressions**"
   ]
  },
  {
   "cell_type": "markdown",
   "metadata": {},
   "source": [
    "> Nó là một hàm bình thường nhưng **ko cần tên hàm**, **ko cần từ khoá return** để trả về giá trị. \n",
    "\n",
    "Họ chế ra cái này mình nghĩ vì ngày xưa ông cha ta code bằng giấy cho đỡ tốn mực@@\n",
    "\n",
    "(**lambda** các tham số **:** giá trị cần return) (đầu vào các tham số)\n",
    "\n",
    "\n",
    "\n"
   ]
  },
  {
   "cell_type": "code",
   "execution_count": 49,
   "metadata": {},
   "outputs": [
    {
     "name": "stdout",
     "output_type": "stream",
     "text": [
      "True\n"
     ]
    }
   ],
   "source": [
    "print((lambda x : x % 2 == 0) (2))"
   ]
  },
  {
   "cell_type": "markdown",
   "metadata": {},
   "source": [
    "### **Generator Expressions** \n",
    "\n",
    "### **List Comprehension**\n",
    "\n",
    "### **Dictionary Comprehension**"
   ]
  },
  {
   "cell_type": "code",
   "execution_count": null,
   "metadata": {},
   "outputs": [],
   "source": []
  }
 ],
 "metadata": {
  "kernelspec": {
   "display_name": "Python 3",
   "language": "python",
   "name": "python3"
  },
  "language_info": {
   "codemirror_mode": {
    "name": "ipython",
    "version": 3
   },
   "file_extension": ".py",
   "mimetype": "text/x-python",
   "name": "python",
   "nbconvert_exporter": "python",
   "pygments_lexer": "ipython3",
   "version": "3.7.3"
  }
 },
 "nbformat": 4,
 "nbformat_minor": 4
}
