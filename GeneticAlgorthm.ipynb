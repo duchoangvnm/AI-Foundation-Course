{
  "nbformat": 4,
  "nbformat_minor": 0,
  "metadata": {
    "colab": {
      "name": "GeneticAlgorthm.ipynb",
      "provenance": [],
      "collapsed_sections": [],
      "toc_visible": true
    },
    "kernelspec": {
      "name": "python3",
      "display_name": "Python 3"
    }
  },
  "cells": [
    {
      "cell_type": "markdown",
      "metadata": {
        "id": "62bqAS-XxY9p"
      },
      "source": [
        "#**INTRODUCTION**\n",
        "##**Genetic Algorthm**"
      ]
    },
    {
      "cell_type": "markdown",
      "metadata": {
        "id": "JC0HIt9MyFhp"
      },
      "source": [
        "### **NỘI DUNG**\n",
        "###1. Random Search\n",
        "###2. Genetic Algorithm\n",
        "###3. Bài Tập"
      ]
    },
    {
      "cell_type": "markdown",
      "metadata": {
        "id": "LXMzI1m3ydzj"
      },
      "source": [
        "### **1.Random Search**\n"
      ]
    },
    {
      "cell_type": "markdown",
      "metadata": {
        "id": "4bQeAgQjzO5O"
      },
      "source": [
        "Bài toán one-max\n",
        "\n",
        "Giả thiết:\n",
        "*   Cho vector v độ dài n chỉ chứa 0,1\n",
        "*   **Hàm secret** cho biết vector chứa số phần tử 1\n",
        "Hãy cho biết vector có chứa nhiều phần tử 1 nhất?\n",
        "\n",
        "![](https://i.imgur.com/XHHqLk1.png)\n",
        "\n",
        "Bài toán quá đơn giản đối với con người chúng ta vì rõ ràng vector chứa nhiều phần tử 1 nhất là vector mà các phần tử đều là số 1\n",
        "\n",
        "![](https://i.imgur.com/JOUsFyF.png)\n",
        "\n",
        "Tuy nhiên đứng ở góc nhìn là 1 cái máy tính thì input là giả thiết đã cho gồm vector chỉ chứa 0,1 và 1 hàm đánh giá. Làm sao tìm được vector đúng như yêu cầu bài toán?\n",
        "\n",
        "Cách dummy nhất là ta sử dụng Random Search: \n",
        "\n",
        "1. Khởi tạo giá trị max = 0\n",
        "2. Tạo 1 vector và random n giá trị của nó\n",
        "3. Sử dụng hàm secret và ghi nhận giá trị max\n",
        "4. Lặp lại một số lần cho đến khi kết thúc vòng lặp.\n",
        "\n",
        "Ta có thể cải tiến, thay vì chỉ tạo 1 vector và random nó thì ta có thể tạo m vector rồi thực hiện tương tự\n",
        "\n",
        "1. Khởi tạo giá trị max = 0\n",
        "2. Tạo m vector và random giá trị từng vector\n",
        "3. Sử dụng hàm secret cho toàn bộ m vector và ghi nhận giá trị max\n",
        "4. Lặp lại một số lần cho đến khi kết thúc vòng lặp.\n",
        "\n",
        "![](https://i.imgur.com/cDEuruN.png)\n",
        "Thực tế kết quả quá tệ, tôi mong chờ nơi tình yêu bắt đầu ở vòng lặp thứ 1000 để được max = 10(giá trị mong muốn) nhưng tất cả các vector đại diện là mỗi chấm đã không như ý tôi muốn, thậm chí còn thua m vector ban đầu. Max của tôi nhận được chỉ là 8\n",
        "\n",
        "Ở đây tôi cải tiến thuật toán random search bằng cách **tôi sử dụng m vector ban đầu và di truyền sang thế hệ m vector kế tiếp. Và mong chờ thế hệ tiếp theo sẽ tốt hơn.**\n",
        "\n",
        "![](https://i.imgur.com/uvM2f91.png)\n",
        "\n",
        "\n",
        "Và bằng ý tưởng di truyền của Darwin, người ta cho ra đời thuật toán **Genetic Algorithm**"
      ]
    },
    {
      "cell_type": "markdown",
      "metadata": {
        "id": "71ZAXqC9zibZ"
      },
      "source": [
        ""
      ]
    },
    {
      "cell_type": "markdown",
      "metadata": {
        "id": "dz-uazxPzVi_"
      },
      "source": [
        ""
      ]
    },
    {
      "cell_type": "markdown",
      "metadata": {
        "id": "8kiMTYN2yggA"
      },
      "source": [
        ""
      ]
    },
    {
      "cell_type": "markdown",
      "metadata": {
        "id": "ZvMfrvtNxgXT"
      },
      "source": [
        ""
      ]
    },
    {
      "cell_type": "markdown",
      "metadata": {
        "id": "PWxm7pnRxaKD"
      },
      "source": [
        ""
      ]
    },
    {
      "cell_type": "markdown",
      "metadata": {
        "id": "2fzYSwec0k-h"
      },
      "source": [
        "### **2.Genetic Algorithm**"
      ]
    },
    {
      "cell_type": "markdown",
      "metadata": {
        "id": "QKUkUXrt0p27"
      },
      "source": [
        "Quay trở lại với bài toán one-max và sơ đồ khối miêu tả cải tiến thuật toán Random search\n",
        "\n",
        "![](https://i.imgur.com/uvM2f91.png)\n",
        "\n",
        "\n",
        "Và đây là thuật toán Genetic Algorithm bằng cách thay thế phần di truyền bằng 3 bước: chọn lọc, lai ghép, đột biến\n",
        "\n",
        "![](https://i.imgur.com/ldeCGtC.png)"
      ]
    },
    {
      "cell_type": "markdown",
      "metadata": {
        "id": "LMaF4qg608bT"
      },
      "source": [
        "### **3.BÀI TẬP**"
      ]
    },
    {
      "cell_type": "markdown",
      "metadata": {
        "id": "YkoF6bdc0-hS"
      },
      "source": [
        "#### **Class GA_algorithm**\n",
        "sử dụng cho các bài toán, chúng ta chỉ cần viết lại hàm secret"
      ]
    },
    {
      "cell_type": "markdown",
      "metadata": {
        "id": "4iGnov9q1Cja"
      },
      "source": [
        ""
      ]
    },
    {
      "cell_type": "code",
      "metadata": {
        "id": "tY2bXYTh1Ep6"
      },
      "source": [
        "# -*- coding: utf-8 -*-\n",
        "\"\"\"\n",
        "Created on Wed Sep  9 12:02:44 2020\n",
        "\n",
        "@author: Admin\n",
        "\"\"\"\n",
        "import numpy as np\n",
        "import matplotlib.pyplot as plt\n",
        "\n",
        "class GA_algorithm():\n",
        "    '''\n",
        "    return:\n",
        "        class aims find parameter optimal for problem\n",
        "    \n",
        "    Parameter: \n",
        "        nGen is quantum parameter\n",
        "        rangeOfGen is values parameter can get\n",
        "        nIndividual is quantum individual\n",
        "        nIterator: loop for optimal\n",
        "        typeRandom: 1 is int and 0 is float\n",
        "    '''\n",
        "    def __init__(self, nGen, rangeOfGen, nIndividual, nIterator, typeRandom = 0, \n",
        "                 rateCross=0.9, rateMutate=0.05, elitism = 2):\n",
        "        self.nGen = nGen\n",
        "        self.rangeOfGen = rangeOfGen\n",
        "        self.nIndividual = nIndividual\n",
        "        self.nIterator = nIterator\n",
        "        self.rateCross = rateCross\n",
        "        self.rateMutate = rateMutate\n",
        "        self.elitism = elitism\n",
        "        self.nIterator = nIterator\n",
        "        self.getOptimal = None\n",
        "        self.losses = []\n",
        "        self.typeRandom = typeRandom\n",
        "    \n",
        "    def getIndividual(self):\n",
        "        if self.typeRandom:\n",
        "            return np.random.randint(self.rangeOfGen[0],self.rangeOfGen[1]+1, self.nGen)\n",
        "        return np.random.uniform(self.rangeOfGen[0],self.rangeOfGen[1], self.nGen)\n",
        "    \n",
        "    # Khởi tạo quần thể BỘ THAM SỐ\n",
        "    def getPopulation(self):\n",
        "        return np.array([self.getIndividual() for _ in range(self.nIndividual)])\n",
        "    \n",
        "    # Chọn 1 BỘ THAM SỐ\n",
        "    def selectionIndiviual(self, population, funcCost):\n",
        "        cost = funcCost(population)\n",
        "        index = np.random.choice(np.arange(self.nIndividual), \n",
        "                                 self.nIndividual,\n",
        "                                 p = cost/cost.sum())\n",
        "        return population[index]\n",
        "\n",
        "    # Chéo 2 BỘ THAM SỐ\n",
        "    def crossIndividual(self, individual1, individual2):\n",
        "        prob= np.random.random(size = self.nGen) < self.rateCross\n",
        "        \n",
        "        individual1[prob], individual2[prob] = individual2[prob], individual1[prob].copy()\n",
        "        \n",
        "        return individual1, individual2\n",
        "    \n",
        "    # Đột biến 1 BỘ THAM SỐ\n",
        "    def mutateIndividual(self, individual):\n",
        "        prob= np.random.random(size = self.nGen) < self.rateMutate\n",
        "        individual[prob] = self.getIndividual()[prob]\n",
        "        return individual\n",
        "    \n",
        "    # tối ưu BỘ THAM SỐ từ việc chạy lại nhiều lần\n",
        "    def optimal(self, funcCost):\n",
        "        population = self.getPopulation()\n",
        "        for _ in range(self.nIterator):\n",
        "            population = self.selectionIndiviual(population, funcCost)\n",
        "            \n",
        "            for i in range(self.nIndividual//2 - 2):\n",
        "                \n",
        "                in1 = population[np.random.randint(0,self.nIndividual)]\n",
        "                in2 = population[np.random.randint(0,self.nIndividual)]\n",
        "                \n",
        "                in1,in2 = self.crossIndividual(in1.copy(),in2.copy())\n",
        "                \n",
        "                in1 = self.mutateIndividual(in1)\n",
        "                in2 = self.mutateIndividual(in2)\n",
        "                \n",
        "                population[i*2] = in1\n",
        "                population[i*2+1] = in2\n",
        "            \n",
        "            indexMax = funcCost(population).argsort()[-2:]\n",
        "            population[-2] = population[indexMax[0]]\n",
        "            population[-1] = population[indexMax[1]]\n",
        "            self.losses.append(1/(funcCost(population).sum()+1))\n",
        "        self.getOptimal = population[-1]\n",
        "        \n",
        "        return self.getOptimal\n",
        "    #=========================================\n",
        "    \n",
        "    # Quan sát đồ thị\n",
        "    def showGraphLosses(self):\n",
        "        if (self.losses == []):\n",
        "            print(\"you need run optimal Function!!\")\n",
        "            return\n",
        "        \n",
        "        plt.plot(self.losses)\n",
        "        plt.show()"
      ],
      "execution_count": 3,
      "outputs": []
    },
    {
      "cell_type": "markdown",
      "metadata": {
        "id": "za10ocNK17vh"
      },
      "source": [
        "#### **Dataset**: [here](https://drive.google.com/drive/folders/1MKBhdffirxuUYKHG7ykYRGc4P5NviLsZ?usp=sharing)"
      ]
    },
    {
      "cell_type": "markdown",
      "metadata": {
        "id": "mj5iFBVA2VNR"
      },
      "source": [
        "#### **a) One-Max**"
      ]
    },
    {
      "cell_type": "code",
      "metadata": {
        "id": "cgY_-D972ed4",
        "outputId": "34eedc30-515a-4314-8b46-70a2ab97a77f",
        "colab": {
          "base_uri": "https://localhost:8080/",
          "height": 282
        }
      },
      "source": [
        "binaryMax = GA_algorithm(nGen = 10, rangeOfGen = (0,1), \n",
        "                           nIndividual=100, nIterator=100, typeRandom = 1)\n",
        "print(\"individual optimal = \", binaryMax.optimal(lambda x : np.sum(x, axis=1)))\n",
        "binaryMax.showGraphLosses()"
      ],
      "execution_count": 4,
      "outputs": [
        {
          "output_type": "stream",
          "text": [
            "individual optimal =  [1 1 1 1 1 1 1 1 1 1]\n"
          ],
          "name": "stdout"
        },
        {
          "output_type": "display_data",
          "data": {
            "image/png": "[encoded data removed]",
            "text/plain": [
              "<Figure size 432x288 with 1 Axes>"
            ]
          },
          "metadata": {
            "tags": [],
            "needs_background": "light"
          }
        }
      ]
    },
    {
      "cell_type": "markdown",
      "metadata": {
        "id": "i_yiUUMN2kQc"
      },
      "source": [
        "#### **b) MinSphere**"
      ]
    },
    {
      "cell_type": "code",
      "metadata": {
        "id": "IsLUzV9m2pNo",
        "outputId": "bced8e3f-297e-4665-cbcd-0fc83d8a0b4e",
        "colab": {
          "base_uri": "https://localhost:8080/",
          "height": 282
        }
      },
      "source": [
        "\n",
        "# Đánh giá loss, error của giá trị dự đoán so với giá trị thật (MIN)\n",
        "def funcCall(population):\n",
        "    fitness = np.sum(population*population, axis=1)\n",
        "    \n",
        "    return 1/(1 + fitness) # Đảo lại thành max để khớp với hàm sorted\n",
        "#=========================================\n",
        "\n",
        "minSphere = GA_algorithm(nGen = 4, rangeOfGen = (0,100), nIndividual=100, nIterator=100)\n",
        "print(\"individual optimal = \", minSphere.optimal(funcCall))\n",
        "minSphere.showGraphLosses()"
      ],
      "execution_count": 5,
      "outputs": [
        {
          "output_type": "stream",
          "text": [
            "individual optimal =  [0.15204692 0.35018357 0.29142909 0.33205738]\n"
          ],
          "name": "stdout"
        },
        {
          "output_type": "display_data",
          "data": {
            "image/png": "[encoded data removed]",
            "text/plain": [
              "<Figure size 432x288 with 1 Axes>"
            ]
          },
          "metadata": {
            "tags": [],
            "needs_background": "light"
          }
        }
      ]
    },
    {
      "cell_type": "markdown",
      "metadata": {
        "id": "8nIl46l02wjS"
      },
      "source": [
        "#### **c) Knapsack**"
      ]
    },
    {
      "cell_type": "code",
      "metadata": {
        "id": "CQpHuA2D2xKA",
        "outputId": "3f4f9295-aef1-4c50-90d0-2750c3c2a755",
        "colab": {
          "base_uri": "https://localhost:8080/",
          "height": 299
        }
      },
      "source": [
        "weights = np.array([1, 2, 5, 7, 10, 12, 15, 23, 32, 33, 35, 37])  # can nang cac vat\n",
        "prices =  np.array([1, 3, 6, 7, 12, 15, 25, 32, 44, 45, 47, 50])  # gia tri cua cac vat tuong ung\n",
        "maxWeight = 70\n",
        "\n",
        "\n",
        "def funcCost(population):\n",
        "    weight = np.sum(population*weights, axis = 1)\n",
        "    price = np.sum(population*prices, axis = 1)\n",
        "    for i in range(len(population)):\n",
        "        if weight[i] > maxWeight:\n",
        "            price[i] = 1/100000 \n",
        "                    \n",
        "    return price\n",
        "\n",
        "travelOpimal = GA_algorithm(12, (0,1), 200, 100, 1)\n",
        "travelOpimal.optimal(funcCost)\n",
        "travelOpimal.showGraphLosses()\n",
        "print(\"individual optimal = \", travelOpimal.getOptimal)\n",
        "print(np.sum(travelOpimal.getOptimal*prices))"
      ],
      "execution_count": 6,
      "outputs": [
        {
          "output_type": "display_data",
          "data": {
            "image/png": "[encoded data removed]",
            "text/plain": [
              "<Figure size 432x288 with 1 Axes>"
            ]
          },
          "metadata": {
            "tags": [],
            "needs_background": "light"
          }
        },
        {
          "output_type": "stream",
          "text": [
            "individual optimal =  [1 0 0 0 1 1 1 0 1 0 0 0]\n",
            "97\n"
          ],
          "name": "stdout"
        }
      ]
    },
    {
      "cell_type": "markdown",
      "metadata": {
        "id": "Yv9UyPes22hY"
      },
      "source": [
        "#### **d) Travelling**"
      ]
    },
    {
      "cell_type": "code",
      "metadata": {
        "id": "MQCMJR2P26nR",
        "outputId": "1a149437-d872-496a-ba7e-0d970ee87a5f",
        "colab": {
          "base_uri": "https://localhost:8080/",
          "height": 299
        }
      },
      "source": [
        "from google.colab import auth\n",
        "auth.authenticate_user()\n",
        "\n",
        "from pydrive.drive import GoogleDrive\n",
        "from pydrive.auth import GoogleAuth\n",
        "from oauth2client.client import GoogleCredentials\n",
        "gauth = GoogleAuth()\n",
        "gauth.credentials = GoogleCredentials.get_application_default()\n",
        "#đây là chuỗi ký tự chữ và số dài xuất hiện khi bạn nhấp vào \"lấy liên kết để chia sẻ ảnh trong Google Drive\"\n",
        "drive = GoogleDrive(gauth)\n",
        "#Lấy từng file được google chia sẻ theo  ID với đường Link được chuối số \n",
        "myfile = drive.CreateFile({'id': '1lnUUyVaAU_uORTj39cnaWVtu0gxis0fm'})\n",
        "myfile.GetContentFile('data_route.txt')\n",
        "\n",
        "data = np.genfromtxt('data_route.txt',delimiter=',')\n",
        "\n",
        "def funcCall(population):\n",
        "    cost = np.sum(data[population[:,0:-1] - 1,population[:,1:] - 1], axis=1)\n",
        "    cost += data[population[:,-1] - 1,population[:,0] - 1]\n",
        "    idx = [len(np.unique(i)) != len(i) for i in population]\n",
        "    cost[idx] = 100000\n",
        "\n",
        "    return 1/cost\n",
        "\n",
        "travelOpimal = GA_algorithm(5, (1,5), 1000, 20, 1)\n",
        "travelOpimal.optimal(funcCall)\n",
        "travelOpimal.showGraphLosses()\n",
        "a = travelOpimal.getOptimal\n",
        "cost = np.sum(data[a[0:-1] - 1,a[1:] - 1])\n",
        "cost += data[a[-1] - 1,a[0] - 1]\n",
        "print(a)\n",
        "print(cost)"
      ],
      "execution_count": 19,
      "outputs": [
        {
          "output_type": "display_data",
          "data": {
            "image/png": "[encoded data removed]",
            "text/plain": [
              "<Figure size 432x288 with 1 Axes>"
            ]
          },
          "metadata": {
            "tags": [],
            "needs_background": "light"
          }
        },
        {
          "output_type": "stream",
          "text": [
            "[3 4 5 1 2]\n",
            "41.0\n"
          ],
          "name": "stdout"
        }
      ]
    },
    {
      "cell_type": "markdown",
      "metadata": {
        "id": "jNkGOqB66STw"
      },
      "source": [
        "#### **e) advertising**"
      ]
    },
    {
      "cell_type": "code",
      "metadata": {
        "id": "HvAqoFn06V2H",
        "outputId": "53bc4f89-e9c4-4e7d-d390-f5a4ec861cd9",
        "colab": {
          "base_uri": "https://localhost:8080/",
          "height": 299
        }
      },
      "source": [
        "#Lấy từng file được google chia sẻ theo  ID với đường Link được chuối số \n",
        "myfile = drive.CreateFile({'id': '1Q-95xpVNZ0jKway2fzuwf6g1Gbg_cJzJ'})\n",
        "myfile.GetContentFile('advertising.csv')\n",
        "\n",
        "data = np.genfromtxt('advertising.csv',delimiter=',', skip_header=1)\n",
        "\n",
        "features, yTruth = data[:, :-1], data[:, -1]\n",
        "features = np.append(features, np.ones((len(data), 1)), axis=1)\n",
        "\n",
        "\n",
        "def funcCall(population):\n",
        "    fitness = np.zeros(population.shape[0])\n",
        "    for i in range(population.shape[0]):\n",
        "        y_predict = np.dot(features, population[i])\n",
        "        fitness[i] = np.sum(y_predict - yTruth) ** 2\n",
        "\n",
        "    return 1 / (1 + fitness)\n",
        "\n",
        "\n",
        "advertising = GA_algorithm(nGen=4, rangeOfGen=(0, 1), nIndividual=50, nIterator=50)\n",
        "print(\"individual optimal = \", advertising.optimal(funcCall))\n",
        "advertising.showGraphLosses()\n",
        "advertising.getOptimal"
      ],
      "execution_count": 21,
      "outputs": [
        {
          "output_type": "stream",
          "text": [
            "individual optimal =  [0.02921223 0.22622665 0.16644947 0.48912364]\n"
          ],
          "name": "stdout"
        },
        {
          "output_type": "display_data",
          "data": {
            "image/png": "[encoded data removed]",
            "text/plain": [
              "<Figure size 432x288 with 1 Axes>"
            ]
          },
          "metadata": {
            "tags": [],
            "needs_background": "light"
          }
        },
        {
          "output_type": "execute_result",
          "data": {
            "text/plain": [
              "array([0.02921223, 0.22622665, 0.16644947, 0.48912364])"
            ]
          },
          "metadata": {
            "tags": []
          },
          "execution_count": 21
        }
      ]
    }
  ]
}