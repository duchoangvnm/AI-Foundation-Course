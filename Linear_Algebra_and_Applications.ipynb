{
  "nbformat": 4,
  "nbformat_minor": 0,
  "metadata": {
    "colab": {
      "name": "Linear Algebra and Applications.ipynb",
      "provenance": [],
      "collapsed_sections": [
        "HjVfhJHmPSRQ",
        "8XqazazvPML5"
      ],
      "toc_visible": true
    },
    "kernelspec": {
      "name": "python3",
      "display_name": "Python 3"
    }
  },
  "cells": [
    {
      "cell_type": "markdown",
      "metadata": {
        "id": "6FsWJjuJPEe6"
      },
      "source": [
        "#**Linear Algebra and Applications**\n"
      ]
    },
    {
      "cell_type": "markdown",
      "metadata": {
        "id": "HjVfhJHmPSRQ"
      },
      "source": [
        "##1.Derivative/Gradient \n",
        "\n",
        "\n",
        "\n"
      ]
    },
    {
      "cell_type": "markdown",
      "metadata": {
        "id": "dXJuVuYwQAm-"
      },
      "source": [
        "![](https://i.imgur.com/pqrHdPa.jpg)\n",
        "![](https://i.imgur.com/wsyJiDt.jpg)\n",
        "![](https://i.imgur.com/8ILk6PR.jpg)\n",
        "![](https://i.imgur.com/QnGA7uT.jpg)\n",
        "\n",
        "\n"
      ]
    },
    {
      "cell_type": "code",
      "metadata": {
        "id": "EjWOblqUTZAe"
      },
      "source": [
        "#Code:\n",
        "import numpy as np\n",
        "import cv2\n",
        "# Đọc file ảnh và convert to grayscale\n",
        "img1 = cv2.imread('vn.jpeg',0)\n"
      ],
      "execution_count": null,
      "outputs": []
    },
    {
      "cell_type": "markdown",
      "metadata": {
        "id": "qTax8MsdS6FU"
      },
      "source": [
        ""
      ]
    },
    {
      "cell_type": "markdown",
      "metadata": {
        "id": "HOmQ9QzrSw54"
      },
      "source": [
        ""
      ]
    },
    {
      "cell_type": "markdown",
      "metadata": {
        "id": "8XqazazvPML5"
      },
      "source": [
        "##2.Interpolation"
      ]
    },
    {
      "cell_type": "markdown",
      "metadata": {
        "id": "yjkBbclzdFNR"
      },
      "source": [
        "![](https://i.imgur.com/YjQfXh8.jpg)"
      ]
    },
    {
      "cell_type": "markdown",
      "metadata": {
        "id": "GpvN26jtc23X"
      },
      "source": [
        "![](https://i.imgur.com/MxqaNuY.jpg)"
      ]
    },
    {
      "cell_type": "markdown",
      "metadata": {
        "id": "yT4RE0ync6ne"
      },
      "source": [
        "![](https://i.imgur.com/xsqrgmQ.jpg)"
      ]
    },
    {
      "cell_type": "markdown",
      "metadata": {
        "id": "XtVDJEdAdAI-"
      },
      "source": [
        "![](https://i.imgur.com/miWw6lX.jpg)\n"
      ]
    },
    {
      "cell_type": "markdown",
      "metadata": {
        "id": "rET9Qr5UPfN_"
      },
      "source": [
        "##3.Vector and Matrix "
      ]
    },
    {
      "cell_type": "markdown",
      "metadata": {
        "id": "mAaIPixedhsL"
      },
      "source": [
        "![](https://i.imgur.com/Q7EuRJx.jpg)\n",
        "![](https://i.imgur.com/xZeTTEx.jpg)\n",
        "![](https://i.imgur.com/UEwkbmp.jpg)\n",
        "![](https://i.imgur.com/9A2WQr8.jpg)"
      ]
    },
    {
      "cell_type": "markdown",
      "metadata": {
        "id": "s11LNRV0Ph5_"
      },
      "source": [
        "##4.Cosine Similarity "
      ]
    },
    {
      "cell_type": "markdown",
      "metadata": {
        "id": "I57w1KFMPmj-"
      },
      "source": [
        "##5.Integral"
      ]
    },
    {
      "cell_type": "markdown",
      "metadata": {
        "id": "QQQReKXkVl4A"
      },
      "source": [
        "##**6.Bài Tập** "
      ]
    },
    {
      "cell_type": "code",
      "metadata": {
        "id": "wzmXmE-CVpJw",
        "outputId": "ab5d7f8c-6b62-407b-9160-79ac0ead04ec",
        "colab": {
          "base_uri": "https://localhost:8080/"
        }
      },
      "source": [
        "# aivietnam.ai\n",
        "from google.colab import auth\n",
        "auth.authenticate_user()\n",
        "\n",
        "from pydrive.drive import GoogleDrive\n",
        "from pydrive.auth import GoogleAuth\n",
        "from oauth2client.client import GoogleCredentials\n",
        "gauth = GoogleAuth()\n",
        "gauth.credentials = GoogleCredentials.get_application_default()\n",
        "#đây là chuỗi ký tự chữ và số dài xuất hiện khi bạn nhấp vào \"lấy liên kết để chia sẻ ảnh trong Google Drive\"\n",
        "drive = GoogleDrive(gauth)\n",
        "\n",
        "#Lấy từng file từ google drive của tôi chia sẻ theo với ID và đường Link được mã hóa bằng chuối số \n",
        "myfile_right = drive.CreateFile({'id': '1YdYPzX6OqJuaZpWOyLYrnx1zP1TaCQiw'})\n",
        "myfile_left  = drive.CreateFile({'id': '1mdkeuSMqNZvqkdS56egivXG23qrL4oXZ'}) \n",
        "\n",
        "\n",
        "myfile_right.GetContentFile('right.png')\n",
        "myfile_left.GetContentFile('left.png')\n",
        "\n",
        "\n",
        "#load image in grayscale mode\n",
        "right = cv2.imread('right.png',1)\n",
        "left = cv2.imread('left.png',1)\n",
        "\n",
        "\n",
        "import numpy as np\n",
        "from PIL import Image\n",
        "import cv2\n",
        "\n",
        "def stereo_matching_ssd(left_img, right_img, kernel_size, disparity_range):\n",
        "   \n",
        "    # đọc ảnh trái và ảnh phải, rồi chuyển sang ảnh grayscale\n",
        "    left_img  = Image.open(left_img).convert('L')\n",
        "    left      = np.asarray(left_img)\n",
        "    \n",
        "    right_img = Image.open(right_img).convert('L')\n",
        "    right     = np.asarray(right_img) \n",
        "    \n",
        "    # cho trước chiều rộng và chiều cao của ảnh\n",
        "    height = 288\n",
        "    width  = 384\n",
        "    \n",
        "    # tạo disparity map\n",
        "    depth = np.zeros((height, width), np.uint8)   \n",
        "    \n",
        "    kernel_half = int( (kernel_size-1) / 2)\n",
        "    scale = 255 / disparity_range\n",
        "      \n",
        "    for y in range(kernel_half, height-kernel_half):  \n",
        "        print(\".\", end=\" \")\n",
        "        \n",
        "        for x in range(kernel_half, width-kernel_half):\n",
        "            \n",
        "            # tìm j tại đó cost có giá trị min\n",
        "            disparity = 0\n",
        "            cost_min  = 65534\n",
        "            \n",
        "            for j in range(disparity_range): \n",
        "                ssd = 0\n",
        "                ssd_temp = 0 \n",
        "                \n",
        "                for v in range(-kernel_half, kernel_half):\n",
        "                    for u in range(-kernel_half, kernel_half):\n",
        "                        ssd_temp = 255**2 \n",
        "                        if (x+u-j) >= 0:\n",
        "                            ssd_temp = (int(left[y+v, x+u]) - int(right[y+v, (x+u) - j]))**2 \n",
        "                        ssd += ssd_temp         \n",
        "                \n",
        "                if ssd < cost_min:\n",
        "                    cost_min = ssd\n",
        "                    disparity = j\n",
        "            \n",
        "            # gán j cho cost_min vào disaprity map\n",
        "            depth[y, x] = disparity * scale\n",
        "                                \n",
        "    # chuyển dữ liệu từ ndarray sang kiểu Image và lưu xuống file\n",
        "    Image.fromarray(depth).save('disparity_map_ssd.png')\n",
        "    \n",
        "    # applyColorMap\n",
        "    corr_map = cv2.applyColorMap(depth, cv2.COLORMAP_JET)\n",
        "    Image.fromarray(corr_map).save('disparity_map_ssd_color.png')\n",
        "    \n",
        "if __name__ == '__main__':\n",
        "    disparity_range = 16 # cho cặp ảnh Tsukuba\n",
        "    kernel_size = 5\n",
        "    stereo_matching_ssd(\"left.png\", \"right.png\", kernel_size, disparity_range)"
      ],
      "execution_count": 5,
      "outputs": [
        {
          "output_type": "stream",
          "text": [
            ". . . . . . . . . . . . . . . . . . . . . . . . . . . . . . . . . . . . . . . . . . . . . . . . . . . . . . . . . . . . . . . . . . . . . . . . . . . . . . . . . . . . . . . . . . . . . . . . . . . . . . . . . . . . . . . . . . . . . . . . . . . . . . . . . . . . . . . . . . . . . . . . . . . . . . . . . . . . . . . . . . . . . . . . . . . . . . . . . . . . . . . . . . . . . . . . . . . . . . . . . . . . . . . . . . . . . . . . . . . . . . . . . . . . . . . . . . . . . . . . . . . . . . . . . . . . . . . . . . . . . . . . . . . . . . . . . . . . . . . . . . . . "
          ],
          "name": "stdout"
        }
      ]
    },
    {
      "cell_type": "code",
      "metadata": {
        "id": "N9jmOWIqZ2rb",
        "outputId": "d35e4be6-be87-49fe-98ee-c8954926dea8",
        "colab": {
          "base_uri": "https://localhost:8080/"
        }
      },
      "source": [
        "# aivietnam.ai\n",
        "# sum-area table ; simple implementation\n",
        "import numpy as np\n",
        "from PIL import Image\n",
        "import math\n",
        "#Lấy từng file từ google drive của tôi chia sẻ theo với ID và đường Link được mã hóa bằng chuối số \n",
        "Aloe_right_2 = drive.CreateFile({'id': '12u57KF730ROylRZKeSt7wbFm3A4XLZxh'})\n",
        "Aloe_left_1  = drive.CreateFile({'id': '1O7qLjwgF9HM6kFLiDxXvompcopvi1fdN'}) \n",
        "\n",
        "\n",
        "Aloe_right_2.GetContentFile('Aloe_right_2.png')\n",
        "Aloe_left_1.GetContentFile('Aloe_left_1.png')\n",
        "\n",
        "\n",
        "#load image in grayscale mode\n",
        "Aloe_right_2 = cv2.imread('right.png',1)\n",
        "Aloe_left_1 = cv2.imread('left.png',1)\n",
        "\n",
        "def stereo_matching_corr(left_img, right_img, kernel_size, disparity_range):\n",
        "   \n",
        "    # đọc ảnh trái và ảnh phải, rồi chuyển sang ảnh grayscale\n",
        "    left_img  = Image.open(left_img).convert('L')\n",
        "    left      = np.asarray(left_img)\n",
        "    \n",
        "    right_img = Image.open(right_img).convert('L')\n",
        "    right     = np.asarray(right_img) \n",
        "       \n",
        "    # cho trước chiều rộng và chiều cao của ảnh\n",
        "    height = 370 #288\n",
        "    width  = 427 #384\n",
        "    \n",
        "    # tạo disparity map\n",
        "    depth = np.zeros((height, width), np.uint8)   \n",
        "    \n",
        "    n = kernel_size*kernel_size\n",
        "    kernel_half = int( (kernel_size-1) / 2)    \n",
        "    scale = 255 / disparity_range\n",
        "    \n",
        "    # build sum-area table for each disparity\n",
        "    corr_space = np.zeros((disparity_range, height, width))\n",
        "    for j in range(disparity_range):\n",
        "        print(\".\", end=\" \")\n",
        "        \n",
        "        memory_sum_x  = np.ones((height, width))\n",
        "        memory_sum_y  = np.ones((height, width))\n",
        "        memory_sum_xy = np.ones((height, width))\n",
        "        memory_sum_x2 = np.ones((height, width))\n",
        "        memory_sum_y2 = np.ones((height, width))\n",
        "    \n",
        "        data_sum_x  = np.ones((height, width))*255\n",
        "        data_sum_y  = np.ones((height, width))\n",
        "        data_sum_xy = np.ones((height, width))*255\n",
        "        data_sum_x2 = np.ones((height, width))*255*255\n",
        "        data_sum_y2 = np.ones((height, width))\n",
        "        \n",
        "        for y in range(kernel_half, height-kernel_half):\n",
        "            for x in range(kernel_half, width-kernel_half):\n",
        "                if (x - j >= 0):\n",
        "                    data_sum_x[y, x]  = int(left[y, x])\n",
        "                    data_sum_y[y, x]  = int(right[y, x - j])\n",
        "                    data_sum_xy[y, x] = int(left[y, x])*int(right[y, x - j])\n",
        "                    data_sum_x2[y, x] = int(left[y, x])*int(left[y, x])\n",
        "                    data_sum_y2[y, x] = int(right[y, x - j])*int(right[y, x - j])\n",
        "        \n",
        "        # first item\n",
        "        memory_sum_x[0, 0]  = data_sum_x[0, 0]\n",
        "        memory_sum_y[0, 0]  = data_sum_y[0, 0]\n",
        "        memory_sum_xy[0, 0] = data_sum_xy[0, 0]\n",
        "        memory_sum_x2[0, 0] = data_sum_x2[0, 0]\n",
        "        memory_sum_y2[0, 0] = data_sum_y2[0, 0]\n",
        "    \n",
        "        # first row\n",
        "        for y in range(1):\n",
        "            for x in range(1, width):\n",
        "                memory_sum_x[y, x]  = memory_sum_x[y, x - 1] + data_sum_x[y, x]\n",
        "                memory_sum_y[y, x]  = memory_sum_y[y, x - 1] + data_sum_y[y, x]\n",
        "                memory_sum_xy[y, x] = memory_sum_xy[y, x - 1] + data_sum_xy[y, x]\n",
        "                memory_sum_x2[y, x] = memory_sum_x2[y, x - 1] + data_sum_x2[y, x]\n",
        "                memory_sum_y2[y, x] = memory_sum_y2[y, x - 1] + data_sum_y2[y, x]\n",
        "                    \n",
        "\n",
        "        # first column\n",
        "        for x in range(1):\n",
        "            for y in range(1, height):\n",
        "                memory_sum_x[y, x]  = memory_sum_x[y - 1, x] + data_sum_x[y, x]\n",
        "                memory_sum_y[y, x]  = memory_sum_y[y - 1, x] + data_sum_y[y, x]\n",
        "                memory_sum_xy[y, x] = memory_sum_xy[y - 1, x] + data_sum_xy[y, x]\n",
        "                memory_sum_x2[y, x] = memory_sum_x2[y - 1, x] + data_sum_x2[y, x]\n",
        "                memory_sum_y2[y, x] = memory_sum_y2[y - 1, x] + data_sum_y2[y, x]\n",
        "                \n",
        "        for y in range(1, height): \n",
        "            for x in range(1, width):\n",
        "                memory_sum_x[y, x]  = memory_sum_x[y, x - 1] + memory_sum_x[y - 1, x] - \\\n",
        "                                      memory_sum_x[y - 1, x - 1] + data_sum_x[y, x] \n",
        "                memory_sum_y[y, x]  = memory_sum_y[y, x - 1] + memory_sum_y[y - 1, x] - \\\n",
        "                                      memory_sum_y[y - 1, x - 1] + data_sum_y[y, x]\n",
        "                memory_sum_xy[y, x] = memory_sum_xy[y, x - 1] + memory_sum_xy[y - 1, x] - \\\n",
        "                                      memory_sum_xy[y - 1, x - 1] + data_sum_xy[y, x]\n",
        "                memory_sum_x2[y, x] = memory_sum_x2[y, x - 1] + memory_sum_x2[y - 1, x] - \\\n",
        "                                      memory_sum_x2[y - 1, x - 1] + data_sum_x2[y, x]\n",
        "                memory_sum_y2[y, x] = memory_sum_y2[y, x - 1] + memory_sum_y2[y - 1, x] - \\\n",
        "                                      memory_sum_y2[y - 1, x - 1] + data_sum_y2[y, x]\n",
        "    \n",
        "    \n",
        "        for y in range(kernel_half, height-kernel_half):        \n",
        "            for x in range(kernel_half, width-kernel_half):\n",
        "            \n",
        "                x0 = x - kernel_half\n",
        "                x1 = x + kernel_half                \n",
        "                y0 = y - kernel_half\n",
        "                y1 = y + kernel_half\n",
        "                \n",
        "                sum_x = memory_sum_x[y1, x1] - memory_sum_x[y1, x0 - 1] - \\\n",
        "                        memory_sum_x[y0 - 1, x1] + memory_sum_x[y0 - 1, x0 - 1]\n",
        "                \n",
        "                sum_y = memory_sum_y[y1, x1] - memory_sum_y[y1, x0 - 1] - \\\n",
        "                        memory_sum_y[y0 - 1, x1] + memory_sum_y[y0 - 1, x0 - 1]\n",
        "                \n",
        "                sum_xy = memory_sum_xy[y1, x1] - memory_sum_xy[y1, x0 - 1] - \\\n",
        "                         memory_sum_xy[y0 - 1, x1] + memory_sum_xy[y0 - 1, x0 - 1]\n",
        "                \n",
        "                sum_x2 = memory_sum_x2[y1, x1] - memory_sum_x2[y1, x0 - 1] - \\\n",
        "                         memory_sum_x2[y0 - 1, x1] + memory_sum_x2[y0 - 1, x0 - 1]\n",
        "                \n",
        "                sum_y2 = memory_sum_y2[y1, x1] - memory_sum_y2[y1, x0 - 1] - \\\n",
        "                         memory_sum_y2[y0 - 1, x1] + memory_sum_y2[y0 - 1, x0 - 1]\n",
        "                \n",
        "                              \n",
        "                corr = (n*sum_xy - sum_x*sum_y) / \\\n",
        "                       (np.sqrt(n*sum_x2 - sum_x**2) * np.sqrt(n*sum_y2 - sum_y**2))\n",
        "                corr_space[j, y, x] = 1.0 - corr\n",
        "                \n",
        "                \n",
        "    # tìm j tại đó cost có giá trị min\n",
        "    for y in range(kernel_half, height-kernel_half):        \n",
        "        for x in range(kernel_half, width-kernel_half):\n",
        "            disparity = 0\n",
        "            cost_min  = 1.0 # a large number            \n",
        "            for j in range(disparity_range):\n",
        "                cost = corr_space[j, y, x]                                \n",
        "                if cost < cost_min:\n",
        "                    cost_min = cost\n",
        "                    disparity = j                  \n",
        "            \n",
        "            # gán j cho cost_min vào disaprity map\n",
        "            depth[y, x] = int(disparity * scale)\n",
        "                                \n",
        "    # chuyển dữ liệu từ ndarray sang kiểu Image và lưu xuống file\n",
        "    Image.fromarray(depth).save('Disparity_map_corr.png')\n",
        "    \n",
        "disparity_range = 64 # cho cặp ảnh Tsukuba\n",
        "kernel_size = 9\n",
        "stereo_matching_corr(\"Aloe_left_1.png\", \"Aloe_right_2.png\", kernel_size, disparity_range)"
      ],
      "execution_count": 6,
      "outputs": [
        {
          "output_type": "stream",
          "text": [
            ". "
          ],
          "name": "stdout"
        },
        {
          "output_type": "stream",
          "text": [
            "/usr/local/lib/python3.6/dist-packages/ipykernel_launcher.py:119: RuntimeWarning: invalid value encountered in sqrt\n"
          ],
          "name": "stderr"
        },
        {
          "output_type": "stream",
          "text": [
            ". . . . . . . . . . "
          ],
          "name": "stdout"
        },
        {
          "output_type": "stream",
          "text": [
            "/usr/local/lib/python3.6/dist-packages/ipykernel_launcher.py:119: RuntimeWarning: invalid value encountered in double_scalars\n"
          ],
          "name": "stderr"
        },
        {
          "output_type": "stream",
          "text": [
            ". . . . . . . . . . . . . . . . . . . . . . . . . . . . . . . . . . . . . . . . . . . . . . . . . . . . . "
          ],
          "name": "stdout"
        }
      ]
    },
    {
      "cell_type": "code",
      "metadata": {
        "id": "TR0c15uVa4rW"
      },
      "source": [
        "# aivietnam.ai\n",
        "# simple stereo matching using pixel-wise matching\n",
        "#Lấy từng file từ google drive của tôi chia sẻ theo với ID và đường Link được mã hóa bằng chuối số \n",
        "myfile_right = drive.CreateFile({'id': '1YdYPzX6OqJuaZpWOyLYrnx1zP1TaCQiw'})\n",
        "myfile_left  = drive.CreateFile({'id': '1mdkeuSMqNZvqkdS56egivXG23qrL4oXZ'})  \n",
        "myfile_right.GetContentFile('right.png')\n",
        "myfile_left.GetContentFile('left.png')\n",
        "\n",
        "\n",
        "#load image in grayscale mode\n",
        "right = cv2.imread('right.png',1)\n",
        "left = cv2.imread('left.png',1)\n",
        "\n",
        "import numpy as np\n",
        "from PIL import Image\n",
        "\n",
        "def stereo_matching(left_img, right_img, disparity_range):\n",
        "   \n",
        "    # đọc ảnh trái và ảnh phải, rồi chuyển sang ảnh grayscale\n",
        "    left_img  = Image.open(left_img).convert('L')\n",
        "    left      = np.asarray(left_img)\n",
        "    \n",
        "    right_img = Image.open(right_img).convert('L')\n",
        "    right     = np.asarray(right_img) \n",
        "    \n",
        "    # cho trước chiều rộng và chiều cao của ảnh\n",
        "    height = 288\n",
        "    width  = 384\n",
        "    \n",
        "    # tạo disparity map\n",
        "    depth = np.zeros((height, width), np.uint8)               \n",
        "    scale = 255 / disparity_range\n",
        "      \n",
        "    for y in range(height):        \n",
        "        for x in range(width):\n",
        "            \n",
        "            # tìm j tại đó cost có giá trị min\n",
        "            disparity = 0\n",
        "            cost_min  = (int(left[y, x]) - int(right[y, x]))**2\n",
        "            \n",
        "            for j in range(1, disparity_range):                \n",
        "                cost = 255**2 if (x - j) < 0 else (int(left[y, x]) - int(right[y, x - j]))**2\n",
        "                \n",
        "                if cost < cost_min:\n",
        "                    cost_min = cost\n",
        "                    disparity = j\n",
        "                            \n",
        "            # đã tìm được j (lưu ở biến disparity) để cost min\n",
        "            # gán j đó vào disaprity map\n",
        "            # nhân cho scale để nhìn thấy rõ ràng (không cần scale cũng được)\n",
        "            depth[y, x] = disparity * scale\n",
        "                                \n",
        "    # chuyển dữ liệu từ ndarray sang kiểu Image và lưu xuống file\n",
        "    Image.fromarray(depth).save('disparity_ad.png')\n",
        "    \n",
        "    # applyColorMap\n",
        "    #corr_map = cv2.applyColorMap(depth, cv2.COLORMAP_JET)\n",
        "    #Image.fromarray(corr_map).save('disparity_ad_color.png')\n",
        "     \n",
        "if __name__ == '__main__':\n",
        "    disparity_range = 16 # cho cặp ảnh Tsukuba\n",
        "    stereo_matching(\"left.png\", \"right.png\", disparity_range)"
      ],
      "execution_count": 8,
      "outputs": []
    },
    {
      "cell_type": "markdown",
      "metadata": {
        "id": "PK95HZx1PpIW"
      },
      "source": [
        ""
      ]
    }
  ]
}