{
  "nbformat": 4,
  "nbformat_minor": 0,
  "metadata": {
    "colab": {
      "name": "ComputationalGraph&LinearRegression.ipynb",
      "provenance": [],
      "collapsed_sections": [],
      "toc_visible": true
    },
    "kernelspec": {
      "name": "python3",
      "display_name": "Python 3"
    }
  },
  "cells": [
    {
      "cell_type": "markdown",
      "metadata": {
        "id": "X3J6M0X7BC0b"
      },
      "source": [
        "## **INTRODUCTION**\n",
        "Phần đọc lý thuyết thật cảm ơn ban Văn Quang đã trình bày rất dễ hiểu"
      ]
    },
    {
      "cell_type": "markdown",
      "metadata": {
        "id": "wV1DsrwVBHX7"
      },
      "source": [
        "# **1.Computational Graph**"
      ]
    },
    {
      "cell_type": "markdown",
      "metadata": {
        "id": "w6QOkhjABKwy"
      },
      "source": [
        "Đồ thị tính toán(Computational Graph) là một cách hay khi nói về biểu thức tính toán.\n",
        "\n",
        "    Xét biểu thức e = (a + b) ∗ (b + 1)\n",
        "\n",
        "Ở đây có 3 toán tử: 2(+) và 1(*).  <br/>\n",
        "Ta sử dụng những biến trung gian để biểu diễn lại biểu thức c=a+b, d=b+1 \n",
        "\n",
        "                  e = c * d\n",
        "\n",
        "Tạo 1 đồ thị tính toán, theo các biến input(a,b) tới các node và giá trị một nút là đầu vào của nút khác. Đặt a = 2 và b = 1. Kết quả e = 6\n",
        "\n",
        "\n",
        "![](https://i.imgur.com/urjvbKk.png)\n",
        "\n",
        "\n",
        "---\n",
        "\n",
        "Ta thử đặt câu hỏi: \"Nếu a ảnh hưởng trực tiếp c, và a thay đổi thì liệu c có thay đổi và thay đổi như thế nào?\"\n",
        "\n",
        "Và chúng ta gọi đây là **đạo hàm riêng** của c với đối với a \n",
        "<br/>\n",
        "<br/>\n",
        "Ta quan sát hình sau:\n",
        "\n",
        "\n",
        "![](https://i.imgur.com/s42WyKE.png)\n",
        "\n",
        "Các bạn để ý nếu a thay đổi 1 đơn vị, với điều kiện b được giữ nguyên thì c thay đổi 1 đơn vị. Đây chính là hình ảnh của đạo hàm riêng <br/>\n",
        "Đến lượt c thay đổi 1 đơn vị, với điều kiện d được giữ nguyên thì khiến e thay đổi 1*2 đơn vị. Đây lại là hình ảnh của đạo hàm riêng \n",
        "\n",
        "\n",
        "Đánh giá về đạo hàm riêng trong đồ thị, chúng ta cần tới quy tắc tổng và quy tắc nhân. Nghĩa là quy tắc tổng với tất cả các đường có thể từ 1 node nào đó, và quy tắc nhân với đạo hàm với mỗi đường dẫn vào nhau<br/>\n",
        "Ví dụ muốn đánh giá b ảnh hưởng như thế nào đối với e ta làm như sau: <br/>\n",
        "\n",
        "e có 2 ngã vào bị ảnh hưởng bởi b. Giờ xuất phát từ b ta nhân cho đến khi gần tới e, rồi sau đó tổng các hướng đã nhân.\n",
        "\n",
        "      ∂e/∂b = 1 * 2 + 1 * 3 = 5\n",
        "\n",
        "> Vậy b thay đổi 1 đơn vị thì e sẽ thay đổi xấp xỉ trên dưới 5 đơn vị. Đó chính là một phần ý nghĩa của đạo hàm riêng. Bạn hãy bỏ túi skill này nhé!!\n",
        "\n",
        "Đến đây chắc hẳn có nhiều bạn cũng chưa hiểu **Computational Graph nếu áp dụng vào network** như thế nào?\n",
        "Mục đích của ta là thay đổi hay tác động đến các trọng số W để làm cho L thay đổi và thay đổi về giá trị nhỏ nhất. Ở đây người ta dùng phương pháp Reverse-mode differentiation thay vì Forward-mode differentiation trong đạo hàm riêng. Hoặc nói một cái tên thân thương là: Backpropagation. \n",
        "\n",
        "Vì sao vậy? Đáp án ngay dưới đây \n",
        "\n",
        "**Forward-mode differentiation** từ b lên. Điều này cho chúng ta đạo hàm tại mỗi node với sự tác động của **b và chỉ b**\n",
        "\n",
        "![](https://i.imgur.com/3j2x8yy.png)\n",
        "\n",
        "\n",
        "**Reverse-mode differentiation** từ e xuống? Điều này cho chúng ta đạo hàm của e với sự tác động tới mỗi node với sự tác động của a và b. Ý tôi là nhận được cả ∂e/∂a và ∂e/∂b => Quá đã\n",
        "\n",
        "![](https://i.imgur.com/375b9Yj.png)\n",
        "\n",
        "\n",
        "Kết luận: \n",
        "\n",
        "> Reverse-mode differentiation thực hiện đạo hàm của e đối với các node và ta nhận được cả ∂e/∂a và ∂e/∂b<br/>\n",
        "Trong khi đó Forward-mode differentiation đã cho chúng ta đạo hàm của output với sự tác động của **chỉ 1 input**, nhưng reverse-mode differentiation cho chúng ta tất cả chúng.\n",
        "Ta thử tưởng tượng 1 hàm với 1 triệu input và 1 output. Forward-mode differentiation sẽ yêu cầu nó quẹo vòng qua đồ thị 1 triệu lần để nhận được các đạo hàm. Reverse-mode differentiation có thể nhận tất cả chúng chỉ với 1 lần.\n",
        "\n",
        "Computational Graph giúp có thể dễ dàng minh họa trực quan tính đạo hàm cho các biến và để hiểu sâu về neural network, hay xa hơn là các mô hình deep learning, thì việc hiểu rõ Computational Graph này mang lại rất nhiều hữu ích cho các bạn.\n",
        "\n",
        "Tham khảo: \n",
        "\n",
        "1.   https://aivietnam.ai/courses/aisummer2019/lessons/computational-graph/\n",
        "2.   https://colah.github.io/posts/2015-08-Backprop/"
      ]
    },
    {
      "cell_type": "markdown",
      "metadata": {
        "id": "q9WhqtMNCs1A"
      },
      "source": [
        "#**2.LinearRegression**"
      ]
    },
    {
      "cell_type": "markdown",
      "metadata": {
        "id": "43vtIsugCzFm"
      },
      "source": [
        "# **3.BÀI TẬP**"
      ]
    },
    {
      "cell_type": "markdown",
      "metadata": {
        "id": "gnCO9yulC7vn"
      },
      "source": [
        "#### **Class LinearRegresstion**\n",
        "sử dụng cho các bài toán"
      ]
    },
    {
      "cell_type": "code",
      "metadata": {
        "id": "frT3jphkC_en"
      },
      "source": [
        "import numpy as np\n",
        "import matplotlib.pyplot as plt\n",
        "\n",
        "class LinearRegresstion:\n",
        "   \n",
        "    \n",
        "    def __init__(self, data, rate, epochs = 100, miniBatchSize = None):\n",
        "        self.data, self.coefficient = self.getNomal(data[:].copy())\n",
        "        self.features = self.data[:, :-1]\n",
        "        self.y = self.data[:, -1:]\n",
        "        self.rate = rate\n",
        "        self.epochs = epochs\n",
        "        self.w = np.random.rand(self.features.shape[1], self.y.shape[1])\n",
        "        self.b = np.random.rand(1)\n",
        "        self.nData = self.features.shape[0]\n",
        "        self.miniBatchSize = miniBatchSize\n",
        "        self.losses = []\n",
        "\n",
        "    def getNomal(self, data):\n",
        "        maxi = np.max(data, axis = 0)\n",
        "        mini = np.min(data, axis = 0)\n",
        "        avg = np.mean(data, axis = 0)\n",
        "        return (data-avg) / (maxi-mini), (maxi, mini, avg)\n",
        "    \n",
        "    def run(self):\n",
        "        if (self.miniBatchSize == None):\n",
        "            self.miniBatchSize = self.nData\n",
        "            \n",
        "        for epoch in range(self.epochs):\n",
        "\n",
        "                iIndex = np.random.randint(0, self.nData, size=(self.miniBatchSize,))\n",
        "                xi = self.features[iIndex]\n",
        "                yi = self.y[iIndex]\n",
        "                \n",
        "                predict = self.features[iIndex].dot(self.w) + self.b\n",
        "                \n",
        "                loss = 1/2 * (predict - yi)**2\n",
        "                self.losses.append(loss.mean())\n",
        "\n",
        "                loss_grd = (predict - yi)/self.miniBatchSize\n",
        "                self.w -= self.rate * xi.T.dot(loss_grd)\n",
        "                self.b -= self.rate * np.sum(loss_grd)\n",
        "                \n",
        "    def showLossGraph(self):\n",
        "        plt.plot(self.losses, 'r')\n",
        "        plt.show()\n",
        "\n",
        "def loadFile(path):\n",
        "    return np.genfromtxt(path, delimiter=',', skip_header=1)"
      ],
      "execution_count": null,
      "outputs": []
    },
    {
      "cell_type": "markdown",
      "metadata": {
        "id": "-umz81ODEHmZ"
      },
      "source": [
        "#### **Dataset**: [Here](https://drive.google.com/drive/folders/1SXm_OLjXVdzt0_UJIAHZl04RlJTXC_V9?usp=sharing)"
      ]
    },
    {
      "cell_type": "markdown",
      "metadata": {
        "id": "t-aGUrwWBVMk"
      },
      "source": [
        "#### **a) BostonHousing**"
      ]
    },
    {
      "cell_type": "code",
      "metadata": {
        "id": "Oxm6mV8gEV0m",
        "outputId": "fcfde312-cf09-4350-bfc6-a82bfd3dbbcb",
        "colab": {
          "base_uri": "https://localhost:8080/",
          "height": 265
        }
      },
      "source": [
        "from google.colab import auth\n",
        "auth.authenticate_user()\n",
        "\n",
        "from pydrive.drive import GoogleDrive\n",
        "from pydrive.auth import GoogleAuth\n",
        "from oauth2client.client import GoogleCredentials\n",
        "gauth = GoogleAuth()\n",
        "gauth.credentials = GoogleCredentials.get_application_default()\n",
        "#đây là chuỗi ký tự chữ và số dài xuất hiện khi bạn nhấp vào \"lấy liên kết để chia sẻ ảnh trong Google Drive\"\n",
        "drive = GoogleDrive(gauth)\n",
        "\n",
        "#Lấy file từ google drive của tôi chia sẻ theo với ID và đường Link được mã hóa bằng chuối số \n",
        "myfile = drive.CreateFile({'id': '1QF_nVOBqXaVZoEBbVMTg6g3eCHYVPjcR'})\n",
        "myfile.GetContentFile('advertising.csv')\n",
        "\n",
        "data = loadFile('advertising.csv')\n",
        "\n",
        "\n",
        "myObject = LinearRegresstion(data, 1.5, epochs = 100, miniBatchSize = 64)\n",
        "myObject.run()\n",
        "myObject.showLossGraph()"
      ],
      "execution_count": null,
      "outputs": [
        {
          "output_type": "display_data",
          "data": {
            "image/png": "[encoded data removed]",
            "text/plain": [
              "<Figure size 432x288 with 1 Axes>"
            ]
          },
          "metadata": {
            "tags": [],
            "needs_background": "light"
          }
        }
      ]
    },
    {
      "cell_type": "markdown",
      "metadata": {
        "id": "BBbjbrd8E-C9"
      },
      "source": [
        "#### **b) Advertising**"
      ]
    },
    {
      "cell_type": "code",
      "metadata": {
        "id": "9Yv9EV0sE-0-",
        "outputId": "b4913dce-9867-4033-c92c-fe15836a9983",
        "colab": {
          "base_uri": "https://localhost:8080/",
          "height": 265
        }
      },
      "source": [
        "#Lấy file từ google drive của tôi chia sẻ theo với ID và đường Link được mã hóa bằng chuối số \n",
        "myfile = drive.CreateFile({'id': '1QF_nVOBqXaVZoEBbVMTg6g3eCHYVPjcR'})\n",
        "myfile.GetContentFile('advertising.csv')\n",
        "data = loadFile('advertising.csv')\n",
        "myObject = LinearRegresstion(data, 1.5, epochs = 100, miniBatchSize = 64)\n",
        "myObject.run()\n",
        "myObject.showLossGraph()"
      ],
      "execution_count": null,
      "outputs": [
        {
          "output_type": "display_data",
          "data": {
            "image/png": "[encoded data removed]",
            "text/plain": [
              "<Figure size 432x288 with 1 Axes>"
            ]
          },
          "metadata": {
            "tags": [],
            "needs_background": "light"
          }
        }
      ]
    },
    {
      "cell_type": "markdown",
      "metadata": {
        "id": "XzKQgZGKFVBk"
      },
      "source": [
        "#### **c) Giá nhà**"
      ]
    },
    {
      "cell_type": "code",
      "metadata": {
        "id": "Bmm828xXFXat",
        "outputId": "e51270ef-0495-46f0-f443-726d7ae9d2eb",
        "colab": {
          "base_uri": "https://localhost:8080/",
          "height": 265
        }
      },
      "source": [
        "#Lấy file từ google drive của tôi chia sẻ theo với ID và đường Link được mã hóa bằng chuối số \n",
        "myfile = drive.CreateFile({'id': '1q1fqOMQHBqxCKMB1UsjeFk8Qkan9LgbQ'})\n",
        "myfile.GetContentFile('pricebyarea.csv')\n",
        "data = loadFile('pricebyarea.csv')\n",
        "\n",
        "myObject = LinearRegresstion(data, 1.5, epochs = 100, miniBatchSize = 64)\n",
        "myObject.run()\n",
        "myObject.showLossGraph()"
      ],
      "execution_count": null,
      "outputs": [
        {
          "output_type": "display_data",
          "data": {
            "image/png": "[encoded data removed]",
            "text/plain": [
              "<Figure size 432x288 with 1 Axes>"
            ]
          },
          "metadata": {
            "tags": [],
            "needs_background": "light"
          }
        }
      ]
    }
  ]
}