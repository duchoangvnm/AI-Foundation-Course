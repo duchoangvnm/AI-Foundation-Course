{
  "nbformat": 4,
  "nbformat_minor": 0,
  "metadata": {
    "kernelspec": {
      "display_name": "Python 3",
      "language": "python",
      "name": "python3"
    },
    "language_info": {
      "codemirror_mode": {
        "name": "ipython",
        "version": 3
      },
      "file_extension": ".py",
      "mimetype": "text/x-python",
      "name": "python",
      "nbconvert_exporter": "python",
      "pygments_lexer": "ipython3",
      "version": "3.7.3"
    },
    "colab": {
      "name": "Numpy.ipynb",
      "provenance": [],
      "collapsed_sections": [
        "XodjQxrbxuGc"
      ],
      "toc_visible": true
    }
  },
  "cells": [
    {
      "cell_type": "markdown",
      "metadata": {
        "id": "hXGdMxTXybib"
      },
      "source": [
        "#**Introduction and applications to data processing**"
      ]
    },
    {
      "cell_type": "markdown",
      "metadata": {
        "id": "fBD2n5nR9QeQ"
      },
      "source": [
        "\n",
        "\n",
        "## Introduction to Numpy \n",
        "## NumpyArray Indexing \n",
        "## NumpyArray Operations \n",
        "## Broadcasting\n",
        "## Data Processing \n",
        "\n"
      ]
    },
    {
      "cell_type": "markdown",
      "metadata": {
        "id": "4rsu7HALybie"
      },
      "source": [
        "#**A.Introduction**\n",
        "####Numpy (Numeric Python): là một thư viện toán học phổ biến và mạnh mẽ của Python. Cho phép làm việc hiệu quả với ma trận và mảng, đặc biệt là dữ liệu ma trận và mảng lớn với tốc độ xử lý nhanh hơn nhiều lần khi chỉ sử dụng “core Python” đơn thuần."
      ]
    },
    {
      "cell_type": "markdown",
      "metadata": {
        "id": "KSxv5KuNzwTB"
      },
      "source": [
        ""
      ]
    },
    {
      "cell_type": "markdown",
      "metadata": {
        "id": "8ppnrI2Oybif"
      },
      "source": [
        "##**1.Numpy is a Python library**\n"
      ]
    },
    {
      "cell_type": "markdown",
      "metadata": {
        "id": "ItI0mbbM2zJc"
      },
      "source": [
        "###**a.Khởi tạo mảng một chiều** **bold text**\n"
      ]
    },
    {
      "cell_type": "code",
      "metadata": {
        "id": "HFbrGSPb3Cxq",
        "outputId": "04e3d16b-96d5-44f4-ebce-4aec53809414",
        "colab": {
          "base_uri": "https://localhost:8080/"
        }
      },
      "source": [
        "#Khởi tạo mảng một chiều với kiểu dữ liệu các phần tử là Integer\n",
        "arr = np.array([1,3,4,5,6], dtype = int)\n",
        "\n",
        "#Khởi tạo mảng một chiều với kiểu dữ liệu mặc định\n",
        "arr = np.array([1,3,4,5,6])\n",
        "\n",
        "print(arr)"
      ],
      "execution_count": null,
      "outputs": [
        {
          "output_type": "stream",
          "text": [
            "[1 3 4 5 6]\n"
          ],
          "name": "stdout"
        }
      ]
    },
    {
      "cell_type": "markdown",
      "metadata": {
        "id": "5bItp5SJ3Ra0"
      },
      "source": [
        "###**b.Khởi tạo mảng hai chiều**"
      ]
    },
    {
      "cell_type": "code",
      "metadata": {
        "id": "acfMZLM53c4q",
        "outputId": "44ec18f2-abad-4be1-eeb6-21a759a051cb",
        "colab": {
          "base_uri": "https://localhost:8080/"
        }
      },
      "source": [
        "arr1 = np.array([(4,5,6), (1,2,3)], dtype = int)\n",
        "\n",
        "print(arr1)"
      ],
      "execution_count": null,
      "outputs": [
        {
          "output_type": "stream",
          "text": [
            "[[4 5 6]\n",
            " [1 2 3]]\n"
          ],
          "name": "stdout"
        }
      ]
    },
    {
      "cell_type": "markdown",
      "metadata": {
        "id": "Rk3bTgZw3lWr"
      },
      "source": [
        "###**c.Khởi tạo mảng ba chiều**"
      ]
    },
    {
      "cell_type": "code",
      "metadata": {
        "id": "aNinxwuS3su6",
        "outputId": "bb05ec53-5bd5-493a-c649-d920eeaea57e",
        "colab": {
          "base_uri": "https://localhost:8080/"
        }
      },
      "source": [
        "arr2 = np.array(([(2,4,0,6), (4,7,5,6)],\n",
        "                 [(0,3,2,1), (9,4,5,6)],\n",
        "                 [(5,8,6,4), (1,4,6,8)]), dtype = int)\n",
        "\n",
        "print(arr2)"
      ],
      "execution_count": null,
      "outputs": [
        {
          "output_type": "stream",
          "text": [
            "[[[2 4 0 6]\n",
            "  [4 7 5 6]]\n",
            "\n",
            " [[0 3 2 1]\n",
            "  [9 4 5 6]]\n",
            "\n",
            " [[5 8 6 4]\n",
            "  [1 4 6 8]]]\n"
          ],
          "name": "stdout"
        }
      ]
    },
    {
      "cell_type": "markdown",
      "metadata": {
        "id": "cylZY1yh3yvq"
      },
      "source": [
        "###**d.Khởi tạo với các hàm có sẵn**\n",
        "+ np.zeros((3,4), dtype = int): Tạo mảng hai chiều các phần tử 0 với kích thước 3x4."
      ]
    },
    {
      "cell_type": "code",
      "metadata": {
        "id": "mFj375bu8guz",
        "outputId": "6fdc946a-7fe4-4058-824d-92d50f6c36a3",
        "colab": {
          "base_uri": "https://localhost:8080/"
        }
      },
      "source": [
        "a = np.zeros((3,4), dtype = int)\n",
        "print(a)"
      ],
      "execution_count": null,
      "outputs": [
        {
          "output_type": "stream",
          "text": [
            "[[0 0 0 0]\n",
            " [0 0 0 0]\n",
            " [0 0 0 0]]\n"
          ],
          "name": "stdout"
        }
      ]
    },
    {
      "cell_type": "markdown",
      "metadata": {
        "id": "KdkIig4w9B0V"
      },
      "source": [
        "+ np.ones((2,3,4), dtype = int): Tạo mảng 3 chiều các phần tử 1 với kích thước 2x3x4."
      ]
    },
    {
      "cell_type": "code",
      "metadata": {
        "id": "_FabWlN09Fkj",
        "outputId": "15260c79-d9dc-41fd-aa93-ae9d929623cd",
        "colab": {
          "base_uri": "https://localhost:8080/"
        }
      },
      "source": [
        "a = np.ones((2,3,4), dtype = int)\n",
        "print(a)"
      ],
      "execution_count": null,
      "outputs": [
        {
          "output_type": "stream",
          "text": [
            "[[[1 1 1 1]\n",
            "  [1 1 1 1]\n",
            "  [1 1 1 1]]\n",
            "\n",
            " [[1 1 1 1]\n",
            "  [1 1 1 1]\n",
            "  [1 1 1 1]]]\n"
          ],
          "name": "stdout"
        }
      ]
    },
    {
      "cell_type": "markdown",
      "metadata": {
        "id": "Gy93hv3j9Q4a"
      },
      "source": [
        "+ np.arange(1,7,2): Tạo mảng với các phần tử từ 1 - 6 với bước nhảy là 2."
      ]
    },
    {
      "cell_type": "code",
      "metadata": {
        "id": "ugH9InyG9SSS",
        "outputId": "d270318a-af46-4b65-b9b4-53ddd329d9ed",
        "colab": {
          "base_uri": "https://localhost:8080/"
        }
      },
      "source": [
        "a = np.arange(1,7,2)\n",
        "print(a)"
      ],
      "execution_count": null,
      "outputs": [
        {
          "output_type": "stream",
          "text": [
            "[1 3 5]\n"
          ],
          "name": "stdout"
        }
      ]
    },
    {
      "cell_type": "markdown",
      "metadata": {
        "id": "mllz64xHvLW2"
      },
      "source": [
        "+ np.full((2,3),5): Tạo mảng 2 chiều các phần tử 5 với kích thước 2x3."
      ]
    },
    {
      "cell_type": "code",
      "metadata": {
        "id": "nXQzvDbKvP0D",
        "outputId": "a3c0a3e0-c89f-430c-ac00-c6d2d7e6a60a",
        "colab": {
          "base_uri": "https://localhost:8080/"
        }
      },
      "source": [
        "import numpy as np\n",
        "a = np.full((2,3),5)\n",
        "print(a)"
      ],
      "execution_count": null,
      "outputs": [
        {
          "output_type": "stream",
          "text": [
            "[[5 5 5]\n",
            " [5 5 5]]\n"
          ],
          "name": "stdout"
        }
      ]
    },
    {
      "cell_type": "markdown",
      "metadata": {
        "id": "J2UvN7_RvuZ8"
      },
      "source": [
        "+ np.eye(4, dtype=int): Tạo ma trận đơn vị với kích thước là 4x4."
      ]
    },
    {
      "cell_type": "code",
      "metadata": {
        "id": "6A_Q-dr_vw3q",
        "outputId": "4bf37d5e-6380-44cc-f12c-bb9a30b30272",
        "colab": {
          "base_uri": "https://localhost:8080/"
        }
      },
      "source": [
        "import numpy as np\n",
        "a = np.eye(4,dtype=int)\n",
        "print(a)"
      ],
      "execution_count": null,
      "outputs": [
        {
          "output_type": "stream",
          "text": [
            "[[1 0 0 0]\n",
            " [0 1 0 0]\n",
            " [0 0 1 0]\n",
            " [0 0 0 1]]\n"
          ],
          "name": "stdout"
        }
      ]
    },
    {
      "cell_type": "markdown",
      "metadata": {
        "id": "RTxeh_nbwA-z"
      },
      "source": [
        "+ np.random.random((2,3)): Tạo ma trận các phần tử ngẫu nhiên với kích thước 2x3."
      ]
    },
    {
      "cell_type": "code",
      "metadata": {
        "id": "QAwhCyMPwDBz",
        "outputId": "9f28d3b1-6ed2-4fae-c5e0-715df520bc3e",
        "colab": {
          "base_uri": "https://localhost:8080/"
        }
      },
      "source": [
        "a = np.random.random((2,3))\n",
        "print(a)"
      ],
      "execution_count": null,
      "outputs": [
        {
          "output_type": "stream",
          "text": [
            "[[0.92776432 0.45885918 0.09147678]\n",
            " [0.90993217 0.58214092 0.7596122 ]]\n"
          ],
          "name": "stdout"
        }
      ]
    },
    {
      "cell_type": "markdown",
      "metadata": {
        "id": "NAxErizM8T0Y"
      },
      "source": [
        "##**2.Thao tác với mảng**"
      ]
    },
    {
      "cell_type": "markdown",
      "metadata": {
        "id": "PgFDX3oMwhsl"
      },
      "source": [
        "+ dtype: Kiểu dữ liệu của phần tử trong mảng.\n",
        "+ shape: Kích thước của mảng.\n",
        "+ size: Số phần tử trong mảng.\n",
        "+ ndim: Số chiều của mảng."
      ]
    },
    {
      "cell_type": "markdown",
      "metadata": {
        "id": "HyIj7SgdwlNC"
      },
      "source": [
        "+ print(\"Kiểu dữ liệu của phần tử trong mảng:\", arr2.dtype)\n",
        "+ print(\"Kích thước của mảng:\", arr2.shape)\n",
        "+ print(\"Số phần tử trong mảng:\", arr2.size)\n",
        "+ print(\"Số chiều của mảng:\", arr2.ndim)"
      ]
    },
    {
      "cell_type": "code",
      "metadata": {
        "id": "AWAc6t_aw3la",
        "outputId": "cd74f4ea-f5fb-4f7a-bd91-6307877e0d47",
        "colab": {
          "base_uri": "https://localhost:8080/"
        }
      },
      "source": [
        "import numpy as np \n",
        "arr2 = np.random.random((2,3))\n",
        "print(arr2)\n",
        "print(\"Kiểu dữ liệu của phần tử trong mảng:\", arr2.dtype)\n",
        "print(\"Kích thước của mảng:\", arr2.shape)\n",
        "print(\"Số phần tử trong mảng:\", arr2.size)\n",
        "print(\"Số chiều của mảng:\", arr2.ndim)\n",
        "print('----------------------------------------------------')\n",
        "arr2 = np.ones((2,3,4), dtype = int)\n",
        "print(arr2)\n",
        "print(\"Kiểu dữ liệu của phần tử trong mảng:\", arr2.dtype)\n",
        "print(\"Kích thước của mảng:\", arr2.shape)\n",
        "print(\"Số phần tử trong mảng:\", arr2.size)\n",
        "print(\"Số chiều của mảng:\", arr2.ndim)"
      ],
      "execution_count": null,
      "outputs": [
        {
          "output_type": "stream",
          "text": [
            "[[0.55283912 0.55977965 0.86513833]\n",
            " [0.8061266  0.62833522 0.39042481]]\n",
            "Kiểu dữ liệu của phần tử trong mảng: float64\n",
            "Kích thước của mảng: (2, 3)\n",
            "Số phần tử trong mảng: 6\n",
            "Số chiều của mảng: 2\n",
            "----------------------------------------------------\n",
            "[[[1 1 1 1]\n",
            "  [1 1 1 1]\n",
            "  [1 1 1 1]]\n",
            "\n",
            " [[1 1 1 1]\n",
            "  [1 1 1 1]\n",
            "  [1 1 1 1]]]\n",
            "Kiểu dữ liệu của phần tử trong mảng: int64\n",
            "Kích thước của mảng: (2, 3, 4)\n",
            "Số phần tử trong mảng: 24\n",
            "Số chiều của mảng: 3\n"
          ],
          "name": "stdout"
        }
      ]
    },
    {
      "cell_type": "markdown",
      "metadata": {
        "id": "lUc9rt6Iwu8Z"
      },
      "source": [
        "+ Truy cập phần tử trong mảng"
      ]
    },
    {
      "cell_type": "markdown",
      "metadata": {
        "id": "XodjQxrbxuGc"
      },
      "source": [
        "#####Các phần tử trong mảng được đánh số từ 0 trở đi\n",
        "\n",
        "+ arr[i]: Truy cập tới phần tử thứ i của mảng 1 chiều.\n",
        "+ arr1[i,j]: Truy cập tới phần tử hàng i, cột j của mảng 2 chiều.\n",
        "+ arr2[n,i,j]: Truy cập tới phần tử chiều n, hàng i, cột j của mảng 3 chiều.\n",
        "+ arr[a:b]: Truy cập tới các phần tử từ a đến b-1 trong mảng 1 chiều.\n",
        "+ arr1[:,:i]: Truy cập tới phần tử từ cột 0 đến cột i-1, của tất cả các hàng trong mảng 2 chiều."
      ]
    },
    {
      "cell_type": "code",
      "metadata": {
        "id": "fcNHf5JvyAcB",
        "outputId": "b56e6495-3101-40a7-e97f-7d1f206e13e4",
        "colab": {
          "base_uri": "https://localhost:8080/"
        }
      },
      "source": [
        "import numpy as np\n",
        "arr2 = np.array(([(2,4,0,6), (4,7,5,6)],\n",
        "                 [(0,3,2,1), (9,4,5,6)],\n",
        "                 [(5,8,6,4), (1,4,6,8)]), dtype = int)\n",
        "arr1 = np.array([(4,5,6), (1,2,3)], dtype = int)\n",
        "arr = np.array([1,3,4,5,6])\n",
        "\n",
        "print(arr2)\n",
        "print(\"arr[2]=\", arr[2])\n",
        "print(\"arr1[1:2]=\", arr1[1,2])\n",
        "print(\"arr2[1,2,3]=\", arr2[1,1,3])\n",
        "print(\"arr[0:3]=\", arr[0:3])\n",
        "print(\"arr1[:,:1]=\", arr1[:,:2])"
      ],
      "execution_count": null,
      "outputs": [
        {
          "output_type": "stream",
          "text": [
            "[[[2 4 0 6]\n",
            "  [4 7 5 6]]\n",
            "\n",
            " [[0 3 2 1]\n",
            "  [9 4 5 6]]\n",
            "\n",
            " [[5 8 6 4]\n",
            "  [1 4 6 8]]]\n",
            "arr[2]= 4\n",
            "arr1[1:2]= 3\n",
            "arr2[1,2,3]= 6\n",
            "arr[0:3]= [1 3 4]\n",
            "arr1[:,:1]= [[4 5]\n",
            " [1 2]]\n"
          ],
          "name": "stdout"
        }
      ]
    },
    {
      "cell_type": "code",
      "metadata": {
        "id": "10wGBPqjGu2v",
        "outputId": "ef7a4637-0f58-41b9-cb9d-0d57a65e0051",
        "colab": {
          "base_uri": "https://localhost:8080/"
        }
      },
      "source": [
        "from google.colab import auth\n",
        "auth.authenticate_user()\n",
        "from pydrive.drive import GoogleDrive\n",
        "from pydrive.auth import GoogleAuth\n",
        "from oauth2client.client import GoogleCredentials\n",
        "import numpy.core.defchararray as np_f\n",
        "gauth = GoogleAuth()\n",
        "gauth.credentials = GoogleCredentials.get_application_default()\n",
        "drive = GoogleDrive(gauth)\n",
        "import numpy as np\n",
        "#đây là chuỗi ký tự chữ và số dài xuất hiện khi bạn nhấp vào \"lấy liên kết để chia sẻ\"\n",
        "myfile = drive.CreateFile({'id': '1Zw6LIV5b6XzCPONtrsyyg9LfqglNfCqQ'})\n",
        "myfile.GetContentFile('Diem_2A.txt')\n",
        "diem_2a = np.genfromtxt('Diem_2A.txt', dtype = int, delimiter=',') \n",
        "\n",
        "#ở đây tất cả phần tử là số nguyên nên mình để kiểu int cho dễ nhìn, các phần tử phân tách nhau bởi dấu \",\"\n",
        "print(\"File dữ liệu điểm lớp 2A:\\n\", diem_2a)"
      ],
      "execution_count": 14,
      "outputs": [
        {
          "output_type": "stream",
          "text": [
            "File dữ liệu điểm lớp 2A:\n",
            " [[ 2  4  3  7  5  6  5  6  8  9  3  6  1  9  8  7  3  3  9  5  1  6  5  1\n",
            "  -1]\n",
            " [ 3  5  3 10  9  1  9  8  3  1  6  0  7  0  8  5  2  7  7  1  1  6  1  6\n",
            "  -1]\n",
            " [ 1 10  4  9  6  9  0  2  3  1  8  6  8  4  2  9  2  9  5  0  4  1  7  3\n",
            "  -1]\n",
            " [ 6  3  0  8  3  7  7  2  6  8  7  3  4  1  5  9  2  9  5  9  0  4  1  4\n",
            "  -1]\n",
            " [ 3  5  3 10  9  1  9  8  3  1  6  0  7  0  8  5  2  7  7  1  1  6  1  6\n",
            "  -1]\n",
            " [ 3  5  3 10  9  1  9  8  3  1  6  0  7  0  8  5  2  7  7  1  1  6  1  6\n",
            "  -1]\n",
            " [ 3  5  3 10  9  1  9  8  3  1  6  0  7  0  8  5  2  7  7  1  1  6  1  6\n",
            "  -1]\n",
            " [ 3  5  3 10  9  1  9  8  3  1  6  0  7  0  8  5  2  7  7  1  1  6  1  6\n",
            "  -1]\n",
            " [ 3  5  3 10  9  1  9  8  3  1  6  0  7  0  8  5  2  7  7  1  1  6  1  6\n",
            "  -1]\n",
            " [ 3  5  3 10  9  1  9  8  3  1  6  0  7  0  8  5  2  7  7  1  1  6  1  6\n",
            "  -1]]\n"
          ],
          "name": "stdout"
        }
      ]
    },
    {
      "cell_type": "markdown",
      "metadata": {
        "id": "KPQg0CcYvuP8"
      },
      "source": [
        "**Các hàm thống kê**"
      ]
    },
    {
      "cell_type": "code",
      "metadata": {
        "id": "k4FcLihSwP82"
      },
      "source": [
        "arr = np.array([1,3,4,5,6])\n",
        "arr1 = np.array([(4,5,6), (1,2,3)], dtype = int)\n",
        "arr2 = np.array(([(2,4,0,6), (4,7,5,6)],\n",
        "                 [(0,3,2,1), (9,4,5,6)],\n",
        "                 [(5,8,6,4), (1,4,6,8)]), dtype = int)"
      ],
      "execution_count": 15,
      "outputs": []
    },
    {
      "cell_type": "markdown",
      "metadata": {
        "id": "sQVvwNB0v0ax"
      },
      "source": [
        "+ arr.max() hoặc np.max(arr): Lấy giá trị lớn nhất của mảng arr."
      ]
    },
    {
      "cell_type": "code",
      "metadata": {
        "id": "IQ-cBAiSxfRt",
        "outputId": "d4d5f325-697c-455a-d4e0-1dc7d5c00e4a",
        "colab": {
          "base_uri": "https://localhost:8080/"
        }
      },
      "source": [
        "print(\"Giá trị lớn nhất của mảng arr là:\", np.max(arr))"
      ],
      "execution_count": 22,
      "outputs": [
        {
          "output_type": "stream",
          "text": [
            "Giá trị lớn nhất của mảng arr là: 6\n"
          ],
          "name": "stdout"
        }
      ]
    },
    {
      "cell_type": "markdown",
      "metadata": {
        "id": "C3Hj-kbHwkdQ"
      },
      "source": [
        "+ arr.min() hoặc np.min(arr): Lấy giá trị nhỏ nhất của mảng arr."
      ]
    },
    {
      "cell_type": "code",
      "metadata": {
        "id": "35auy15QwnUl",
        "outputId": "88645fc5-4e26-42b7-f261-56f53b3b5cd4",
        "colab": {
          "base_uri": "https://localhost:8080/"
        }
      },
      "source": [
        "print(\"Giá trị nhỏ nhất của mảng arr là:\", np.min(arr))"
      ],
      "execution_count": 19,
      "outputs": [
        {
          "output_type": "stream",
          "text": [
            "Giá trị nhỏ nhất của mảng arr là: 1\n"
          ],
          "name": "stdout"
        }
      ]
    },
    {
      "cell_type": "markdown",
      "metadata": {
        "id": "1U8y9R_1w8-M"
      },
      "source": [
        "+ arr.sum() hoặc np.sum(arr): Tổng tất cả các phần tử trong mảng arr."
      ]
    },
    {
      "cell_type": "code",
      "metadata": {
        "id": "KF8W4Tn7xI5W",
        "outputId": "61134add-df3d-431b-8ed9-1618937f2dde",
        "colab": {
          "base_uri": "https://localhost:8080/"
        }
      },
      "source": [
        "print(\"Tổng tất cả các phần tử của mảng arr là:\", np.sum(arr))"
      ],
      "execution_count": 20,
      "outputs": [
        {
          "output_type": "stream",
          "text": [
            "Tổng tất cả các phần tử của mảng arr là: 19\n"
          ],
          "name": "stdout"
        }
      ]
    },
    {
      "cell_type": "markdown",
      "metadata": {
        "id": "1SivfKzWxLXd"
      },
      "source": [
        "+ arr.mean() hoặc np.mean(arr): Trung bình cộng của tất cả các phần tử trong mảng arr."
      ]
    },
    {
      "cell_type": "code",
      "metadata": {
        "id": "j4Emj74NxQKd"
      },
      "source": [
        "print(\"Trung bình cộng tất cả các phần tử của mảng arr là:\", np.mean(arr))"
      ],
      "execution_count": null,
      "outputs": []
    },
    {
      "cell_type": "markdown",
      "metadata": {
        "id": "QFqsB5DyxSvc"
      },
      "source": [
        "+ np.median(arr): Trả về giá trị trung vị của mảng arr"
      ]
    },
    {
      "cell_type": "code",
      "metadata": {
        "id": "_fzSnHVqxVdN",
        "outputId": "b6d05ce6-8fc3-4618-d698-a12900a74dc9",
        "colab": {
          "base_uri": "https://localhost:8080/"
        }
      },
      "source": [
        "print(\"Giá trị trung vị của mảng arr là:\", np.median(arr))"
      ],
      "execution_count": 21,
      "outputs": [
        {
          "output_type": "stream",
          "text": [
            "Giá trị trung vị của mảng arr là: 4.0\n"
          ],
          "name": "stdout"
        }
      ]
    },
    {
      "cell_type": "markdown",
      "metadata": {
        "id": "BsMKF_TVyTV6"
      },
      "source": [
        "![](https://i.imgur.com/VifTJQl.jpg)"
      ]
    },
    {
      "cell_type": "markdown",
      "metadata": {
        "id": "KX273_MSyWHJ"
      },
      "source": [
        "![](https://i.imgur.com/aPv9KAx.jpg)"
      ]
    },
    {
      "cell_type": "markdown",
      "metadata": {
        "id": "UawM33I2yaue"
      },
      "source": [
        ""
      ]
    },
    {
      "cell_type": "markdown",
      "metadata": {
        "id": "aCzrVCJqybih"
      },
      "source": [
        "###c.Numpy array       Tensor in Tensorflow and Pytorch\n"
      ]
    },
    {
      "cell_type": "code",
      "metadata": {
        "id": "cIQiUfU4ybij",
        "outputId": "02bead72-3f58-46f1-c940-bc59638636f6",
        "colab": {
          "base_uri": "https://localhost:8080/"
        }
      },
      "source": [
        "import tensorflow as tf\n",
        "import numpy as np\n",
        "#create a numpy array \n",
        "arr_np = np.arange(10)\n",
        "print(arr_np)\n",
        "print(arr_np.shape)\n",
        "\n",
        "print('------------------------------------------------')\n",
        "#convert from numpy array to tensor\n",
        "arr_tf = tf.convert_to_tensor(arr_np)\n",
        "print(arr_tf)\n",
        "print(arr_tf.shape)\n",
        "print('------------------------------------------------')\n",
        "#convert from tensor to numpy array\n",
        "arr_np_back = arr_tf.numpy()\n",
        "print(arr_np_back)\n",
        "print(arr_np_back.shape)\n"
      ],
      "execution_count": 23,
      "outputs": [
        {
          "output_type": "stream",
          "text": [
            "[0 1 2 3 4 5 6 7 8 9]\n",
            "(10,)\n",
            "------------------------------------------------\n",
            "tf.Tensor([0 1 2 3 4 5 6 7 8 9], shape=(10,), dtype=int64)\n",
            "(10,)\n",
            "------------------------------------------------\n",
            "[0 1 2 3 4 5 6 7 8 9]\n",
            "(10,)\n"
          ],
          "name": "stdout"
        }
      ]
    },
    {
      "cell_type": "markdown",
      "metadata": {
        "id": "zelgOvu12QRv"
      },
      "source": [
        "##3.Numpy arrays are multi-dimensional arrays\n",
        "\n",
        "\n",
        "\n",
        "\n"
      ]
    },
    {
      "cell_type": "markdown",
      "metadata": {
        "id": "R-V71d_d29z1"
      },
      "source": [
        "**Create Numpy array**"
      ]
    },
    {
      "cell_type": "markdown",
      "metadata": {
        "id": "sffxT5HO7U99"
      },
      "source": [
        "**From List**\n"
      ]
    },
    {
      "cell_type": "markdown",
      "metadata": {
        "id": "ivc41Zdg7s5K"
      },
      "source": [
        "\n",
        "\n",
        "> ### **arr_np = np.array(python_list)**\n",
        "\n"
      ]
    },
    {
      "cell_type": "code",
      "metadata": {
        "id": "kAewsD3oybiv",
        "outputId": "bcc10488-c14a-4600-e9ea-915b84ee500f",
        "colab": {
          "base_uri": "https://localhost:8080/"
        }
      },
      "source": [
        "import numpy as np\n",
        "#tao list \n",
        "l = list(range(1,4))\n",
        "#tao adarray\n",
        "data = np.array(l)\n",
        "print(data)\n",
        "print(data[0])\n",
        "print(data[1])"
      ],
      "execution_count": null,
      "outputs": [
        {
          "output_type": "stream",
          "text": [
            "[1 2 3]\n",
            "1\n",
            "2\n"
          ],
          "name": "stdout"
        }
      ]
    },
    {
      "cell_type": "markdown",
      "metadata": {
        "id": "sUtOGYOg-d9Z"
      },
      "source": [
        "**Common attributes**\n",
        "\n",
        "\n",
        "> dtype: data type\n",
        "\n",
        "\n",
        "> shape: return a tuple of #elements in each dimension \n",
        "\n",
        "\n",
        "> ndim: return #dimensions\n",
        "\n",
        "\n",
        "\n",
        "\n",
        "\n",
        "\n",
        "\n"
      ]
    },
    {
      "cell_type": "code",
      "metadata": {
        "id": "F8f0rFXF_tZF",
        "outputId": "4b272023-5544-4a02-e3ff-b226ec6444e3",
        "colab": {
          "base_uri": "https://localhost:8080/",
          "height": 51
        }
      },
      "source": [
        "import numpy as np\n",
        "#tao list\n",
        "list1D = [1,2,3]\n",
        "#Tạo ndarray\n",
        "data = np.array(list1D)\n",
        "print(data)\n",
        "print(data.shape)"
      ],
      "execution_count": null,
      "outputs": [
        {
          "output_type": "stream",
          "text": [
            "[1 2 3]\n",
            "(3,)\n"
          ],
          "name": "stdout"
        }
      ]
    },
    {
      "cell_type": "code",
      "metadata": {
        "id": "wH9MxA2QDdS5",
        "outputId": "fc55ef17-f720-46b2-df0b-bcf57591c6a5",
        "colab": {
          "base_uri": "https://localhost:8080/",
          "height": 85
        }
      },
      "source": [
        "import numpy as np\n",
        "#tao list \n",
        "list2D = [[1,2],[3,4],[5,6]]\n",
        "#tao ndaarray\n",
        "data = np.array(list2D)\n",
        "print(data)\n",
        "print(data.shape)"
      ],
      "execution_count": null,
      "outputs": [
        {
          "output_type": "stream",
          "text": [
            "[[1 2]\n",
            " [3 4]\n",
            " [5 6]]\n",
            "(3, 2)\n"
          ],
          "name": "stdout"
        }
      ]
    },
    {
      "cell_type": "code",
      "metadata": {
        "id": "XuWx1crwD3au",
        "outputId": "c9381b77-51a2-4b61-9e31-234b8dbf3545",
        "colab": {
          "base_uri": "https://localhost:8080/"
        }
      },
      "source": [
        "import numpy as np\n",
        "#tao list\n",
        "list3D = [[[1,6],[2,2],[3,4]],\n",
        "          [[4,7],[5,2],[6,5]],\n",
        "          [[7,7],[8,2],[9,7]]]\n",
        "#tao ndaarray\n",
        "data = np.array(list3D)\n",
        "# hien thi data\n",
        "print(data.shape)"
      ],
      "execution_count": 24,
      "outputs": [
        {
          "output_type": "stream",
          "text": [
            "(3, 3, 2)\n"
          ],
          "name": "stdout"
        }
      ]
    },
    {
      "cell_type": "markdown",
      "metadata": {
        "id": "B5lLRD83FBoU"
      },
      "source": [
        "**dtype example**\n"
      ]
    },
    {
      "cell_type": "code",
      "metadata": {
        "id": "Ny5gCAFuFDMc",
        "outputId": "30d080ab-954a-4d7f-902c-79e0309410fe",
        "colab": {
          "base_uri": "https://localhost:8080/"
        }
      },
      "source": [
        "import numpy as np\n",
        "# tao ndarray \n",
        "data1 = np.array([1,2,3],dtype=np.int32)\n",
        "print(data1.dtype)\n",
        "\n",
        "data2 = np.array([1.,2.,3.])\n",
        "print(data2.dtype)\n",
        "\n",
        "data3 = np.array([1,2,3],dtype=np.int64)\n",
        "print(data3.dtype)\n"
      ],
      "execution_count": 25,
      "outputs": [
        {
          "output_type": "stream",
          "text": [
            "int32\n",
            "float64\n",
            "int64\n"
          ],
          "name": "stdout"
        }
      ]
    },
    {
      "cell_type": "markdown",
      "metadata": {
        "id": "m0WjhKvnGOZm"
      },
      "source": [
        "**Update an element**\n"
      ]
    },
    {
      "cell_type": "code",
      "metadata": {
        "id": "rWwY34FHGWAI",
        "outputId": "50345e70-1100-4e4a-c501-960acf885edb",
        "colab": {
          "base_uri": "https://localhost:8080/"
        }
      },
      "source": [
        "import numpy as np\n",
        "#tao list \n",
        "l = list(range(1,4))\n",
        "#tao ndarray \n",
        "data = np.array(l)\n",
        "print(data)\n",
        "data[0] = 8\n",
        "print(data)\n"
      ],
      "execution_count": 26,
      "outputs": [
        {
          "output_type": "stream",
          "text": [
            "[1 2 3]\n",
            "[8 2 3]\n"
          ],
          "name": "stdout"
        }
      ]
    },
    {
      "cell_type": "markdown",
      "metadata": {
        "id": "GTDpAGMpM2JP"
      },
      "source": [
        "**zeros() function**"
      ]
    },
    {
      "cell_type": "code",
      "metadata": {
        "id": "PyKDoOkqM4wa",
        "outputId": "850203c7-bee8-4e33-fb8e-bf84c50325ce",
        "colab": {
          "base_uri": "https://localhost:8080/"
        }
      },
      "source": [
        "#Tao mot numpy array\n",
        "#voi tat ca cac phan tu la 0\n",
        "import numpy as np\n",
        "arr = np.zeros((2,3))\n",
        "print(arr)"
      ],
      "execution_count": 27,
      "outputs": [
        {
          "output_type": "stream",
          "text": [
            "[[0. 0. 0.]\n",
            " [0. 0. 0.]]\n"
          ],
          "name": "stdout"
        }
      ]
    },
    {
      "cell_type": "markdown",
      "metadata": {
        "id": "3EZEOxcENG7f"
      },
      "source": [
        "**ones() function**"
      ]
    },
    {
      "cell_type": "code",
      "metadata": {
        "id": "rs-w-p8ZNJto",
        "outputId": "fcbc923c-9bcb-4c8e-cf0b-347b6c43057c",
        "colab": {
          "base_uri": "https://localhost:8080/",
          "height": 51
        }
      },
      "source": [
        "import numpy as np\n",
        "#numpy.ones(shape)\n",
        "#shape: 2 dong , 3 cot\n",
        "arr = np.ones((2,3))\n",
        "print(arr)"
      ],
      "execution_count": null,
      "outputs": [
        {
          "output_type": "stream",
          "text": [
            "[[1. 1. 1.]\n",
            " [1. 1. 1.]]\n"
          ],
          "name": "stdout"
        }
      ]
    },
    {
      "cell_type": "markdown",
      "metadata": {
        "id": "HSKWUPFVNu-6"
      },
      "source": [
        "**full() function**"
      ]
    },
    {
      "cell_type": "code",
      "metadata": {
        "id": "vg0e30MBNx6I",
        "outputId": "8607932b-0b21-4e56-a438-20142196e885",
        "colab": {
          "base_uri": "https://localhost:8080/",
          "height": 51
        }
      },
      "source": [
        "import numpy as np\n",
        "# numpy. full(shape,full value)\n",
        "# shape: 2 dong ,3 cot\n",
        "arr = np.full((2,3),9)\n",
        "print(arr)"
      ],
      "execution_count": null,
      "outputs": [
        {
          "output_type": "stream",
          "text": [
            "[[9 9 9]\n",
            " [9 9 9]]\n"
          ],
          "name": "stdout"
        }
      ]
    },
    {
      "cell_type": "markdown",
      "metadata": {
        "id": "HT0H4-quj9iM"
      },
      "source": [
        "**arange () function**\n"
      ]
    },
    {
      "cell_type": "code",
      "metadata": {
        "id": "2Ux3PoC-kama",
        "outputId": "73d91d8b-5d4c-40fd-cb38-af0ce205853c",
        "colab": {
          "base_uri": "https://localhost:8080/",
          "height": 51
        }
      },
      "source": [
        "import numpy as np\n",
        "arr1 = [0,1,2,3,4]\n",
        "arr2 = [0,2,4]\n",
        "#np.arange(start =0 ,stop,step =1)\n",
        "arr1 = np.arange(5)\n",
        "print(arr1)\n",
        "\n",
        "arr2 = np.arange(0,5,2)\n",
        "print(arr2)"
      ],
      "execution_count": null,
      "outputs": [
        {
          "output_type": "stream",
          "text": [
            "[0 1 2 3 4]\n",
            "[0 2 4]\n"
          ],
          "name": "stdout"
        }
      ]
    },
    {
      "cell_type": "markdown",
      "metadata": {
        "id": "sKVujrrXlRL0"
      },
      "source": [
        "**eye() function**"
      ]
    },
    {
      "cell_type": "code",
      "metadata": {
        "id": "H-9SmW7ulT-q",
        "outputId": "dd0ede06-fada-42f3-ab26-489bd36fedb2",
        "colab": {
          "base_uri": "https://localhost:8080/",
          "height": 68
        }
      },
      "source": [
        "#Tạo một numpy array với đường chéo là số 1\n",
        "#Số 0 được điền vào những ô phần tử còn lại\n",
        "import numpy as np\n",
        "#numpy.eye(N)\n",
        "#shape: 3 dòng , 3 cột\n",
        "arr = np.eye(3)\n",
        "print(arr)"
      ],
      "execution_count": null,
      "outputs": [
        {
          "output_type": "stream",
          "text": [
            "[[1. 0. 0.]\n",
            " [0. 1. 0.]\n",
            " [0. 0. 1.]]\n"
          ],
          "name": "stdout"
        }
      ]
    },
    {
      "cell_type": "markdown",
      "metadata": {
        "id": "3OZo7JftmLWS"
      },
      "source": [
        "**random() function**"
      ]
    },
    {
      "cell_type": "code",
      "metadata": {
        "id": "u4LoXUUImQvo",
        "outputId": "c9c43de1-0d1f-49b7-f9bd-5caa3d8b27ef",
        "colab": {
          "base_uri": "https://localhost:8080/",
          "height": 51
        }
      },
      "source": [
        "#np.random.random(size)\n",
        "#shape : 2 dong,3 cot với\n",
        "#phần tử có giá trị ngẫu nhiên\n",
        "import numpy as np\n",
        "arr = np.random.random((2,3))\n",
        "print(arr)"
      ],
      "execution_count": null,
      "outputs": [
        {
          "output_type": "stream",
          "text": [
            "[[0.43000759 0.91661254 0.85054511]\n",
            " [0.09119754 0.51135025 0.66846723]]\n"
          ],
          "name": "stdout"
        }
      ]
    },
    {
      "cell_type": "markdown",
      "metadata": {
        "id": "NKde4ItrmwhP"
      },
      "source": [
        "# **Some important functions**\n"
      ]
    },
    {
      "cell_type": "code",
      "metadata": {
        "id": "a2uFC3PRm0eP"
      },
      "source": [
        ""
      ],
      "execution_count": 27,
      "outputs": []
    },
    {
      "cell_type": "markdown",
      "metadata": {
        "id": "jQRMwpgum3XG"
      },
      "source": [
        "**where() function**\n"
      ]
    },
    {
      "cell_type": "code",
      "metadata": {
        "id": "19e1JjVAm5hG",
        "outputId": "6b20e370-b2e8-4e38-bd29-ad4f7c357580",
        "colab": {
          "base_uri": "https://localhost:8080/"
        }
      },
      "source": [
        "import numpy as np\n",
        "#create an array\n",
        "arr = np.arange(5)\n",
        "print(arr)\n",
        "#condition\n",
        "condition = arr<3\n",
        "out = np.where(condition,arr,arr*2)\n",
        "print(condition)\n",
        "print(out)"
      ],
      "execution_count": 28,
      "outputs": [
        {
          "output_type": "stream",
          "text": [
            "[0 1 2 3 4]\n",
            "[ True  True  True False False]\n",
            "[0 1 2 6 8]\n"
          ],
          "name": "stdout"
        }
      ]
    },
    {
      "cell_type": "markdown",
      "metadata": {
        "id": "Oqnp0NwGfUh6"
      },
      "source": [
        "**flatten() function**\n"
      ]
    },
    {
      "cell_type": "code",
      "metadata": {
        "id": "M013cBaLfWhJ",
        "outputId": "4908a31b-69a3-4cb9-c3a4-7f628f91f035",
        "colab": {
          "base_uri": "https://localhost:8080/",
          "height": 68
        }
      },
      "source": [
        "import numpy as np\n",
        "arr = np.array([[1,2],[3,4]])\n",
        "out = arr.flatten()\n",
        "print(arr)\n",
        "print(out)"
      ],
      "execution_count": null,
      "outputs": [
        {
          "output_type": "stream",
          "text": [
            "[[1 2]\n",
            " [3 4]]\n",
            "[1 2 3 4]\n"
          ],
          "name": "stdout"
        }
      ]
    },
    {
      "cell_type": "markdown",
      "metadata": {
        "id": "w5X00xzyfyRA"
      },
      "source": [
        "**reshape() function**\n"
      ]
    },
    {
      "cell_type": "code",
      "metadata": {
        "id": "ctjIvA9Dfz_x",
        "outputId": "83804ccb-c757-4afc-d979-94d4509d3642",
        "colab": {
          "base_uri": "https://localhost:8080/",
          "height": 204
        }
      },
      "source": [
        "import numpy as np\n",
        "#tạo list\n",
        "l = [[1,2,3],[4,5,6]]\n",
        "# tạo ndarray\n",
        "data = np.array(l)\n",
        "print('data\\n',data)\n",
        "print('data shape\\n',data.shape)\n",
        "#reshape \n",
        "data_rs = np.reshape(data,(3,2))\n",
        "print('data_rs\\n',data_rs)\n",
        "print('data_rs shape\\n',data_rs.shape)"
      ],
      "execution_count": null,
      "outputs": [
        {
          "output_type": "stream",
          "text": [
            "data\n",
            " [[1 2 3]\n",
            " [4 5 6]]\n",
            "data shape\n",
            " (2, 3)\n",
            "data_rs\n",
            " [[1 2]\n",
            " [3 4]\n",
            " [5 6]]\n",
            "data_rs shape\n",
            " (3, 2)\n"
          ],
          "name": "stdout"
        }
      ]
    },
    {
      "cell_type": "markdown",
      "metadata": {
        "id": "3nhAU3TbhjRM"
      },
      "source": [
        "#**B.NumpyArray Indexing**"
      ]
    },
    {
      "cell_type": "code",
      "metadata": {
        "id": "tXXm9PfOhmVO"
      },
      "source": [
        ""
      ],
      "execution_count": null,
      "outputs": []
    },
    {
      "cell_type": "markdown",
      "metadata": {
        "id": "oRDm7LQ1hyVI"
      },
      "source": [
        "##**1.Slicing**"
      ]
    },
    {
      "cell_type": "markdown",
      "metadata": {
        "id": "rqAUR-HEh_04"
      },
      "source": [
        "####**arr[for_axis_0, for_axis_1, …]**\n"
      ]
    },
    {
      "cell_type": "markdown",
      "metadata": {
        "id": "EhyVpKLhiCpL"
      },
      "source": [
        "\n",
        "![](https://i.imgur.com/efLdL2N.jpg)"
      ]
    },
    {
      "cell_type": "markdown",
      "metadata": {
        "id": "29hUlAMA6MGW"
      },
      "source": [
        "![](https://i.imgur.com/uZj92SE.jpg)"
      ]
    },
    {
      "cell_type": "code",
      "metadata": {
        "id": "6IZTQJcLkMzR",
        "outputId": "f5bf92cc-6970-4e54-86a0-8b4a2781dfb3",
        "colab": {
          "base_uri": "https://localhost:8080/",
          "height": 85
        }
      },
      "source": [
        "import numpy as np\n",
        "#khỏi tạo numpy array a_arr\n",
        "a_arr = np.array([[1,2,3],[5,6,7]])\n",
        "#Sử dụng slicing để tạo mảng b_arr\n",
        "#bằng cách lấy tất cả các dòng và cột 1,2\n",
        "b_arr = a_arr[:,1:3]\n",
        "\n",
        "print(a_arr)\n",
        "print(b_arr)"
      ],
      "execution_count": null,
      "outputs": [
        {
          "output_type": "stream",
          "text": [
            "[[1 2 3]\n",
            " [5 6 7]]\n",
            "[[2 3]\n",
            " [6 7]]\n"
          ],
          "name": "stdout"
        }
      ]
    },
    {
      "cell_type": "markdown",
      "metadata": {
        "id": "qawERNlUnpRR"
      },
      "source": [
        "**Mutable**"
      ]
    },
    {
      "cell_type": "markdown",
      "metadata": {
        "id": "k8lgDhXjpMO4"
      },
      "source": [
        ""
      ]
    },
    {
      "cell_type": "markdown",
      "metadata": {
        "id": "UhsVG3sM53Uq"
      },
      "source": [
        "![](https://i.imgur.com/6JnrSBP.jpg)"
      ]
    },
    {
      "cell_type": "markdown",
      "metadata": {
        "id": "hXEQ7wMq596A"
      },
      "source": [
        ""
      ]
    },
    {
      "cell_type": "code",
      "metadata": {
        "id": "B2eqpbTgnv1W",
        "outputId": "50370760-a8ed-4d16-c7ed-55eef344de39",
        "colab": {
          "base_uri": "https://localhost:8080/",
          "height": 187
        }
      },
      "source": [
        "import numpy as np\n",
        "#Khởi tạo numpy array a_arr\n",
        "a_arr = np.array([[1,2,3],[5,6,7]])\n",
        "print('a_arr \\n',a_arr)\n",
        "\n",
        "#Sử dụng slicing để tạo mảng b_arr\n",
        "b_arr = a_arr[:,1:3]\n",
        "print('b_arr \\n',b_arr)\n",
        "print('Before changing \\n',a_arr[0,1])\n",
        "b_arr[0,0] = 99\n",
        "print('After changing \\n',a_arr[0,1])"
      ],
      "execution_count": null,
      "outputs": [
        {
          "output_type": "stream",
          "text": [
            "a_arr \n",
            " [[1 2 3]\n",
            " [5 6 7]]\n",
            "b_arr \n",
            " [[2 3]\n",
            " [6 7]]\n",
            "Before changing \n",
            " 2\n",
            "After changing \n",
            " 99\n"
          ],
          "name": "stdout"
        }
      ]
    },
    {
      "cell_type": "markdown",
      "metadata": {
        "id": "so8pR_FMtO6O"
      },
      "source": [
        " **Get a row**\n"
      ]
    },
    {
      "cell_type": "markdown",
      "metadata": {
        "id": "3Ay8ofeztbpC"
      },
      "source": [
        "![](https://i.imgur.com/C1cL0ML.jpg)"
      ]
    },
    {
      "cell_type": "markdown",
      "metadata": {
        "id": "hBzCT3sy6xsk"
      },
      "source": [
        ""
      ]
    },
    {
      "cell_type": "code",
      "metadata": {
        "id": "NfBkpUGrtfXY"
      },
      "source": [
        "import numpy as np\n",
        "# tạo một numpy array có shape (3,3) với giá trị \n",
        "# [[1 2 3],[5 6 7],[9 10 11]]\n",
        "# \n",
        "#"
      ],
      "execution_count": null,
      "outputs": []
    },
    {
      "cell_type": "code",
      "metadata": {
        "id": "99Ruws9wuA7X",
        "outputId": "655dbe34-921b-406d-d927-c2bda41f90d6",
        "colab": {
          "base_uri": "https://localhost:8080/",
          "height": 51
        }
      },
      "source": [
        "arr = np.array([[1,2,3],[5,6,7],[9,10,11]])\n",
        "#Hai cách truy cập dữ liệu ở dòng index = 1\n",
        "#cách 1 : só chiều giảm\n",
        "row_m1 = arr[1,:]\n",
        "#cách 2 : số chiều được giứ nguyên\n",
        "row_m2 = arr[1:2,:]\n",
        "print(row_m1,row_m1.shape)\n",
        "print(row_m1,row_m2.shape)"
      ],
      "execution_count": null,
      "outputs": [
        {
          "output_type": "stream",
          "text": [
            "[5 6 7] (3,)\n",
            "[5 6 7] (1, 3)\n"
          ],
          "name": "stdout"
        }
      ]
    },
    {
      "cell_type": "markdown",
      "metadata": {
        "id": "9zStb8yNylWq"
      },
      "source": [
        "**Get a column**\n"
      ]
    },
    {
      "cell_type": "markdown",
      "metadata": {
        "id": "GMzDim4gyols"
      },
      "source": [
        "![](https://i.imgur.com/Rl7oiuv.jpg)"
      ]
    },
    {
      "cell_type": "markdown",
      "metadata": {
        "id": "0Dcf4AkG7GZB"
      },
      "source": [
        ""
      ]
    },
    {
      "cell_type": "code",
      "metadata": {
        "id": "177cYUrMyv_0",
        "outputId": "60fad064-8b23-4030-f235-67ded809ef7e",
        "colab": {
          "base_uri": "https://localhost:8080/",
          "height": 85
        }
      },
      "source": [
        "import numpy as np\n",
        "#Tạo một numpy array có shape (3,3) với giá trị\n",
        "arr = np.array([[1,2,3],[5,6,7],[9,10,11]])\n",
        "#hai cách truy cập dữ liệu ở cột index = 1 của mảng\n",
        "# cách 1 : Số chiều giảm\n",
        "col_m1 = arr[:,1]\n",
        "# cách 2 : số chiều được giữa nguyên \n",
        "col_m2 = arr[:,1:2]\n",
        "print(col_m1,col_m1.shape)\n",
        "print(col_m2,col_m2.shape)"
      ],
      "execution_count": null,
      "outputs": [
        {
          "output_type": "stream",
          "text": [
            "[ 2  6 10] (3,)\n",
            "[[ 2]\n",
            " [ 6]\n",
            " [10]] (3, 1)\n"
          ],
          "name": "stdout"
        }
      ]
    },
    {
      "cell_type": "markdown",
      "metadata": {
        "id": "gENDyu2kZ4cR"
      },
      "source": [
        "**Using Lists as indices**\n"
      ]
    },
    {
      "cell_type": "markdown",
      "metadata": {
        "id": "IVZe01diZ8Vn"
      },
      "source": [
        "![](https://i.imgur.com/us8i29e.jpg)"
      ]
    },
    {
      "cell_type": "markdown",
      "metadata": {
        "id": "4eHlj5367N3g"
      },
      "source": [
        ""
      ]
    },
    {
      "cell_type": "code",
      "metadata": {
        "id": "NVsz1v2haDOp",
        "outputId": "ed4badce-34ff-4ee0-9e81-0d6db8269211",
        "colab": {
          "base_uri": "https://localhost:8080/",
          "height": 85
        }
      },
      "source": [
        "import numpy as np\n",
        "#tạo arr\n",
        "arr = np.array([[1,2],[3,4],[5,6]])\n",
        "#Lấy giá trị vị trí (0,0) , (1,1) và (2,0)\n",
        "out1 = arr[[0,1,2],[0,1,0]]\n",
        "print('out1:\\n',out1)\n",
        "#Có thể truy xuất tới 1 phần tử nhiều hơn 1 lần \n",
        "out2 = arr[[0,0],[1,1]]\n",
        "print('out2:\\n',out2)"
      ],
      "execution_count": null,
      "outputs": [
        {
          "output_type": "stream",
          "text": [
            "out1:\n",
            " [1 4 5]\n",
            "out2:\n",
            " [2 2]\n"
          ],
          "name": "stdout"
        }
      ]
    },
    {
      "cell_type": "markdown",
      "metadata": {
        "id": "h9ZESZxCho7S"
      },
      "source": [
        "**Boolean indices**\n"
      ]
    },
    {
      "cell_type": "markdown",
      "metadata": {
        "id": "MTcsXXdEhw7j"
      },
      "source": [
        "![](https://i.imgur.com/2lUa85e.jpg)"
      ]
    },
    {
      "cell_type": "markdown",
      "metadata": {
        "id": "OM9qunHS70hA"
      },
      "source": [
        ""
      ]
    },
    {
      "cell_type": "code",
      "metadata": {
        "id": "mUAUnS6khy_x",
        "outputId": "c2b62b83-8bc8-490a-b7d4-e5c0754e6eaa",
        "colab": {
          "base_uri": "https://localhost:8080/",
          "height": 119
        }
      },
      "source": [
        "import numpy as np\n",
        "arr = np.array([[1,2],[3,4],[5,6]])\n",
        "print(arr)\n",
        "#Tìm các phần tử lớn hơn 2\n",
        "bool_idx = (arr>2)\n",
        "print(bool_idx)"
      ],
      "execution_count": null,
      "outputs": [
        {
          "output_type": "stream",
          "text": [
            "[[1 2]\n",
            " [3 4]\n",
            " [5 6]]\n",
            "[[False False]\n",
            " [ True  True]\n",
            " [ True  True]]\n"
          ],
          "name": "stdout"
        }
      ]
    },
    {
      "cell_type": "markdown",
      "metadata": {
        "id": "oFW9N_babyE9"
      },
      "source": [
        "#**C.NumpyArray Operations**\n"
      ]
    },
    {
      "cell_type": "markdown",
      "metadata": {
        "id": "ZqXTQFzib9AK"
      },
      "source": [
        "**Addition**\n"
      ]
    },
    {
      "cell_type": "markdown",
      "metadata": {
        "id": "F5EDQevvcA_s"
      },
      "source": [
        "![](https://i.imgur.com/7OTjMQz.jpg)"
      ]
    },
    {
      "cell_type": "code",
      "metadata": {
        "id": "wWI3xlSEcCGr",
        "outputId": "f810fa35-5a33-4e16-d0df-8b16f2d729dc",
        "colab": {
          "base_uri": "https://localhost:8080/",
          "height": 153
        }
      },
      "source": [
        "import numpy as np\n",
        "x = np.array([1,2,3,4])\n",
        "y = np.array([5,6,7,8])\n",
        "print(\"data x\\n\",x)\n",
        "print(\"data y\\n\",y)\n",
        "#Tổng của 2 màng\n",
        "print('method 1 \\n',x+y)\n",
        "print('method 2 \\n',np.add(x,y))"
      ],
      "execution_count": null,
      "outputs": [
        {
          "output_type": "stream",
          "text": [
            "data x\n",
            " [1 2 3 4]\n",
            "data y\n",
            " [5 6 7 8]\n",
            "method 1 \n",
            " [ 6  8 10 12]\n",
            "method 2 \n",
            " [ 6  8 10 12]\n"
          ],
          "name": "stdout"
        }
      ]
    },
    {
      "cell_type": "markdown",
      "metadata": {
        "id": "mf7av7GScvNO"
      },
      "source": [
        " **Subtraction**\n"
      ]
    },
    {
      "cell_type": "markdown",
      "metadata": {
        "id": "Mm40brPGcyEj"
      },
      "source": [
        "![](https://i.imgur.com/jlXYbiO.jpg)"
      ]
    },
    {
      "cell_type": "code",
      "metadata": {
        "id": "_r2dhqK5c3HM",
        "outputId": "aea4daff-21aa-4ab1-c1ff-a77340add861",
        "colab": {
          "base_uri": "https://localhost:8080/",
          "height": 153
        }
      },
      "source": [
        "import numpy as np\n",
        "x = np.array([5,6,7,8])\n",
        "y = np.array([1,2,3,4])\n",
        "print('data x \\n',x)\n",
        "print('data y \\n',y)\n",
        "#Hiệu của hai mảng \n",
        "print('method 1 \\n',x-y)\n",
        "print('method 2 \\n',np.subtract(x,y))"
      ],
      "execution_count": null,
      "outputs": [
        {
          "output_type": "stream",
          "text": [
            "data x \n",
            " [5 6 7 8]\n",
            "data y \n",
            " [1 2 3 4]\n",
            "method 1 \n",
            " [4 4 4 4]\n",
            "method 2 \n",
            " [4 4 4 4]\n"
          ],
          "name": "stdout"
        }
      ]
    },
    {
      "cell_type": "markdown",
      "metadata": {
        "id": "JCDfdG4Ldgr-"
      },
      "source": [
        "**Multiplication**"
      ]
    },
    {
      "cell_type": "markdown",
      "metadata": {
        "id": "MsSxPvYednkp"
      },
      "source": [
        "![](https://i.imgur.com/j4wjueq.jpg)"
      ]
    },
    {
      "cell_type": "code",
      "metadata": {
        "id": "0s_r7NEJdoj1",
        "outputId": "41d8acd1-2abb-499f-99b1-b4f2a54be47a",
        "colab": {
          "base_uri": "https://localhost:8080/",
          "height": 153
        }
      },
      "source": [
        "import numpy as np\n",
        "x = np.array([1,2,3,4])\n",
        "y = np.array([5,6,7,8])\n",
        "print('data x \\n',x)\n",
        "print('data y \\n',y)\n",
        "# Tích các phần tử tương ứng giữa x và y\n",
        "print('method 1 \\n',x*y)\n",
        "print('method 2 \\n',np.multiply(x,y))"
      ],
      "execution_count": null,
      "outputs": [
        {
          "output_type": "stream",
          "text": [
            "data x \n",
            " [1 2 3 4]\n",
            "data y \n",
            " [5 6 7 8]\n",
            "method 1 \n",
            " [ 5 12 21 32]\n",
            "method 2 \n",
            " [ 5 12 21 32]\n"
          ],
          "name": "stdout"
        }
      ]
    },
    {
      "cell_type": "markdown",
      "metadata": {
        "id": "uewxAYbn9AO3"
      },
      "source": [
        ""
      ]
    },
    {
      "cell_type": "markdown",
      "metadata": {
        "id": "UGCCAW0ZeTOx"
      },
      "source": [
        "**Division**\n"
      ]
    },
    {
      "cell_type": "markdown",
      "metadata": {
        "id": "ZSzCOdnX9D3Y"
      },
      "source": [
        "![](https://i.imgur.com/efDNrOA.jpg)"
      ]
    },
    {
      "cell_type": "code",
      "metadata": {
        "id": "jVvduQLneVcH",
        "outputId": "bcc7e4b0-8c7c-4be2-d8e7-cd8ad6e5195d",
        "colab": {
          "base_uri": "https://localhost:8080/",
          "height": 187
        }
      },
      "source": [
        "import numpy as np\n",
        "x = np.array([5,6,7,8])\n",
        "x = np.array([1,2,3,4])\n",
        "print('data x \\n',x)\n",
        "print('data y \\n',y)\n",
        "# Phép chia các từng phần tương ứng x cho y \n",
        "print('method 1 \\n',x/y)\n",
        "print('method 2 \\n',x//y)\n",
        "print('method 3 \\n',np.divide(x,y))"
      ],
      "execution_count": null,
      "outputs": [
        {
          "output_type": "stream",
          "text": [
            "data x \n",
            " [1 2 3 4]\n",
            "data y \n",
            " [5 6 7 8]\n",
            "method 1 \n",
            " [0.2        0.33333333 0.42857143 0.5       ]\n",
            "method 2 \n",
            " [0 0 0 0]\n",
            "method 3 \n",
            " [0.2        0.33333333 0.42857143 0.5       ]\n"
          ],
          "name": "stdout"
        }
      ]
    },
    {
      "cell_type": "markdown",
      "metadata": {
        "id": "vJf1tAXUfWjt"
      },
      "source": [
        "**Square root**\n"
      ]
    },
    {
      "cell_type": "markdown",
      "metadata": {
        "id": "cIfw8i_i9G43"
      },
      "source": [
        "![](https://i.imgur.com/0XVFNBB.jpg)"
      ]
    },
    {
      "cell_type": "markdown",
      "metadata": {
        "id": "AgAf5D6z85Jq"
      },
      "source": [
        ""
      ]
    },
    {
      "cell_type": "code",
      "metadata": {
        "id": "mQ2kkl3cfZiC",
        "outputId": "42ee893c-f637-4c6c-bc17-d3d1f1bc73c8",
        "colab": {
          "base_uri": "https://localhost:8080/",
          "height": 85
        }
      },
      "source": [
        "import numpy as np \n",
        "data = np.array([1,2,3,4])\n",
        "print('data \\n',data)\n",
        "# Căn bặc hai từng phần tử trong data\n",
        "print('sqrt \\n',np.sqrt(data))"
      ],
      "execution_count": null,
      "outputs": [
        {
          "output_type": "stream",
          "text": [
            "data \n",
            " [1 2 3 4]\n",
            "sqrt \n",
            " [1.         1.41421356 1.73205081 2.        ]\n"
          ],
          "name": "stdout"
        }
      ]
    },
    {
      "cell_type": "markdown",
      "metadata": {
        "id": "0rpCEU_pf-j4"
      },
      "source": [
        "**Inner product**\n"
      ]
    },
    {
      "cell_type": "markdown",
      "metadata": {
        "id": "52-EheWn9nL1"
      },
      "source": [
        "![](https://i.imgur.com/bs9tIbs.jpg)"
      ]
    },
    {
      "cell_type": "code",
      "metadata": {
        "id": "9XeowZChgAbC",
        "outputId": "ff361736-73ba-4e6e-866f-bf436f58555c",
        "colab": {
          "base_uri": "https://localhost:8080/",
          "height": 85
        }
      },
      "source": [
        "import numpy as np \n",
        "v = np.array([1,2])\n",
        "w = np.array([2,3])\n",
        "# Tính inner product giữa v và w\n",
        "print('method 1 \\n',v.dot(w))\n",
        "print('method 2 \\n',np.dot(v,w))"
      ],
      "execution_count": null,
      "outputs": [
        {
          "output_type": "stream",
          "text": [
            "method 1 \n",
            " 8\n",
            "method 2 \n",
            " 8\n"
          ],
          "name": "stdout"
        }
      ]
    },
    {
      "cell_type": "markdown",
      "metadata": {
        "id": "4hYYFztxgvFn"
      },
      "source": [
        "**Vector-matrix multiplication**\n",
        "\n"
      ]
    },
    {
      "cell_type": "markdown",
      "metadata": {
        "id": "13hcpLgB9sTD"
      },
      "source": [
        "![](https://i.imgur.com/PlXaXP6.jpg)"
      ]
    },
    {
      "cell_type": "markdown",
      "metadata": {
        "id": "KEJv26aX9vxb"
      },
      "source": [
        ""
      ]
    },
    {
      "cell_type": "code",
      "metadata": {
        "id": "ougoRVbCg2bL",
        "outputId": "3444f989-c7d3-466d-ae1a-989ce236ef78",
        "colab": {
          "base_uri": "https://localhost:8080/",
          "height": 170
        }
      },
      "source": [
        "import numpy as np\n",
        "X = np.array([[1,2],[3,4]])\n",
        "v = np.array([1,2])\n",
        "print('matrix X \\n',X)\n",
        "print('vector v \\n',v)\n",
        "# Phép nhân giữa ma trận và vector\n",
        "print('mehod 1 : X.dot(v)  \\n',X.dot(v))\n",
        "print('mehod 2 : v.dot(X)  \\n',v.dot(X))"
      ],
      "execution_count": null,
      "outputs": [
        {
          "output_type": "stream",
          "text": [
            "matrix X \n",
            " [[1 2]\n",
            " [3 4]]\n",
            "vector v \n",
            " [1 2]\n",
            "mehod 1 : X.dot(v)  \n",
            " [ 5 11]\n",
            "mehod 2 : v.dot(X)  \n",
            " [ 7 10]\n"
          ],
          "name": "stdout"
        }
      ]
    },
    {
      "cell_type": "markdown",
      "metadata": {
        "id": "RVIesLK5h3fu"
      },
      "source": [
        "**Matrix-matrix multiplication**\n"
      ]
    },
    {
      "cell_type": "markdown",
      "metadata": {
        "id": "LwGMPhms9zWs"
      },
      "source": [
        "![](https://i.imgur.com/mtv93Gz.jpg)"
      ]
    },
    {
      "cell_type": "code",
      "metadata": {
        "id": "hP-vZX6Mh5z7",
        "outputId": "bf2e6fba-d5b2-471a-c5a0-12d615caeb41",
        "colab": {
          "base_uri": "https://localhost:8080/",
          "height": 221
        }
      },
      "source": [
        "import numpy as np\n",
        "X = np.array([[1,2],[3,4]])\n",
        "Y = np.array([[2,3],[2,1]])\n",
        "# C1 Phép nhân giữa hai ma trận \n",
        "print('method 1 \\n',X.dot(Y))\n",
        "print('method 1 \\n',Y.dot(X))\n",
        "#C2  Phép nhân giữa hai ma trận \n",
        "print('method 2 \\n',np.dot(X,Y))\n",
        "print('method 2 \\n',np.dot(Y,X))"
      ],
      "execution_count": null,
      "outputs": [
        {
          "output_type": "stream",
          "text": [
            "method 1 \n",
            " [[ 6  5]\n",
            " [14 13]]\n",
            "method 1 \n",
            " [[11 16]\n",
            " [ 5  8]]\n",
            "method 2 \n",
            " [[ 6  5]\n",
            " [14 13]]\n",
            "method 2 \n",
            " [[11 16]\n",
            " [ 5  8]]\n"
          ],
          "name": "stdout"
        }
      ]
    },
    {
      "cell_type": "markdown",
      "metadata": {
        "id": "epUcn63Ki6QQ"
      },
      "source": [
        "**Transpose**\n"
      ]
    },
    {
      "cell_type": "markdown",
      "metadata": {
        "id": "MndL3gwH-MH7"
      },
      "source": [
        "![](https://i.imgur.com/85THJ95.jpg)"
      ]
    },
    {
      "cell_type": "code",
      "metadata": {
        "id": "q6WRZe8Oi8xu",
        "outputId": "1ce3738c-8af3-4d09-d23c-e4b00295d85c",
        "colab": {
          "base_uri": "https://localhost:8080/",
          "height": 85
        }
      },
      "source": [
        "import numpy as np\n",
        "X = np.array([[1,2],[3,4]])\n",
        "print(X)\n",
        "#Chuyển vị\n",
        "print(X.T)"
      ],
      "execution_count": null,
      "outputs": [
        {
          "output_type": "stream",
          "text": [
            "[[1 2]\n",
            " [3 4]]\n",
            "[[1 3]\n",
            " [2 4]]\n"
          ],
          "name": "stdout"
        }
      ]
    },
    {
      "cell_type": "markdown",
      "metadata": {
        "id": "vXB17fFUjSS-"
      },
      "source": [
        "**Summation**\n"
      ]
    },
    {
      "cell_type": "markdown",
      "metadata": {
        "id": "S8VH7btL-knQ"
      },
      "source": [
        "![](https://i.imgur.com/rz0ncFa.jpg)"
      ]
    },
    {
      "cell_type": "code",
      "metadata": {
        "id": "KOh-l-PDjUak",
        "outputId": "a69fdd1e-d9d4-4acb-dbad-18806859b5a7",
        "colab": {
          "base_uri": "https://localhost:8080/",
          "height": 68
        }
      },
      "source": [
        "import numpy as np\n",
        "X = np.array([[1,2],[3,4]])\n",
        "#Tổng các phần tử của mảng \n",
        "print(np.sum(X))\n",
        "#Tính tổng các phần tử theo từng cột\n",
        "print(np.sum(X,axis=0))\n",
        "#Tính tổng theo từng dòng \n",
        "print(np.sum(X,axis=1))"
      ],
      "execution_count": null,
      "outputs": [
        {
          "output_type": "stream",
          "text": [
            "10\n",
            "[4 6]\n",
            "[3 7]\n"
          ],
          "name": "stdout"
        }
      ]
    },
    {
      "cell_type": "markdown",
      "metadata": {
        "id": "ISsfD_BDlfNv"
      },
      "source": [
        "**Max and min**\n"
      ]
    },
    {
      "cell_type": "markdown",
      "metadata": {
        "id": "gSIQrEf8-o-B"
      },
      "source": [
        "![](https://i.imgur.com/diGN2yk.jpg)"
      ]
    },
    {
      "cell_type": "code",
      "metadata": {
        "id": "D0PtTGb9lhsu",
        "outputId": "cf92384b-f9f2-443c-e012-a1cefaea4f83",
        "colab": {
          "base_uri": "https://localhost:8080/",
          "height": 119
        }
      },
      "source": [
        "import numpy as np\n",
        "data = np.array([1,2,3])\n",
        "print(data.max())\n",
        "print(data.min())\n",
        "\n",
        "data2d = np.array([[1,2],[3,4],[5,6]])\n",
        "print(data2d.max(axis=0))\n",
        "print(data2d.max(axis=1))\n",
        "print(data2d.min(axis=1))\n",
        "print(data2d.min(axis=1))"
      ],
      "execution_count": null,
      "outputs": [
        {
          "output_type": "stream",
          "text": [
            "3\n",
            "1\n",
            "[5 6]\n",
            "[2 4 6]\n",
            "[1 3 5]\n",
            "[1 3 5]\n"
          ],
          "name": "stdout"
        }
      ]
    },
    {
      "cell_type": "markdown",
      "metadata": {
        "id": "U_Dm-kspOfKO"
      },
      "source": [
        "#**D.Broadcasting**\n"
      ]
    },
    {
      "cell_type": "markdown",
      "metadata": {
        "id": "gHHTIJYEOnB-"
      },
      "source": [
        "**Vector and a scalar**\n"
      ]
    },
    {
      "cell_type": "markdown",
      "metadata": {
        "id": "1VFFuhhg_Hlu"
      },
      "source": [
        "![](https://i.imgur.com/Hj98wxI.jpg)"
      ]
    },
    {
      "cell_type": "code",
      "metadata": {
        "id": "0B7uVAypOp9f",
        "outputId": "759931cd-759e-488d-84d8-bb3b7260004f",
        "colab": {
          "base_uri": "https://localhost:8080/"
        }
      },
      "source": [
        "import numpy as np\n",
        "#create data\n",
        "data = np.array([1,2,3])\n",
        "factor = 2\n",
        "\n",
        "#broadcasting \n",
        "result_multiplication = data*factor\n",
        "result_minus = data - factor\n",
        "\n",
        "print(data)\n",
        "print(result_multiplication)\n",
        "print(result_minus)"
      ],
      "execution_count": 29,
      "outputs": [
        {
          "output_type": "stream",
          "text": [
            "[1 2 3]\n",
            "[2 4 6]\n",
            "[-1  0  1]\n"
          ],
          "name": "stdout"
        }
      ]
    },
    {
      "cell_type": "markdown",
      "metadata": {
        "id": "9UqVFHEHPbEu"
      },
      "source": [
        "**Matrix and vector**"
      ]
    },
    {
      "cell_type": "markdown",
      "metadata": {
        "id": "VY_y4KxE_QIl"
      },
      "source": [
        "![](https://i.imgur.com/qraZkMh.jpg)"
      ]
    },
    {
      "cell_type": "code",
      "metadata": {
        "id": "Tfde2OMHPdYu",
        "outputId": "18d96e28-5875-4e9f-d3ef-97a51da84b44",
        "colab": {
          "base_uri": "https://localhost:8080/",
          "height": 85
        }
      },
      "source": [
        "import numpy as np\n",
        "X = np.array([[1,2,3],[4,5,6],[7,8,9],[10,11,12]])\n",
        "v = np.array([1,0,1])\n",
        "Y = X + v\n",
        "print(Y)"
      ],
      "execution_count": null,
      "outputs": [
        {
          "output_type": "stream",
          "text": [
            "[[ 2  2  4]\n",
            " [ 5  5  7]\n",
            " [ 8  8 10]\n",
            " [11 11 13]]\n"
          ],
          "name": "stdout"
        }
      ]
    },
    {
      "cell_type": "markdown",
      "metadata": {
        "id": "gBRi2j-ZQB2d"
      },
      "source": [
        "#**E.Data Processing**\n"
      ]
    },
    {
      "cell_type": "markdown",
      "metadata": {
        "id": "43rdtpxiQRv1"
      },
      "source": [
        "**Text data** "
      ]
    },
    {
      "cell_type": "markdown",
      "metadata": {
        "id": "DiG9YpHo_m2U"
      },
      "source": [
        "![](https://i.imgur.com/vSAnsB0.jpg)"
      ]
    },
    {
      "cell_type": "markdown",
      "metadata": {
        "id": "GsBKSSLU_z4g"
      },
      "source": [
        "![](https://i.imgur.com/w6RCoyX.jpg)"
      ]
    },
    {
      "cell_type": "markdown",
      "metadata": {
        "id": "XyvHDywbQUy0"
      },
      "source": [
        "\n",
        "\n",
        "*   **IRIS data**\n"
      ]
    },
    {
      "cell_type": "code",
      "metadata": {
        "id": "PiTktMrRQn-m",
        "outputId": "eb927bce-b583-41a6-94b8-1028ab8bdffb",
        "colab": {
          "base_uri": "https://localhost:8080/"
        }
      },
      "source": [
        "from google.colab import auth\n",
        "auth.authenticate_user()\n",
        "from pydrive.drive import GoogleDrive\n",
        "from pydrive.auth import GoogleAuth\n",
        "from oauth2client.client import GoogleCredentials\n",
        "import numpy as np\n",
        "import numpy.core.defchararray as np_f\n",
        "\n",
        "gauth = GoogleAuth()\n",
        "gauth.credentials = GoogleCredentials.get_application_default()\n",
        "drive = GoogleDrive(gauth)\n",
        "#đây là chuỗi ký tự chữ và số dài xuất hiện khi bạn nhấp vào \"lấy liên kết để chia sẻ\"\n",
        "myfile = drive.CreateFile({'id': '1AhaTBU0uGWiEaij7ckjerqHKl2u7xz-n'})\n",
        "myfile.GetContentFile('iris_full.csv')\n",
        "# Lấy các đặc trưng và lưu vào biến X\n",
        "X = np.genfromtxt('iris_full.csv',delimiter=',',dtype='float',usecols=[0,1,2,3],skip_header=1)\n",
        "print(X.shape)\n",
        "# Lấy các species và lưu vào biến y\n",
        "y = np.genfromtxt('iris_full.csv',delimiter=',',dtype='str',usecols=4,skip_header=1)\n",
        "#thay chuỗi bằng số \n",
        "categories = np.unique(y)\n",
        "for i in range(categories.size):\n",
        "  y = np_f.replace(y,categories[i],str(i))\n",
        "# đưa về kiểu float :\n",
        "y = y.astype('float')\n",
        "print(y)"
      ],
      "execution_count": null,
      "outputs": [
        {
          "output_type": "stream",
          "text": [
            "(150, 4)\n",
            "[0. 0. 0. 0. 0. 0. 0. 0. 0. 0. 0. 0. 0. 0. 0. 0. 0. 0. 0. 0. 0. 0. 0. 0.\n",
            " 0. 0. 0. 0. 0. 0. 0. 0. 0. 0. 0. 0. 0. 0. 0. 0. 0. 0. 0. 0. 0. 0. 0. 0.\n",
            " 0. 0. 1. 1. 1. 1. 1. 1. 1. 1. 1. 1. 1. 1. 1. 1. 1. 1. 1. 1. 1. 1. 1. 1.\n",
            " 1. 1. 1. 1. 1. 1. 1. 1. 1. 1. 1. 1. 1. 1. 1. 1. 1. 1. 1. 1. 1. 1. 1. 1.\n",
            " 1. 1. 1. 1. 2. 2. 2. 2. 2. 2. 2. 2. 2. 2. 2. 2. 2. 2. 2. 2. 2. 2. 2. 2.\n",
            " 2. 2. 2. 2. 2. 2. 2. 2. 2. 2. 2. 2. 2. 2. 2. 2. 2. 2. 2. 2. 2. 2. 2. 2.\n",
            " 2. 2. 2. 2. 2. 2.]\n"
          ],
          "name": "stdout"
        }
      ]
    },
    {
      "cell_type": "markdown",
      "metadata": {
        "id": "YkQwuXjxgjoL"
      },
      "source": [
        "**Image Data**\n"
      ]
    },
    {
      "cell_type": "code",
      "metadata": {
        "id": "leba54Q_gtlh"
      },
      "source": [
        ""
      ],
      "execution_count": 28,
      "outputs": []
    },
    {
      "cell_type": "markdown",
      "metadata": {
        "id": "ZAmIo23jg1Pv"
      },
      "source": [
        "*   **Grayscale images**\n",
        "\n",
        "    \n",
        "\n",
        "\n",
        "\n",
        "\n"
      ]
    },
    {
      "cell_type": "markdown",
      "metadata": {
        "id": "NFdoYaoD_Xa3"
      },
      "source": [
        "![](https://i.imgur.com/upZZhv5.jpg)"
      ]
    },
    {
      "cell_type": "markdown",
      "metadata": {
        "id": "NzNOYlET_aMl"
      },
      "source": [
        ""
      ]
    },
    {
      "cell_type": "markdown",
      "metadata": {
        "id": "_3KtuwzzSGRC"
      },
      "source": [
        "*   **Image Classification: Image Data**"
      ]
    },
    {
      "cell_type": "markdown",
      "metadata": {
        "id": "GDJBu5me_b-N"
      },
      "source": [
        "![](https://i.imgur.com/VIf3cQV.jpg)"
      ]
    },
    {
      "cell_type": "markdown",
      "metadata": {
        "id": "df78Rzh5_jfn"
      },
      "source": [
        "![](https://i.imgur.com/HdcZAAA.jpg)"
      ]
    },
    {
      "cell_type": "markdown",
      "metadata": {
        "id": "1wqNc2WO_noF"
      },
      "source": [
        ""
      ]
    },
    {
      "cell_type": "markdown",
      "metadata": {
        "id": "M96lDXZchfCp"
      },
      "source": [
        "#**OpenCV**"
      ]
    },
    {
      "cell_type": "markdown",
      "metadata": {
        "id": "URsxfUTH_tCd"
      },
      "source": [
        "![](https://i.imgur.com/aVxWovj.jpg)"
      ]
    },
    {
      "cell_type": "markdown",
      "metadata": {
        "id": "9XH3V2l4_vku"
      },
      "source": [
        "![](https://i.imgur.com/JFLk2yd.jpg)"
      ]
    },
    {
      "cell_type": "markdown",
      "metadata": {
        "id": "KwQdqaLU_yr1"
      },
      "source": [
        ""
      ]
    },
    {
      "cell_type": "markdown",
      "metadata": {
        "id": "9f5-jqRxhmxJ"
      },
      "source": [
        ""
      ]
    }
  ]
}